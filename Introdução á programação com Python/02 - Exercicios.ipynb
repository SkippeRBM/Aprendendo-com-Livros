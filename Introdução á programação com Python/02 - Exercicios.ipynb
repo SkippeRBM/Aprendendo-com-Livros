{
 "cells": [
  {
   "cell_type": "markdown",
   "metadata": {},
   "source": [
    "### 2.1 - Converta expressões matemáticas\n",
    "- 10 + 20 x 30\n",
    "- 4² % 30\n",
    "- (9^4 + 20) x 6 - 1"
   ]
  },
  {
   "cell_type": "code",
   "execution_count": null,
   "metadata": {},
   "outputs": [],
   "source": [
    "(10 + 20) * 30"
   ]
  },
  {
   "cell_type": "code",
   "execution_count": null,
   "metadata": {},
   "outputs": [],
   "source": [
    "(4 ** 2) / 30"
   ]
  },
  {
   "cell_type": "code",
   "execution_count": null,
   "metadata": {},
   "outputs": [],
   "source": [
    "((9 ** 4) + 2) * (6 - 1)"
   ]
  },
  {
   "cell_type": "markdown",
   "metadata": {},
   "source": [
    "### 2.2 - Digite a seguinte expressão no interpretador:\n",
    "- 10 % 3 * 10 ** 2 + 1 - 10 * 4 / 2\n",
    "Depois faça no papel e observe como a prioridade das operações é importante."
   ]
  },
  {
   "cell_type": "code",
   "execution_count": null,
   "metadata": {},
   "outputs": [],
   "source": [
    "10 % 3 * 10 ** 2 + 1 - 10 * 4 / 2"
   ]
  },
  {
   "cell_type": "code",
   "execution_count": null,
   "metadata": {},
   "outputs": [],
   "source": [
    "((10 % 3) * (10 ** 2)) + (1 - ((10 * 4) / 2))"
   ]
  },
  {
   "cell_type": "markdown",
   "metadata": {},
   "source": [
    "### 2.3 - Faça um programa que exiba seu nome na tela:"
   ]
  },
  {
   "cell_type": "code",
   "execution_count": null,
   "metadata": {},
   "outputs": [],
   "source": [
    "a = input('Qual seu nome?')\n",
    "print(a)"
   ]
  },
  {
   "cell_type": "markdown",
   "metadata": {},
   "source": [
    "### 2.4 - Escreva um programa que exiba o resultado de 2a x 3b, em que a vale 3 e b vale 5."
   ]
  },
  {
   "cell_type": "code",
   "execution_count": null,
   "metadata": {},
   "outputs": [],
   "source": [
    "a = 3\n",
    "b = 5 \n",
    "print((2 * a) * (3 * b))"
   ]
  },
  {
   "cell_type": "markdown",
   "metadata": {},
   "source": [
    "### 2.5 - Faça um programa que calcule a soma de três variaveis e imprima o resultado na tela."
   ]
  },
  {
   "cell_type": "code",
   "execution_count": null,
   "metadata": {},
   "outputs": [],
   "source": [
    "a = int(input('Insira a primeira varival: '))\n",
    "b = int(input('Insira a segunda varival: '))\n",
    "c = int(input('Insira a terceira varival: '))\n",
    "print(a + b + c) "
   ]
  },
  {
   "cell_type": "markdown",
   "metadata": {},
   "source": [
    "### 2.6 - Modifique o programa 2.2, de forma que ele calcule um aumento de 15% para um salário de R$750.\n",
    "Programa 2.2 - Calculo de aumento de salário\n",
    "\n",
    "- salario = 1500;\n",
    "- aumento = 5;\n",
    "- print(salario + (salario * aumento / 100));\n",
    "- SAIDA: 1575.0;"
   ]
  },
  {
   "cell_type": "code",
   "execution_count": null,
   "metadata": {},
   "outputs": [],
   "source": [
    "salario = 750\n",
    "aumento = 15\n",
    "print(salario + (salario * aumento / 100))"
   ]
  }
 ],
 "metadata": {
  "language_info": {
   "name": "python"
  }
 },
 "nbformat": 4,
 "nbformat_minor": 2
}

{
 "cells": [
  {
   "cell_type": "markdown",
   "metadata": {},
   "source": [
    "### 2.1 - Converta expressões matemáticas\n",
    "- 10 + 20 x 30\n",
    "- 4² % 30\n",
    "- (9^4 + 20) x 6 - 1"
   ]
  },
  {
   "cell_type": "code",
   "execution_count": 1,
   "metadata": {},
   "outputs": [
    {
     "data": {
      "text/plain": [
       "900"
      ]
     },
     "execution_count": 1,
     "metadata": {},
     "output_type": "execute_result"
    }
   ],
   "source": [
    "(10 + 20) * 30"
   ]
  },
  {
   "cell_type": "code",
   "execution_count": 2,
   "metadata": {},
   "outputs": [
    {
     "data": {
      "text/plain": [
       "0.5333333333333333"
      ]
     },
     "execution_count": 2,
     "metadata": {},
     "output_type": "execute_result"
    }
   ],
   "source": [
    "(4 ** 2) / 30"
   ]
  },
  {
   "cell_type": "code",
   "execution_count": 3,
   "metadata": {},
   "outputs": [
    {
     "data": {
      "text/plain": [
       "32815"
      ]
     },
     "execution_count": 3,
     "metadata": {},
     "output_type": "execute_result"
    }
   ],
   "source": [
    "((9 ** 4) + 2) * (6 - 1)"
   ]
  },
  {
   "cell_type": "markdown",
   "metadata": {},
   "source": [
    "### 2.2 - Digite a seguinte expressão no interpretador:\n",
    "- 10 % 3 * 10 ** 2 + 1 - 10 * 4 / 2\n",
    "Depois faça no papel e observe como a prioridade das operações é importante."
   ]
  },
  {
   "cell_type": "code",
   "execution_count": 4,
   "metadata": {},
   "outputs": [
    {
     "data": {
      "text/plain": [
       "81.0"
      ]
     },
     "execution_count": 4,
     "metadata": {},
     "output_type": "execute_result"
    }
   ],
   "source": [
    "10 % 3 * 10 ** 2 + 1 - 10 * 4 / 2"
   ]
  },
  {
   "cell_type": "code",
   "execution_count": 5,
   "metadata": {},
   "outputs": [
    {
     "data": {
      "text/plain": [
       "81.0"
      ]
     },
     "execution_count": 5,
     "metadata": {},
     "output_type": "execute_result"
    }
   ],
   "source": [
    "((10 % 3) * (10 ** 2)) + (1 - ((10 * 4) / 2))"
   ]
  },
  {
   "cell_type": "markdown",
   "metadata": {},
   "source": [
    "### 2.3 - Faça um programa que exiba seu nome na tela:"
   ]
  },
  {
   "cell_type": "code",
   "execution_count": 6,
   "metadata": {},
   "outputs": [
    {
     "name": "stdout",
     "output_type": "stream",
     "text": [
      "Qual seu nome?Ramon\n",
      "Ramon\n"
     ]
    }
   ],
   "source": [
    "a = input('Qual seu nome?')\n",
    "print(a)"
   ]
  },
  {
   "cell_type": "markdown",
   "metadata": {},
   "source": [
    "### 2.4 - Escreva um programa que exiba o resultado de 2a x 3b, em que a vale 3 e b vale 5."
   ]
  },
  {
   "cell_type": "code",
   "execution_count": 7,
   "metadata": {},
   "outputs": [
    {
     "name": "stdout",
     "output_type": "stream",
     "text": [
      "90\n"
     ]
    }
   ],
   "source": [
    "a = 3\n",
    "b = 5 \n",
    "print((2 * a) * (3 * b))"
   ]
  },
  {
   "cell_type": "markdown",
   "metadata": {},
   "source": [
    "### 2.5 - Faça um programa que calcule a soma de três variaveis e imprima o resultado na tela."
   ]
  },
  {
   "cell_type": "code",
   "execution_count": 8,
   "metadata": {},
   "outputs": [
    {
     "name": "stdout",
     "output_type": "stream",
     "text": [
      "Insira a primeira varival: 5\n",
      "Insira a segunda varival: 6\n",
      "Insira a terceira varival: 8\n",
      "19\n"
     ]
    }
   ],
   "source": [
    "a = int(input('Insira a primeira varival: '))\n",
    "b = int(input('Insira a segunda varival: '))\n",
    "c = int(input('Insira a terceira varival: '))\n",
    "print(a + b + c) "
   ]
  },
  {
   "cell_type": "markdown",
   "metadata": {},
   "source": [
    "### 2.6 - Modifique o programa 2.2, de forma que ele calcule um aumento de 15% para um salário de R$750.\n",
    "Programa 2.2 - Calculo de aumento de salário\n",
    "\n",
    "- salario = 1500;\n",
    "- aumento = 5;\n",
    "- print(salario + (salario * aumento / 100));\n",
    "- SAIDA: 1575.0;"
   ]
  },
  {
   "cell_type": "code",
   "execution_count": 9,
   "metadata": {},
   "outputs": [
    {
     "name": "stdout",
     "output_type": "stream",
     "text": [
      "862.5\n"
     ]
    }
   ],
   "source": [
    "salario = 750\n",
    "aumento = 15\n",
    "print(salario + (salario * aumento / 100))"
   ]
  },
  {
   "cell_type": "code",
   "execution_count": null,
   "metadata": {},
   "outputs": [],
   "source": []
  }
 ],
 "metadata": {
  "kernelspec": {
   "display_name": "Python 3 (ipykernel)",
   "language": "python",
   "name": "python3"
  },
  "language_info": {
   "codemirror_mode": {
    "name": "ipython",
    "version": 3
   },
   "file_extension": ".py",
   "mimetype": "text/x-python",
   "name": "python",
   "nbconvert_exporter": "python",
   "pygments_lexer": "ipython3",
   "version": "3.10.9"
  }
 },
 "nbformat": 4,
 "nbformat_minor": 2
}

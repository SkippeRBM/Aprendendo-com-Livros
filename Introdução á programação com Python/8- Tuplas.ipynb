{
 "cells": [
  {
   "cell_type": "markdown",
   "id": "bacd5910-f774-489c-85a4-5fa61b388f6e",
   "metadata": {},
   "source": [
    "# TUPLAS\n",
    "\n",
    "Tuplas são estruturas de dados semelhantes às listas, porém imutáveis. Isso significa que, uma vez criada, uma tupla não pode ser modificada, adicionando ou removendo elementos.\n",
    "\n",
    "Assim como as listas, as tuplas podem conter diversos valores, mas diferentemente das listas, elas são criadas utilizando parênteses `( )`.\n",
    "\n",
    "As mesmas regras de acesso aos elementos de uma lista se aplicam às tuplas. No entanto, qualquer tentativa de alteração dos dados em uma tupla resultará em um erro.\n",
    "\n",
    "As tuplas são úteis em situações em que se deseja garantir que os dados permaneçam imutáveis, como em contratos, registros ou em situações em que a integridade dos dados é essencial."
   ]
  },
  {
   "cell_type": "code",
   "execution_count": 1,
   "id": "7376cd06-a4ba-4a37-b08c-4013659cff97",
   "metadata": {},
   "outputs": [],
   "source": [
    "t = (1, 2, 3)"
   ]
  },
  {
   "cell_type": "code",
   "execution_count": 2,
   "id": "48c69529-cbaf-4109-a079-334f654b1f60",
   "metadata": {},
   "outputs": [
    {
     "data": {
      "text/plain": [
       "(1, 2, 3)"
      ]
     },
     "execution_count": 2,
     "metadata": {},
     "output_type": "execute_result"
    }
   ],
   "source": [
    "t"
   ]
  },
  {
   "cell_type": "code",
   "execution_count": 3,
   "id": "e410f3b8-d441-4359-8496-606c3a5ef1d3",
   "metadata": {},
   "outputs": [
    {
     "data": {
      "text/plain": [
       "2"
      ]
     },
     "execution_count": 3,
     "metadata": {},
     "output_type": "execute_result"
    }
   ],
   "source": [
    "t[1]"
   ]
  },
  {
   "cell_type": "code",
   "execution_count": 4,
   "id": "b0cf69cb-ac29-4cf8-a06c-aac43e67e51d",
   "metadata": {},
   "outputs": [
    {
     "data": {
      "text/plain": [
       "(1, 2, 3)"
      ]
     },
     "execution_count": 4,
     "metadata": {},
     "output_type": "execute_result"
    }
   ],
   "source": [
    "t[:]"
   ]
  },
  {
   "cell_type": "code",
   "execution_count": 5,
   "id": "f8321028-4884-48db-b6ee-addd972ca25a",
   "metadata": {},
   "outputs": [
    {
     "data": {
      "text/plain": [
       "(1, 2)"
      ]
     },
     "execution_count": 5,
     "metadata": {},
     "output_type": "execute_result"
    }
   ],
   "source": [
    " t[:-1]"
   ]
  },
  {
   "cell_type": "markdown",
   "id": "27acfdae-bb1c-4cf5-ae35-b9dda2361b38",
   "metadata": {},
   "source": [
    "As tuplas por serem imutaveis tem essa limitação para servirem como criações de inumeras variaveis simultaneamente. Equivalente a dizer \"respectivamente\" na matematica em funções. Ex:"
   ]
  },
  {
   "cell_type": "code",
   "execution_count": 6,
   "id": "8027c671-c594-49cd-927a-c0f97a259373",
   "metadata": {},
   "outputs": [],
   "source": [
    "a, b = (1, 2)"
   ]
  },
  {
   "cell_type": "code",
   "execution_count": 9,
   "id": "fa577893-b05a-496d-ba28-7f4a7063b258",
   "metadata": {},
   "outputs": [
    {
     "data": {
      "text/plain": [
       "1"
      ]
     },
     "execution_count": 9,
     "metadata": {},
     "output_type": "execute_result"
    }
   ],
   "source": [
    "a"
   ]
  },
  {
   "cell_type": "code",
   "execution_count": 10,
   "id": "82749940-fcb9-4f5e-af29-6f18416b6bfb",
   "metadata": {},
   "outputs": [
    {
     "data": {
      "text/plain": [
       "2"
      ]
     },
     "execution_count": 10,
     "metadata": {},
     "output_type": "execute_result"
    }
   ],
   "source": [
    "b"
   ]
  },
  {
   "cell_type": "code",
   "execution_count": 11,
   "id": "5f2cf3c2-c98a-4d3c-b060-8dca5a2e9002",
   "metadata": {
    "tags": []
   },
   "outputs": [
    {
     "data": {
      "text/plain": [
       "('Leão', 'Girafa', 'Gato')"
      ]
     },
     "execution_count": 11,
     "metadata": {},
     "output_type": "execute_result"
    }
   ],
   "source": [
    "animais = (\"Leão\", \"Girafa\", \"Gato\")\n",
    "animais"
   ]
  },
  {
   "cell_type": "code",
   "execution_count": 12,
   "id": "09241cfb-34d9-4220-ab46-11e5afad22f4",
   "metadata": {
    "tags": []
   },
   "outputs": [
    {
     "ename": "TypeError",
     "evalue": "'tuple' object does not support item assignment",
     "output_type": "error",
     "traceback": [
      "\u001b[1;31m---------------------------------------------------------------------------\u001b[0m",
      "\u001b[1;31mTypeError\u001b[0m                                 Traceback (most recent call last)",
      "Cell \u001b[1;32mIn[12], line 1\u001b[0m\n\u001b[1;32m----> 1\u001b[0m animais[\u001b[38;5;241m0\u001b[39m] \u001b[38;5;241m=\u001b[39m \u001b[38;5;124m\"\u001b[39m\u001b[38;5;124mMacaco\u001b[39m\u001b[38;5;124m\"\u001b[39m\n",
      "\u001b[1;31mTypeError\u001b[0m: 'tuple' object does not support item assignment"
     ]
    }
   ],
   "source": [
    "animais[0] = \"Macaco\""
   ]
  },
  {
   "cell_type": "markdown",
   "id": "358dd0be-66d5-4473-b144-a7b6f83ccf97",
   "metadata": {},
   "source": [
    "Como podemos confirmar, tuplas são imutaveis."
   ]
  },
  {
   "cell_type": "code",
   "execution_count": null,
   "id": "dcb7b3fd-160d-43da-ba3a-2b720849610e",
   "metadata": {},
   "outputs": [],
   "source": []
  }
 ],
 "metadata": {
  "kernelspec": {
   "display_name": "Python 3 (ipykernel)",
   "language": "python",
   "name": "python3"
  },
  "language_info": {
   "codemirror_mode": {
    "name": "ipython",
    "version": 3
   },
   "file_extension": ".py",
   "mimetype": "text/x-python",
   "name": "python",
   "nbconvert_exporter": "python",
   "pygments_lexer": "ipython3",
   "version": "3.10.9"
  }
 },
 "nbformat": 4,
 "nbformat_minor": 5
}

{
 "cells": [
  {
   "cell_type": "markdown",
   "id": "52b80d15-4c81-4d72-a428-b3167019acb4",
   "metadata": {},
   "source": [
    "# Operações com Números em Python\n",
    "\n",
    "Python opera de forma semelhante ao Excel ou a uma calculadora científica, permitindo realizar várias operações matemáticas.\n",
    "\n",
    "| Operador | Descrição                  |\n",
    "|----------|----------------------------|\n",
    "| `+`      | Adição                     |\n",
    "| `-`      | Subtração                  |\n",
    "| `*`      | Multiplicação              |\n",
    "| `/`      | Divisão (com resultados fracionados) |\n",
    "| `//`     | Divisão (com resultados inteiros)    |\n",
    "| `%`      | Módulo ou resto            |\n",
    "| `**`     | Exponenciação              |\n"
   ]
  },
  {
   "cell_type": "code",
   "execution_count": 1,
   "id": "5d37134a-f654-46f8-9847-ce9d29ff4f5d",
   "metadata": {},
   "outputs": [
    {
     "data": {
      "text/plain": [
       "4"
      ]
     },
     "execution_count": 1,
     "metadata": {},
     "output_type": "execute_result"
    }
   ],
   "source": [
    "2+2"
   ]
  },
  {
   "cell_type": "code",
   "execution_count": 2,
   "id": "95d32c30-678c-4308-b308-108863827b6d",
   "metadata": {},
   "outputs": [
    {
     "data": {
      "text/plain": [
       "1"
      ]
     },
     "execution_count": 2,
     "metadata": {},
     "output_type": "execute_result"
    }
   ],
   "source": [
    "2-1"
   ]
  },
  {
   "cell_type": "code",
   "execution_count": 3,
   "id": "c40ad303-50c5-428c-bed0-5b1ba67de4bf",
   "metadata": {},
   "outputs": [
    {
     "data": {
      "text/plain": [
       "24"
      ]
     },
     "execution_count": 3,
     "metadata": {},
     "output_type": "execute_result"
    }
   ],
   "source": [
    "3*8"
   ]
  },
  {
   "cell_type": "code",
   "execution_count": 4,
   "id": "87d836af-a1b2-491f-ad8c-c576df11c0e0",
   "metadata": {},
   "outputs": [
    {
     "data": {
      "text/plain": [
       "0.8"
      ]
     },
     "execution_count": 4,
     "metadata": {},
     "output_type": "execute_result"
    }
   ],
   "source": [
    "4/5"
   ]
  },
  {
   "cell_type": "code",
   "execution_count": 5,
   "id": "8ecefc23-0191-4a20-a5bc-5fdc2e8a3fb6",
   "metadata": {},
   "outputs": [
    {
     "data": {
      "text/plain": [
       "47.40909090909091"
      ]
     },
     "execution_count": 5,
     "metadata": {},
     "output_type": "execute_result"
    }
   ],
   "source": [
    "2+2-7*9/6+80/77*49-3*-1"
   ]
  },
  {
   "cell_type": "markdown",
   "id": "8faa75c0",
   "metadata": {},
   "source": [
    "Em python existe a mesma lógica da calculadora cientifica, então se deseja priorizar ou decidir a ordem em que as operações matemáticas são realizadas utilize \"( )\"."
   ]
  },
  {
   "cell_type": "code",
   "execution_count": 6,
   "id": "5b787449-3c39-4dce-9799-f412121640a0",
   "metadata": {},
   "outputs": [
    {
     "data": {
      "text/plain": [
       "47.52597402597402"
      ]
     },
     "execution_count": 6,
     "metadata": {},
     "output_type": "execute_result"
    }
   ],
   "source": [
    "(2+2)-7*(9/6)+(80/77)*(49-3*(-1))"
   ]
  },
  {
   "cell_type": "markdown",
   "id": "219fc6f9-4568-4a29-88a7-e1f2408cc473",
   "metadata": {},
   "source": [
    "é comum em python usarmos o `_` para separar as casas dos milesimais, a exemplo para 1000(mil) ou 1.000 ou 1_000, essa ajuda é basicamente para limpeza do código e manutenção de compreensão do mesmo."
   ]
  },
  {
   "cell_type": "code",
   "execution_count": 7,
   "id": "326f5e22-6f6f-4682-bfc2-4815efdc76f9",
   "metadata": {
    "tags": []
   },
   "outputs": [
    {
     "data": {
      "text/plain": [
       "1000"
      ]
     },
     "execution_count": 7,
     "metadata": {},
     "output_type": "execute_result"
    }
   ],
   "source": [
    "a = 1_000\n",
    "a"
   ]
  },
  {
   "cell_type": "code",
   "execution_count": 8,
   "id": "01a28b76-aa9d-4a9e-98b4-d4c24ab0302e",
   "metadata": {
    "tags": []
   },
   "outputs": [
    {
     "data": {
      "text/plain": [
       "1000"
      ]
     },
     "execution_count": 8,
     "metadata": {},
     "output_type": "execute_result"
    }
   ],
   "source": [
    "1_000"
   ]
  },
  {
   "cell_type": "markdown",
   "id": "ecca99c7-2169-4689-ae7f-ed7bce35ce60",
   "metadata": {},
   "source": [
    "O python a partir do 3,6 ignora esse sublinhado, o que nos facilitar ler no futuro o código ou outro programador.\n",
    "é saudavel se evitar o `_` em caso de numero como 100 ( 1_00, 1_0_0, 10_0) por tornar seu código mais confuso e não mais legivel."
   ]
  },
  {
   "cell_type": "markdown",
   "id": "7f0424ca-e580-4cd1-b5b6-8d78fae0c257",
   "metadata": {},
   "source": [
    "### O PONTO\n",
    "\n",
    "O ponto é utilizado para separar as casas decimais após o zero. Em números floats ou sempre que precisar escrever números fracionários, utilize o `.` em vez da vírgula. No Python, a vírgula é utilizada para separar os dados dentro de listas, dicionários, etc.\n",
    "\n",
    "É conveniente usar o ponto junto com o sublinhado.\n"
   ]
  },
  {
   "cell_type": "code",
   "execution_count": 9,
   "id": "f6539eb2-157b-4822-bd29-c37a69e2ba98",
   "metadata": {
    "tags": []
   },
   "outputs": [
    {
     "data": {
      "text/plain": [
       "1981.75"
      ]
     },
     "execution_count": 9,
     "metadata": {},
     "output_type": "execute_result"
    }
   ],
   "source": [
    "1_981.75"
   ]
  },
  {
   "cell_type": "code",
   "execution_count": 10,
   "id": "b5d414ad-c8be-41b9-aaef-3d27aaa702da",
   "metadata": {
    "tags": []
   },
   "outputs": [
    {
     "data": {
      "text/plain": [
       "1000945.7854623161"
      ]
     },
     "execution_count": 10,
     "metadata": {},
     "output_type": "execute_result"
    }
   ],
   "source": [
    "a = 1_000_945.7854623161\n",
    "a"
   ]
  },
  {
   "cell_type": "markdown",
   "id": "56ef3fb9-809e-4ffc-a876-a2aae7204c7a",
   "metadata": {},
   "source": [
    "### Decimais\n",
    "\n",
    "Ao digitarmos informações para o Python processar, geralmente escrevemos em decimais, como \"543 = 500 + 40 + 3\" ou \"543 = 5x10² + 4x10¹ + 3x10º\". \n",
    "\n",
    "No entanto, o Python interpreta internamente todas essas informações em binário. Isso significa que, para visualizar em binário ou outras formas de exibição, precisamos solicitar explicitamente.\n",
    "\n",
    "Por exemplo, em binário, o número 543 seria representado como \"1000011111\"."
   ]
  },
  {
   "cell_type": "code",
   "execution_count": 11,
   "id": "21e8c4ae-6782-487a-b408-ef107d264d5f",
   "metadata": {
    "tags": []
   },
   "outputs": [
    {
     "data": {
      "text/plain": [
       "15"
      ]
     },
     "execution_count": 11,
     "metadata": {},
     "output_type": "execute_result"
    }
   ],
   "source": [
    "2 * (2 ** 2) + 3 * (2 ** 1) + 1 * ( 2** 0)"
   ]
  },
  {
   "cell_type": "code",
   "execution_count": 12,
   "id": "c347e137-ab8a-4e26-be51-11d5007c55aa",
   "metadata": {
    "tags": []
   },
   "outputs": [
    {
     "data": {
      "text/plain": [
       "0.30000000000000004"
      ]
     },
     "execution_count": 12,
     "metadata": {},
     "output_type": "execute_result"
    }
   ],
   "source": [
    "3 * 0.1"
   ]
  },
  {
   "cell_type": "markdown",
   "id": "89077af1-651a-4ffa-8fdb-4c0525e0d8f4",
   "metadata": {},
   "source": [
    "### Precisão de Divisão\n",
    "\n",
    "Ao realizar divisões com resultados extensos e precisos, muitas vezes nos deparamos com a exibição de um número consideravelmente grande. Como podemos lidar com esse problema de apresentação? Existem várias abordagens para isso, mas duas das mais comuns envolvem os métodos embutidos `int` e `float`.\n",
    "\n",
    "- **int**: Este método é usado para retornar a parte inteira de um número, removendo qualquer parte fracionária.\n",
    "- **float**: Por outro lado, o método `float` é utilizado para representar números com parte fracionária, ou seja, números decimais.\n"
   ]
  },
  {
   "cell_type": "code",
   "execution_count": 13,
   "id": "32c1ccba-dfc3-4497-b7c7-397f07e81b7f",
   "metadata": {
    "tags": []
   },
   "outputs": [
    {
     "data": {
      "text/plain": [
       "0"
      ]
     },
     "execution_count": 13,
     "metadata": {},
     "output_type": "execute_result"
    }
   ],
   "source": [
    "int(3 * 0.1)"
   ]
  },
  {
   "cell_type": "code",
   "execution_count": 14,
   "id": "a55dc8f0-6394-4d44-98ce-2ebcfadb7e3d",
   "metadata": {
    "tags": []
   },
   "outputs": [
    {
     "data": {
      "text/plain": [
       "0.30000000000000004"
      ]
     },
     "execution_count": 14,
     "metadata": {},
     "output_type": "execute_result"
    }
   ],
   "source": [
    "float(3 * 0.1)"
   ]
  },
  {
   "cell_type": "code",
   "execution_count": 15,
   "id": "e5ccda55-eeb9-4b32-8b13-b109d3b90606",
   "metadata": {
    "tags": []
   },
   "outputs": [
    {
     "data": {
      "text/plain": [
       "'0.30'"
      ]
     },
     "execution_count": 15,
     "metadata": {},
     "output_type": "execute_result"
    }
   ],
   "source": [
    "format(3 * 0.1, \".2f\")"
   ]
  },
  {
   "cell_type": "markdown",
   "id": "0826c047-4cd6-4eb7-8cdf-1528a413051a",
   "metadata": {},
   "source": [
    "### Manipulação de Formatação\n",
    "\n",
    "Quando precisamos formatar números de maneira específica, a função `.format` é uma ferramenta bastante útil. Por exemplo, ao acompanhar essa função com `\", \".2f\"`, estamos indicando que desejamos exibir apenas dois dígitos após o ponto decimal.\n",
    "\n",
    "Além disso, existem outras formas de representação numérica, como base 8 (octal) e base 16 (hexadecimal). Podemos inserir números nessas bases utilizando os prefixos específicos: `0b` para binário, `0o` para octal e `0x` para hexadecimal.\n",
    "\n",
    "No entanto, é importante observar que essa abordagem não é muito comum no dia a dia.\n"
   ]
  },
  {
   "cell_type": "code",
   "execution_count": 16,
   "id": "d5872dd6-a323-4ee3-bcb7-eec3c75bcacf",
   "metadata": {
    "tags": []
   },
   "outputs": [
    {
     "data": {
      "text/plain": [
       "2"
      ]
     },
     "execution_count": 16,
     "metadata": {},
     "output_type": "execute_result"
    }
   ],
   "source": [
    "a = 0b10 #Base 2 - binário\n",
    "a"
   ]
  },
  {
   "cell_type": "code",
   "execution_count": 17,
   "id": "bdba3887-dc07-4736-a911-9d00c9b121b7",
   "metadata": {
    "tags": []
   },
   "outputs": [
    {
     "data": {
      "text/plain": [
       "16"
      ]
     },
     "execution_count": 17,
     "metadata": {},
     "output_type": "execute_result"
    }
   ],
   "source": [
    "b = 0x10 #Base 16 - hexadecimal\n",
    "b"
   ]
  },
  {
   "cell_type": "code",
   "execution_count": 18,
   "id": "8ebb3141-2ceb-4b3a-b23a-fc02c675df37",
   "metadata": {
    "tags": []
   },
   "outputs": [
    {
     "data": {
      "text/plain": [
       "8"
      ]
     },
     "execution_count": 18,
     "metadata": {},
     "output_type": "execute_result"
    }
   ],
   "source": [
    "c = 0o10 #Base 8 - Octal\n",
    "c"
   ]
  },
  {
   "cell_type": "markdown",
   "id": "1596049c-89e6-49f9-adac-3ac3e754c481",
   "metadata": {},
   "source": [
    "Independentemente de qual será a base que você ira inserir os dados eles sempre serão exibidos em base decimal, pois a base usada não é armazenada na varialvel em si, apenas o valor convertido."
   ]
  },
  {
   "cell_type": "code",
   "execution_count": null,
   "id": "c5cf4c2b-149b-46d8-9575-b01ab59ab7a7",
   "metadata": {},
   "outputs": [],
   "source": []
  }
 ],
 "metadata": {
  "kernelspec": {
   "display_name": "Python 3 (ipykernel)",
   "language": "python",
   "name": "python3"
  },
  "language_info": {
   "codemirror_mode": {
    "name": "ipython",
    "version": 3
   },
   "file_extension": ".py",
   "mimetype": "text/x-python",
   "name": "python",
   "nbconvert_exporter": "python",
   "pygments_lexer": "ipython3",
   "version": "3.10.9"
  }
 },
 "nbformat": 4,
 "nbformat_minor": 5
}

{
 "cells": [
  {
   "cell_type": "markdown",
   "id": "ae86cda6-093e-4487-905b-4ffd38bd2888",
   "metadata": {},
   "source": [
    "# COMANDOS CONDICIONAIS (IF, ELSE, ELIF)\n",
    "\n",
    "Comandos condicionais servem para inserir desvios no código. Um desvio é para comunicar ao comunicar ao computador que ação tomar dada uma condição.\n",
    "\n",
    "A exemplo: \n",
    "Ao acordar\n",
    "\"Se estiver chovendo, levar guarda chuva, senão, deixar em casa\""
   ]
  },
  {
   "cell_type": "raw",
   "id": "245afc7e-b965-42d5-a563-4d86b11eac03",
   "metadata": {},
   "source": [
    "Para adicionar comandos condicionais a sintaxe básica segue como:\n",
    "\n",
    "*if (condição):\n",
    "    #intruções para o bloco verdade\n",
    "*else:\n",
    "    #intruções para o bloco falso"
   ]
  },
  {
   "cell_type": "markdown",
   "id": "167566b2-30de-433e-bc66-d8463e7841aa",
   "metadata": {},
   "source": [
    "Caso precise estabelecer mais de uma condição em seu código, use a instrução **elif**, isso elimina o uso excessivo de \"else if\":"
   ]
  },
  {
   "cell_type": "raw",
   "id": "2c10dba0-4fd7-4d1d-b5b9-adb561f76385",
   "metadata": {},
   "source": [
    "if (condição 1):\n",
    "    #intruções para o bloco condição 1\n",
    "elif (condição 2):\n",
    "    #intruções para o bloco condição 2\n",
    "else :\n",
    "    #intruções para o bloco final caso os anteriores não sejam executados"
   ]
  },
  {
   "cell_type": "markdown",
   "id": "e401c522-e334-4177-a93b-a218ca2405dc",
   "metadata": {},
   "source": [
    "*Note que no final das linhas do **if, elif e else** é obrigatório inserir **\":\"***\n",
    "\n",
    "Voce pode usar inumeros **elif** em seu código, só depende da quantidade de condições que voce precisa testar, sempre **elif e else** após o **if**."
   ]
  },
  {
   "cell_type": "raw",
   "id": "e85063e2-0af2-4b23-ab57-2840fd1cae95",
   "metadata": {},
   "source": [
    "EXEMPLO 1: Ler um valor numérico inserido e depois verificar se esse valor é maior que 0(Zero):"
   ]
  },
  {
   "cell_type": "code",
   "execution_count": 3,
   "id": "ec4b9288-742b-4092-b190-08c9ff32c9d4",
   "metadata": {
    "tags": []
   },
   "outputs": [
    {
     "name": "stdin",
     "output_type": "stream",
     "text": [
      "Insira um valor -5\n"
     ]
    }
   ],
   "source": [
    "valor = int(input(\"Insira um valor\"))"
   ]
  },
  {
   "cell_type": "code",
   "execution_count": 4,
   "id": "684f8b7e-8958-499c-846a-21bea6084f45",
   "metadata": {
    "tags": []
   },
   "outputs": [],
   "source": [
    "if valor > 0:\n",
    "    print(\"O número é maior que 0(Zero)\")"
   ]
  },
  {
   "cell_type": "markdown",
   "id": "c5fb3dcd-10f8-44d7-a5c5-eb60e29001cb",
   "metadata": {},
   "source": [
    "Nesse caso se inserirmos um valor menor que 0(zero), nosso código nada fará, pois não adicionamos essa condição, podemos então inserir a intrução **else**, para quando a condicional for falsa:"
   ]
  },
  {
   "cell_type": "code",
   "execution_count": 5,
   "id": "352a70aa-6359-4e07-8880-c594652c8c89",
   "metadata": {
    "tags": []
   },
   "outputs": [
    {
     "name": "stdout",
     "output_type": "stream",
     "text": [
      "O número informado é menor ou igual a 0(Zero)\n"
     ]
    }
   ],
   "source": [
    "if valor > 0:\n",
    "    print(\"O número informado é maior que 0(Zero)\")\n",
    "else :\n",
    "    print(\"O número informado é menor ou igual a 0(Zero)\")"
   ]
  },
  {
   "cell_type": "raw",
   "id": "6d85acac-40d4-4253-a67e-f67c781b5964",
   "metadata": {},
   "source": [
    "EXEMPLO 2: Precisamos dizer se um aluno esta aprovado(média maior ou igual a 6), reprovado(média inferior a 3) e final(média maior ou igual a 3 e menor que 6). Onde receberemos a nota de 3 Avaliações que o aluno concluiu e o calculo da média destas implicará no resultado."
   ]
  },
  {
   "cell_type": "code",
   "execution_count": 6,
   "id": "3b0994d1-701b-48a7-b0fb-73f512570e86",
   "metadata": {
    "tags": []
   },
   "outputs": [
    {
     "name": "stdin",
     "output_type": "stream",
     "text": [
      "A nota do aluno na 1ª avaliação é: 8\n"
     ]
    }
   ],
   "source": [
    "nota1 = int(input(\"A nota do aluno na 1ª avaliação é:\"))"
   ]
  },
  {
   "cell_type": "code",
   "execution_count": 7,
   "id": "4542b8a6-c605-42e8-b15f-5831dbb7edd7",
   "metadata": {
    "tags": []
   },
   "outputs": [
    {
     "name": "stdin",
     "output_type": "stream",
     "text": [
      "A nota do aluno na 2ª avaliação é: 7\n"
     ]
    }
   ],
   "source": [
    "nota2 = int(input(\"A nota do aluno na 2ª avaliação é:\"))"
   ]
  },
  {
   "cell_type": "code",
   "execution_count": 8,
   "id": "cebd3282-168e-4f6f-89fa-90bccdfb3434",
   "metadata": {
    "tags": []
   },
   "outputs": [
    {
     "name": "stdin",
     "output_type": "stream",
     "text": [
      "Digite a nota da 3ª avaliação 4\n"
     ]
    }
   ],
   "source": [
    "nota3 = int(input(\"Digite a nota da 3ª avaliação\"))"
   ]
  },
  {
   "cell_type": "code",
   "execution_count": 9,
   "id": "ac06bb33-c037-45f7-a933-35eb61ae6ff4",
   "metadata": {
    "tags": []
   },
   "outputs": [],
   "source": [
    "media = (nota1 + nota2 + nota3)/3"
   ]
  },
  {
   "cell_type": "code",
   "execution_count": 10,
   "id": "9a64e3c0-038b-4319-b4bf-4b886e387c27",
   "metadata": {
    "tags": []
   },
   "outputs": [
    {
     "name": "stdout",
     "output_type": "stream",
     "text": [
      "Média: 6.333333333333333(APROVADO)\n"
     ]
    }
   ],
   "source": [
    "if media >= 6:\n",
    "    print(\"Média: \" + str(media) + \"(APROVADO)\")\n",
    "elif media < 3:\n",
    "    print(\"Média: \", media, \"(REPROVADO)\")\n",
    "else :\n",
    "    print(\"Média: \", media, \"(PROVA FINAL)\")"
   ]
  },
  {
   "cell_type": "markdown",
   "id": "9ba8079f-2797-49ae-bc6a-92c8830fae86",
   "metadata": {},
   "source": [
    "No print de **IF** usamos a função *\"str\"(Transformar em String)* pois usamos o operador **+** para juntar o texto com o valor da média. Já nos demais usamos apemas *\",\"* não é necessário colocar a função de conversão str. Faça como achar melhor,"
   ]
  },
  {
   "cell_type": "code",
   "execution_count": null,
   "id": "caa07b68-d6cd-4e75-a3ad-d9b6e73ee743",
   "metadata": {},
   "outputs": [],
   "source": []
  }
 ],
 "metadata": {
  "kernelspec": {
   "display_name": "Python 3 (ipykernel)",
   "language": "python",
   "name": "python3"
  },
  "language_info": {
   "codemirror_mode": {
    "name": "ipython",
    "version": 3
   },
   "file_extension": ".py",
   "mimetype": "text/x-python",
   "name": "python",
   "nbconvert_exporter": "python",
   "pygments_lexer": "ipython3",
   "version": "3.10.9"
  }
 },
 "nbformat": 4,
 "nbformat_minor": 5
}

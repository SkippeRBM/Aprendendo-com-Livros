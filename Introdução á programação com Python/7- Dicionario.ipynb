{
 "cells": [
  {
   "cell_type": "markdown",
   "id": "54f7cd1a-b971-4bc8-b034-1041b12e82de",
   "metadata": {},
   "source": [
    "# DICIONÁRIOS\n",
    "\n",
    "Dicionários são estruturas de dados utilizadas para armazenar pares de chave e valor. Enquanto em uma lista os elementos são acessados por índices numéricos, em um dicionário, cada elemento é acessado por uma chave que o identifica.\n",
    "\n",
    "Um dicionário é representado por chaves `{ }`, e cada par chave-valor é separado por dois pontos `:`. Por exemplo, `meu_dicionario = {\"nome\": \"Reymond\"}`.\n"
   ]
  },
  {
   "cell_type": "code",
   "execution_count": 2,
   "id": "08a5335e-c84b-47cb-8b24-12fd9172931d",
   "metadata": {},
   "outputs": [
    {
     "data": {
      "text/plain": [
       "{'nome': 'Reymond'}"
      ]
     },
     "execution_count": 2,
     "metadata": {},
     "output_type": "execute_result"
    }
   ],
   "source": [
    "FichaReymond = {\"nome\" : \"Reymond\"}\n",
    "FichaReymond"
   ]
  },
  {
   "cell_type": "markdown",
   "id": "2595e640-b8d9-4b13-99e9-195d5f250d11",
   "metadata": {},
   "source": [
    "Em dicionarios é possivel adicionas listas e diversos \"chaves\" e \"valores\" associados a ela e assim armazenar esse valores sempre em pares e solicitar os mesmos assim como em funções e imagem da função."
   ]
  },
  {
   "cell_type": "code",
   "execution_count": 3,
   "id": "678c9c8c-483a-4177-ae2f-844a0db490c5",
   "metadata": {},
   "outputs": [
    {
     "data": {
      "text/plain": [
       "{'nome': 'Reymond', 'idade': 27, 'filhos': ['Sophia', 'Apollo']}"
      ]
     },
     "execution_count": 3,
     "metadata": {},
     "output_type": "execute_result"
    }
   ],
   "source": [
    "FichaReymond = {\"nome\" : \"Reymond\", \"idade\" : 27, \"filhos\" : [\"Sophia\" , \"Apollo\"]}\n",
    "FichaReymond"
   ]
  },
  {
   "cell_type": "markdown",
   "id": "9a1eff9c-06d3-4c94-9e4d-aca3f01cdfe4",
   "metadata": {},
   "source": [
    "A diferença entre uma lista e um dicionario é uma caixa de variaveis que em vez de acessar através de um indice *(listas)* se acessa atravéz de um nome *(dicionario)*. A exemplo se desejar acessar os dados sobre os filhos de Reymond:"
   ]
  },
  {
   "cell_type": "code",
   "execution_count": 4,
   "id": "45eb3fcc-e248-4dc3-b566-d5a5785a7d41",
   "metadata": {},
   "outputs": [
    {
     "data": {
      "text/plain": [
       "['Sophia', 'Apollo']"
      ]
     },
     "execution_count": 4,
     "metadata": {},
     "output_type": "execute_result"
    }
   ],
   "source": [
    "FichaReymond[\"filhos\"]"
   ]
  },
  {
   "cell_type": "code",
   "execution_count": 5,
   "id": "798e23dc-d4cb-48f5-94ff-784a880aa1c5",
   "metadata": {},
   "outputs": [
    {
     "data": {
      "text/plain": [
       "27"
      ]
     },
     "execution_count": 5,
     "metadata": {},
     "output_type": "execute_result"
    }
   ],
   "source": [
    "FichaReymond[\"idade\"]"
   ]
  },
  {
   "cell_type": "markdown",
   "id": "fcdf2b90-2cde-4a9d-97f0-189f852ac8c0",
   "metadata": {},
   "source": [
    "Tambem se pode alterar valores em um dicionario assim como se faz em listas, se eu desejar alterar o registro de idade de Reymond posso simplesmente:"
   ]
  },
  {
   "cell_type": "code",
   "execution_count": 6,
   "id": "4e0a7dea-7ca2-492d-bac2-49c8ebaa7abe",
   "metadata": {},
   "outputs": [
    {
     "data": {
      "text/plain": [
       "{'nome': 'Reymond', 'idade': 36, 'filhos': ['Sophia', 'Apollo']}"
      ]
     },
     "execution_count": 6,
     "metadata": {},
     "output_type": "execute_result"
    }
   ],
   "source": [
    "FichaReymond[\"idade\"] = 36\n",
    "FichaReymond"
   ]
  },
  {
   "cell_type": "code",
   "execution_count": 7,
   "id": "46ef8a2c-af0a-4099-baff-a6ddd20bdd82",
   "metadata": {},
   "outputs": [
    {
     "data": {
      "text/plain": [
       "36"
      ]
     },
     "execution_count": 7,
     "metadata": {},
     "output_type": "execute_result"
    }
   ],
   "source": [
    "FichaReymond[\"idade\"]"
   ]
  },
  {
   "cell_type": "markdown",
   "id": "08615305-0e8a-418b-bb2a-aa8e3eec4812",
   "metadata": {},
   "source": [
    "Agora a idade dele é 36. Continuando para as mesmas aplicações posso adicionar o registro de origem como cidade de nascimento ao meu dicionario"
   ]
  },
  {
   "cell_type": "code",
   "execution_count": 8,
   "id": "cf48e28d-08bf-43d2-8be4-ec9d60172a77",
   "metadata": {},
   "outputs": [
    {
     "data": {
      "text/plain": [
       "{'nome': 'Reymond',\n",
       " 'idade': 36,\n",
       " 'filhos': ['Sophia', 'Apollo'],\n",
       " 'cidade': 'Vitória'}"
      ]
     },
     "execution_count": 8,
     "metadata": {},
     "output_type": "execute_result"
    }
   ],
   "source": [
    "FichaReymond[\"cidade\"] = \"Vitória\"\n",
    "FichaReymond"
   ]
  },
  {
   "cell_type": "markdown",
   "id": "8c9405e8-489b-472b-9ba4-d123e9ca5b26",
   "metadata": {},
   "source": [
    "Dicionarios tambem possuem alinhamento e claro, tambem se pode adicionar um dicionário dentro de outro, a exemplo:"
   ]
  },
  {
   "cell_type": "code",
   "execution_count": 9,
   "id": "0f8adb84-2490-4721-9733-08f61725a267",
   "metadata": {},
   "outputs": [
    {
     "data": {
      "text/plain": [
       "{'nome': 'Reymond',\n",
       " 'idade': 36,\n",
       " 'filhos': ['Sophia', 'Apollo'],\n",
       " 'cidade': 'Vitória',\n",
       " 'tipo sanguineo': {'Letra': 'O', 'Identificador': '+'}}"
      ]
     },
     "execution_count": 9,
     "metadata": {},
     "output_type": "execute_result"
    }
   ],
   "source": [
    "FichaReymond[\"tipo sanguineo\"] = {\"Letra\" : \"O\", \"Identificador\" : \"+\"}\n",
    "FichaReymond"
   ]
  },
  {
   "cell_type": "markdown",
   "id": "33723299-17fd-4781-9f82-6756a6063c3c",
   "metadata": {},
   "source": [
    "Os arquivos JSON se assemelham muito a este tipo de contrução de dicionário. Se quiser alcançar o Tipo sanguineo de Reymond ou só a Letra:"
   ]
  },
  {
   "cell_type": "code",
   "execution_count": 10,
   "id": "04ddf3a0-f169-4203-843e-6bd5156bd281",
   "metadata": {},
   "outputs": [
    {
     "data": {
      "text/plain": [
       "'O'"
      ]
     },
     "execution_count": 10,
     "metadata": {},
     "output_type": "execute_result"
    }
   ],
   "source": [
    "FichaReymond[\"tipo sanguineo\"][\"Letra\"]"
   ]
  },
  {
   "cell_type": "markdown",
   "id": "919e1cdc-7142-4cc9-9986-5b21fad50254",
   "metadata": {},
   "source": [
    "Dicionarios tambem possuem métodos embutidos como:"
   ]
  },
  {
   "cell_type": "code",
   "execution_count": 11,
   "id": "71d66455-bf77-4dae-ab97-f8491b58ba7e",
   "metadata": {},
   "outputs": [
    {
     "data": {
      "text/plain": [
       "dict_keys(['nome'])"
      ]
     },
     "execution_count": 11,
     "metadata": {},
     "output_type": "execute_result"
    }
   ],
   "source": [
    "FichaRamon.keys()"
   ]
  },
  {
   "cell_type": "markdown",
   "id": "119f1f9b-453b-447b-adee-a7cbf1898f68",
   "metadata": {},
   "source": [
    "**.keys()** que retorna as chaves de acesso aos valores do dicionario em forma de lista."
   ]
  },
  {
   "cell_type": "code",
   "execution_count": 12,
   "id": "a16370e5-2e73-4f6e-bed5-7b401f9c40ac",
   "metadata": {},
   "outputs": [
    {
     "data": {
      "text/plain": [
       "dict_values(['Reymond'])"
      ]
     },
     "execution_count": 12,
     "metadata": {},
     "output_type": "execute_result"
    }
   ],
   "source": [
    "FichaRamon.values()"
   ]
  },
  {
   "cell_type": "markdown",
   "id": "db0b82fe-574f-43e2-884f-d3718eedde3c",
   "metadata": {},
   "source": [
    "**.values()** que ira retornar dessa vez os valores em forma de lista."
   ]
  },
  {
   "cell_type": "code",
   "execution_count": 13,
   "id": "731d243f-702c-4b44-b53f-a86c8249a40b",
   "metadata": {},
   "outputs": [
    {
     "data": {
      "text/plain": [
       "dict_items([('nome', 'Reymond')])"
      ]
     },
     "execution_count": 13,
     "metadata": {},
     "output_type": "execute_result"
    }
   ],
   "source": [
    "FichaRamon.items()"
   ]
  },
  {
   "cell_type": "markdown",
   "id": "b9151055-6fdc-4c30-b3d0-c19b8063df22",
   "metadata": {},
   "source": [
    "e o **.items()** que nos retorna as chaves e valores em pares como separados e ordenados tambem em uma lista, nos permitindo trabalhar com esses dados de outra forma ou em outras ferramentas."
   ]
  },
  {
   "cell_type": "code",
   "execution_count": 14,
   "id": "2f2b7135-3e13-4ed0-ad19-ea6d47597c06",
   "metadata": {
    "tags": []
   },
   "outputs": [
    {
     "data": {
      "text/plain": [
       "{'alcides': 39, 'lukas': 18, 'bruna': 24, 'leonardo': 25}"
      ]
     },
     "execution_count": 14,
     "metadata": {},
     "output_type": "execute_result"
    }
   ],
   "source": [
    "nome_idades = {\"alcides\":39, \"lukas\":18, \"bruna\": 24, \"leonardo\": 25}\n",
    "nome_idades"
   ]
  },
  {
   "cell_type": "code",
   "execution_count": 15,
   "id": "6bcaf8ed-085d-48d7-a452-1c0209c46da1",
   "metadata": {
    "tags": []
   },
   "outputs": [
    {
     "name": "stdout",
     "output_type": "stream",
     "text": [
      "39\n"
     ]
    }
   ],
   "source": [
    "print(nome_idades[\"alcides\"])"
   ]
  },
  {
   "cell_type": "code",
   "execution_count": 16,
   "id": "6bc5f57d-7e2e-475a-b605-eea43bd3fce8",
   "metadata": {
    "tags": []
   },
   "outputs": [
    {
     "data": {
      "text/plain": [
       "4"
      ]
     },
     "execution_count": 16,
     "metadata": {},
     "output_type": "execute_result"
    }
   ],
   "source": [
    "len(nome_idades) #obtemos a quantidade de elementos no dicionário"
   ]
  },
  {
   "cell_type": "code",
   "execution_count": 17,
   "id": "ffdc578f-f9a0-4bb5-8144-a90f83264387",
   "metadata": {
    "tags": []
   },
   "outputs": [
    {
     "data": {
      "text/plain": [
       "{'alcides': 39, 'lukas': 18, 'bruna': 24, 'leonardo': 25, 'Pedro': 55}"
      ]
     },
     "execution_count": 17,
     "metadata": {},
     "output_type": "execute_result"
    }
   ],
   "source": [
    "nome_idades[\"Pedro\"] = 55\n",
    "nome_idades"
   ]
  },
  {
   "cell_type": "code",
   "execution_count": 18,
   "id": "a4f338b7-8aa8-4247-83cf-08bf14fb7dc0",
   "metadata": {
    "tags": []
   },
   "outputs": [
    {
     "data": {
      "text/plain": [
       "5"
      ]
     },
     "execution_count": 18,
     "metadata": {},
     "output_type": "execute_result"
    }
   ],
   "source": [
    "len(nome_idades)"
   ]
  },
  {
   "cell_type": "code",
   "execution_count": 19,
   "id": "2c18b13f-9bfc-4b4e-98d3-cbd6b9e4a976",
   "metadata": {
    "tags": []
   },
   "outputs": [
    {
     "data": {
      "text/plain": [
       "dict_keys(['alcides', 'lukas', 'bruna', 'leonardo', 'Pedro'])"
      ]
     },
     "execution_count": 19,
     "metadata": {},
     "output_type": "execute_result"
    }
   ],
   "source": [
    "nome_idades.keys()"
   ]
  },
  {
   "cell_type": "code",
   "execution_count": 20,
   "id": "74c09a93-c294-4df9-9b0e-4a15eff28317",
   "metadata": {
    "tags": []
   },
   "outputs": [
    {
     "data": {
      "text/plain": [
       "dict_values([39, 18, 24, 25, 55])"
      ]
     },
     "execution_count": 20,
     "metadata": {},
     "output_type": "execute_result"
    }
   ],
   "source": [
    "nome_idades.values()"
   ]
  },
  {
   "cell_type": "code",
   "execution_count": 21,
   "id": "072b72d3-f9ae-4d68-825b-f07f5ee34caa",
   "metadata": {
    "tags": []
   },
   "outputs": [
    {
     "data": {
      "text/plain": [
       "dict_items([('alcides', 39), ('lukas', 18), ('bruna', 24), ('leonardo', 25), ('Pedro', 55)])"
      ]
     },
     "execution_count": 21,
     "metadata": {},
     "output_type": "execute_result"
    }
   ],
   "source": [
    "nome_idades.items()"
   ]
  }
 ],
 "metadata": {
  "kernelspec": {
   "display_name": "Python 3 (ipykernel)",
   "language": "python",
   "name": "python3"
  },
  "language_info": {
   "codemirror_mode": {
    "name": "ipython",
    "version": 3
   },
   "file_extension": ".py",
   "mimetype": "text/x-python",
   "name": "python",
   "nbconvert_exporter": "python",
   "pygments_lexer": "ipython3",
   "version": "3.10.9"
  }
 },
 "nbformat": 4,
 "nbformat_minor": 5
}

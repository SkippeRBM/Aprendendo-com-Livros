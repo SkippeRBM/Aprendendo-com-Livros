{
 "cells": [
  {
   "cell_type": "markdown",
   "id": "fe5a7f19",
   "metadata": {},
   "source": [
    "### **Exercicio 3.1** \n",
    "Complete a tabela.\n",
    "| Numero | Tipo numérico |\n",
    "|:----------:|:------------------------------------:|\n",
    "| 5 |    **> Inteiro** / Ponto flutuante    |\n",
    "| 5.0 |    Inteiro / **>Ponto flutuante**    |\n",
    "| 4.3 |    Inteiro / **>Ponto flutuante**    |\n",
    "| -2 |    **> Inteiro** / Ponto flutuante    |\n",
    "| 100 |    **> Inteiro** / Ponto flutuante    |\n",
    "| 1.333 |    Inteiro / **>Ponto flutuante**    |"
   ]
  },
  {
   "cell_type": "markdown",
   "id": "e9356f0a",
   "metadata": {},
   "source": []
  },
  {
   "cell_type": "code",
   "execution_count": 1,
   "id": "5711ae68",
   "metadata": {},
   "outputs": [
    {
     "data": {
      "text/plain": [
       "False"
      ]
     },
     "execution_count": 1,
     "metadata": {},
     "output_type": "execute_result"
    }
   ],
   "source": [
    "5 == int"
   ]
  },
  {
   "cell_type": "code",
   "execution_count": 2,
   "id": "9fbb2fab",
   "metadata": {},
   "outputs": [
    {
     "data": {
      "text/plain": [
       "False"
      ]
     },
     "execution_count": 2,
     "metadata": {},
     "output_type": "execute_result"
    }
   ],
   "source": [
    "5.0 == int"
   ]
  },
  {
   "cell_type": "code",
   "execution_count": 4,
   "id": "2bc15bec",
   "metadata": {},
   "outputs": [
    {
     "data": {
      "text/plain": [
       "False"
      ]
     },
     "execution_count": 4,
     "metadata": {},
     "output_type": "execute_result"
    }
   ],
   "source": [
    "4.3 == int"
   ]
  },
  {
   "cell_type": "code",
   "execution_count": 5,
   "id": "c2d30a92",
   "metadata": {},
   "outputs": [
    {
     "data": {
      "text/plain": [
       "False"
      ]
     },
     "execution_count": 5,
     "metadata": {},
     "output_type": "execute_result"
    }
   ],
   "source": [
    "-2 == int"
   ]
  },
  {
   "cell_type": "code",
   "execution_count": 6,
   "id": "90bcb19d",
   "metadata": {},
   "outputs": [
    {
     "data": {
      "text/plain": [
       "False"
      ]
     },
     "execution_count": 6,
     "metadata": {},
     "output_type": "execute_result"
    }
   ],
   "source": [
    "100 == int"
   ]
  },
  {
   "cell_type": "code",
   "execution_count": 11,
   "id": "62595736",
   "metadata": {},
   "outputs": [
    {
     "data": {
      "text/plain": [
       "False"
      ]
     },
     "execution_count": 11,
     "metadata": {},
     "output_type": "execute_result"
    }
   ],
   "source": [
    "1.333 == int"
   ]
  },
  {
   "cell_type": "markdown",
   "id": "4a2e444c",
   "metadata": {},
   "source": [
    "#### **Exercicio 3.3** \n",
    "Complete a tabela.\n",
    "Dado a = 4, b = 10, c = 5.0, d = 1 e f = 5\n",
    "| Expressão | Resultado |\n",
    "|:----------:|:------------------------------------:|\n",
    "| a == c | True / **>False** |\n",
    "| a < b | **> True** / False |\n",
    "| d > b | True / **>False** |\n",
    "| c != f | True / **>False** |\n",
    "| a == b | True / **>False** |\n",
    "| c < d | True / **>False** |\n",
    "| b < a | **> True** / False |\n",
    "| c >= f | **> True** / False |\n",
    "| f >= c | **> True** / False |\n",
    "| c <= c | **> True** / False |\n",
    "| c <= f | **> True** / False |"
   ]
  },
  {
   "cell_type": "code",
   "execution_count": 12,
   "id": "27293cb9",
   "metadata": {},
   "outputs": [],
   "source": [
    "a = 4\n",
    "b = 10\n",
    "c = 5.0\n",
    "d = 1\n",
    "f = 5"
   ]
  },
  {
   "cell_type": "code",
   "execution_count": 13,
   "id": "5c16f892",
   "metadata": {},
   "outputs": [
    {
     "data": {
      "text/plain": [
       "False"
      ]
     },
     "execution_count": 13,
     "metadata": {},
     "output_type": "execute_result"
    }
   ],
   "source": [
    "a == c"
   ]
  },
  {
   "cell_type": "code",
   "execution_count": 14,
   "id": "2c248186",
   "metadata": {},
   "outputs": [
    {
     "data": {
      "text/plain": [
       "True"
      ]
     },
     "execution_count": 14,
     "metadata": {},
     "output_type": "execute_result"
    }
   ],
   "source": [
    "a < b"
   ]
  },
  {
   "cell_type": "code",
   "execution_count": 15,
   "id": "3646e3b8",
   "metadata": {},
   "outputs": [
    {
     "data": {
      "text/plain": [
       "False"
      ]
     },
     "execution_count": 15,
     "metadata": {},
     "output_type": "execute_result"
    }
   ],
   "source": [
    "d > b"
   ]
  },
  {
   "cell_type": "code",
   "execution_count": 16,
   "id": "213745d7",
   "metadata": {},
   "outputs": [
    {
     "data": {
      "text/plain": [
       "False"
      ]
     },
     "execution_count": 16,
     "metadata": {},
     "output_type": "execute_result"
    }
   ],
   "source": [
    "c != f"
   ]
  },
  {
   "cell_type": "code",
   "execution_count": 17,
   "id": "90996439",
   "metadata": {},
   "outputs": [
    {
     "data": {
      "text/plain": [
       "False"
      ]
     },
     "execution_count": 17,
     "metadata": {},
     "output_type": "execute_result"
    }
   ],
   "source": [
    "a == b"
   ]
  },
  {
   "cell_type": "code",
   "execution_count": 18,
   "id": "bacf5d3b",
   "metadata": {},
   "outputs": [
    {
     "data": {
      "text/plain": [
       "False"
      ]
     },
     "execution_count": 18,
     "metadata": {},
     "output_type": "execute_result"
    }
   ],
   "source": [
    "c < d"
   ]
  },
  {
   "cell_type": "code",
   "execution_count": 19,
   "id": "95fb0f98",
   "metadata": {},
   "outputs": [
    {
     "data": {
      "text/plain": [
       "True"
      ]
     },
     "execution_count": 19,
     "metadata": {},
     "output_type": "execute_result"
    }
   ],
   "source": [
    "b > a"
   ]
  },
  {
   "cell_type": "code",
   "execution_count": 20,
   "id": "b3633503",
   "metadata": {},
   "outputs": [
    {
     "data": {
      "text/plain": [
       "True"
      ]
     },
     "execution_count": 20,
     "metadata": {},
     "output_type": "execute_result"
    }
   ],
   "source": [
    "c >= f"
   ]
  },
  {
   "cell_type": "code",
   "execution_count": 21,
   "id": "1fe46959",
   "metadata": {},
   "outputs": [
    {
     "data": {
      "text/plain": [
       "True"
      ]
     },
     "execution_count": 21,
     "metadata": {},
     "output_type": "execute_result"
    }
   ],
   "source": [
    "f >= c"
   ]
  },
  {
   "cell_type": "code",
   "execution_count": 22,
   "id": "1a13f72c",
   "metadata": {},
   "outputs": [
    {
     "data": {
      "text/plain": [
       "True"
      ]
     },
     "execution_count": 22,
     "metadata": {},
     "output_type": "execute_result"
    }
   ],
   "source": [
    "c <= c"
   ]
  },
  {
   "cell_type": "code",
   "execution_count": 23,
   "id": "80d7228d",
   "metadata": {},
   "outputs": [
    {
     "data": {
      "text/plain": [
       "True"
      ]
     },
     "execution_count": 23,
     "metadata": {},
     "output_type": "execute_result"
    }
   ],
   "source": [
    "c <= f"
   ]
  },
  {
   "cell_type": "markdown",
   "id": "3976932d",
   "metadata": {},
   "source": [
    "#### Exercicio 3.3\n",
    "Complete a tabela dada\n",
    "\n",
    "a = True, b = False e c = True\n",
    "| Expressão | Resultado |\n",
    "|:----------:|:------------------------------------:|\n",
    "| a and a | **> True** / False |\n",
    "| b and b | True / **> False** |\n",
    "| not c | True / **> False** |\n",
    "| not b | **> True** / False |\n",
    "| not a | True / **> False** |\n",
    "| a and b | True / **> False** |\n",
    "| b and c | True / **> False** |\n",
    "| a or c | **> True** / False |\n",
    "| b or c | **> True** / False |\n",
    "| c or a | **> True** / False |\n",
    "| c or b | **> True** / False |\n",
    "| c or c | **> True** / False |\n",
    "| b or b | True / **> False** |"
   ]
  },
  {
   "cell_type": "code",
   "execution_count": 24,
   "id": "7d309d7b",
   "metadata": {},
   "outputs": [],
   "source": [
    "a = True\n",
    "b = False\n",
    "c = True"
   ]
  },
  {
   "cell_type": "code",
   "execution_count": 25,
   "id": "0a565436",
   "metadata": {},
   "outputs": [
    {
     "data": {
      "text/plain": [
       "True"
      ]
     },
     "execution_count": 25,
     "metadata": {},
     "output_type": "execute_result"
    }
   ],
   "source": [
    "a and a"
   ]
  },
  {
   "cell_type": "code",
   "execution_count": 26,
   "id": "0bfdb90a",
   "metadata": {},
   "outputs": [
    {
     "data": {
      "text/plain": [
       "False"
      ]
     },
     "execution_count": 26,
     "metadata": {},
     "output_type": "execute_result"
    }
   ],
   "source": [
    "b and b"
   ]
  },
  {
   "cell_type": "code",
   "execution_count": 27,
   "id": "545684e3",
   "metadata": {},
   "outputs": [
    {
     "data": {
      "text/plain": [
       "False"
      ]
     },
     "execution_count": 27,
     "metadata": {},
     "output_type": "execute_result"
    }
   ],
   "source": [
    "not c"
   ]
  },
  {
   "cell_type": "code",
   "execution_count": 28,
   "id": "084dcdf4",
   "metadata": {},
   "outputs": [
    {
     "data": {
      "text/plain": [
       "True"
      ]
     },
     "execution_count": 28,
     "metadata": {},
     "output_type": "execute_result"
    }
   ],
   "source": [
    "not b"
   ]
  },
  {
   "cell_type": "code",
   "execution_count": 29,
   "id": "784575ca",
   "metadata": {},
   "outputs": [
    {
     "data": {
      "text/plain": [
       "False"
      ]
     },
     "execution_count": 29,
     "metadata": {},
     "output_type": "execute_result"
    }
   ],
   "source": [
    "not a"
   ]
  },
  {
   "cell_type": "code",
   "execution_count": 30,
   "id": "d8492602",
   "metadata": {},
   "outputs": [
    {
     "data": {
      "text/plain": [
       "False"
      ]
     },
     "execution_count": 30,
     "metadata": {},
     "output_type": "execute_result"
    }
   ],
   "source": [
    "a and b"
   ]
  },
  {
   "cell_type": "code",
   "execution_count": 31,
   "id": "cc11ce4f",
   "metadata": {},
   "outputs": [
    {
     "data": {
      "text/plain": [
       "False"
      ]
     },
     "execution_count": 31,
     "metadata": {},
     "output_type": "execute_result"
    }
   ],
   "source": [
    "b and c"
   ]
  },
  {
   "cell_type": "code",
   "execution_count": 32,
   "id": "6eec5900",
   "metadata": {},
   "outputs": [
    {
     "data": {
      "text/plain": [
       "True"
      ]
     },
     "execution_count": 32,
     "metadata": {},
     "output_type": "execute_result"
    }
   ],
   "source": [
    "a or c"
   ]
  },
  {
   "cell_type": "code",
   "execution_count": 33,
   "id": "c77f7683",
   "metadata": {},
   "outputs": [
    {
     "data": {
      "text/plain": [
       "True"
      ]
     },
     "execution_count": 33,
     "metadata": {},
     "output_type": "execute_result"
    }
   ],
   "source": [
    "b or c"
   ]
  },
  {
   "cell_type": "code",
   "execution_count": 34,
   "id": "b0fdc228",
   "metadata": {},
   "outputs": [
    {
     "data": {
      "text/plain": [
       "True"
      ]
     },
     "execution_count": 34,
     "metadata": {},
     "output_type": "execute_result"
    }
   ],
   "source": [
    "c or a"
   ]
  },
  {
   "cell_type": "code",
   "execution_count": 35,
   "id": "2323eb9f",
   "metadata": {},
   "outputs": [
    {
     "data": {
      "text/plain": [
       "True"
      ]
     },
     "execution_count": 35,
     "metadata": {},
     "output_type": "execute_result"
    }
   ],
   "source": [
    "c or b"
   ]
  },
  {
   "cell_type": "code",
   "execution_count": 36,
   "id": "51512cdd",
   "metadata": {},
   "outputs": [
    {
     "data": {
      "text/plain": [
       "True"
      ]
     },
     "execution_count": 36,
     "metadata": {},
     "output_type": "execute_result"
    }
   ],
   "source": [
    "c or c"
   ]
  },
  {
   "cell_type": "code",
   "execution_count": 37,
   "id": "6f651498",
   "metadata": {},
   "outputs": [
    {
     "data": {
      "text/plain": [
       "False"
      ]
     },
     "execution_count": 37,
     "metadata": {},
     "output_type": "execute_result"
    }
   ],
   "source": [
    "b or b"
   ]
  },
  {
   "cell_type": "markdown",
   "id": "543bccf0",
   "metadata": {},
   "source": [
    "#### Exercicio 3.4\n",
    "Escreva uma expressão para determinar se uma pessoa deve ou não pagar imposto. Considere que pagam pessoas cujo salário é maior que R$1.200,00"
   ]
  },
  {
   "cell_type": "code",
   "execution_count": 38,
   "id": "a413df6e",
   "metadata": {},
   "outputs": [],
   "source": [
    "salario1 = 1850\n",
    "salario2 = 1145"
   ]
  },
  {
   "cell_type": "code",
   "execution_count": 40,
   "id": "8a6c1ca0",
   "metadata": {},
   "outputs": [
    {
     "data": {
      "text/plain": [
       "True"
      ]
     },
     "execution_count": 40,
     "metadata": {},
     "output_type": "execute_result"
    }
   ],
   "source": [
    "salario1 >= 1200"
   ]
  },
  {
   "cell_type": "code",
   "execution_count": 41,
   "id": "038020a1",
   "metadata": {},
   "outputs": [
    {
     "data": {
      "text/plain": [
       "False"
      ]
     },
     "execution_count": 41,
     "metadata": {},
     "output_type": "execute_result"
    }
   ],
   "source": [
    "salario2 >= 1200"
   ]
  },
  {
   "cell_type": "code",
   "execution_count": 44,
   "id": "5875ffff",
   "metadata": {},
   "outputs": [
    {
     "name": "stdout",
     "output_type": "stream",
     "text": [
      "Voce deve pagar imposto.\n"
     ]
    }
   ],
   "source": [
    "if salario1 >= 1200:\n",
    "    print('Voce deve pagar imposto.')\n",
    "else:\n",
    "    print('Voce não deve pagar imposto.')"
   ]
  },
  {
   "cell_type": "code",
   "execution_count": 45,
   "id": "239309b1",
   "metadata": {},
   "outputs": [
    {
     "name": "stdout",
     "output_type": "stream",
     "text": [
      "Voce não deve pagar imposto.\n"
     ]
    }
   ],
   "source": [
    "if salario2 >= 1200:\n",
    "    print('Voce deve pagar imposto.')\n",
    "else:\n",
    "    print('Voce não deve pagar imposto.')"
   ]
  },
  {
   "cell_type": "markdown",
   "id": "3315ef98",
   "metadata": {},
   "source": [
    "#### Exercicio 3.5\n",
    "Calcule o resultado da expressão A > B and C or D\n",
    "Utilize os valores:\n",
    "| A | B | C | D | Resultado |\n",
    "|:---:|:---:|:---:|:---:|:---:|\n",
    "| 1 | 2 | True | False | False |\n",
    "| 10 | 3 | False | False | False |\n",
    "| 5 | 1 | True | True | True |"
   ]
  },
  {
   "cell_type": "code",
   "execution_count": 49,
   "id": "1249b59f",
   "metadata": {},
   "outputs": [
    {
     "data": {
      "text/plain": [
       "False"
      ]
     },
     "execution_count": 49,
     "metadata": {},
     "output_type": "execute_result"
    }
   ],
   "source": [
    "A = 1\n",
    "B = 2\n",
    "C = True\n",
    "D = False\n",
    "A > B and C or D"
   ]
  },
  {
   "cell_type": "code",
   "execution_count": 50,
   "id": "5bd4df31",
   "metadata": {},
   "outputs": [
    {
     "data": {
      "text/plain": [
       "False"
      ]
     },
     "execution_count": 50,
     "metadata": {},
     "output_type": "execute_result"
    }
   ],
   "source": [
    "A = 10\n",
    "B = 3\n",
    "C = False\n",
    "D = False\n",
    "A > B and C or D"
   ]
  },
  {
   "cell_type": "code",
   "execution_count": 51,
   "id": "0b18469b",
   "metadata": {},
   "outputs": [
    {
     "data": {
      "text/plain": [
       "True"
      ]
     },
     "execution_count": 51,
     "metadata": {},
     "output_type": "execute_result"
    }
   ],
   "source": [
    "A = 5\n",
    "B = 1\n",
    "C = True\n",
    "D = True\n",
    "A > B and C or D"
   ]
  },
  {
   "cell_type": "code",
   "execution_count": null,
   "id": "caf33b4d",
   "metadata": {},
   "outputs": [],
   "source": []
  }
 ],
 "metadata": {
  "kernelspec": {
   "display_name": "Python 3 (ipykernel)",
   "language": "python",
   "name": "python3"
  },
  "language_info": {
   "codemirror_mode": {
    "name": "ipython",
    "version": 3
   },
   "file_extension": ".py",
   "mimetype": "text/x-python",
   "name": "python",
   "nbconvert_exporter": "python",
   "pygments_lexer": "ipython3",
   "version": "3.10.9"
  }
 },
 "nbformat": 4,
 "nbformat_minor": 5
}

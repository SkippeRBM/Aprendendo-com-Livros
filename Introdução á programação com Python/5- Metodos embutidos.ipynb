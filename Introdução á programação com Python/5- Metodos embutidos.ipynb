{
 "cells": [
  {
   "cell_type": "markdown",
   "id": "90a356b0-688e-4bba-ba21-3fd68a19d661",
   "metadata": {},
   "source": [
    "# Métodos Embutidos\n",
    "\n",
    "Python possui diversos métodos embutidos, como o famoso `print()`, que serve para visualizar informações armazenadas, seja em variáveis ou de qualquer índice. Em geral, os métodos embutidos no Python são facilmente reconhecidos, destacados em verde ou seguindo um padrão como `print(\"string\")`."
   ]
  },
  {
   "cell_type": "code",
   "execution_count": 1,
   "id": "ac768166-169b-4337-840c-73eb616943df",
   "metadata": {},
   "outputs": [
    {
     "name": "stdout",
     "output_type": "stream",
     "text": [
      "String Armazenada\n"
     ]
    }
   ],
   "source": [
    "a = \"String Armazenada\"\n",
    "print(a)"
   ]
  },
  {
   "cell_type": "markdown",
   "id": "2d2c2155-1b6d-41b9-b9ac-cf1b7f539f84",
   "metadata": {},
   "source": [
    "Temos tambem o `len()` que se utiliza para contar os elementos armazenados."
   ]
  },
  {
   "cell_type": "code",
   "execution_count": 2,
   "id": "1fb55f2c-8e04-4bcd-bc1f-e70ef2f60ae1",
   "metadata": {},
   "outputs": [
    {
     "data": {
      "text/plain": [
       "17"
      ]
     },
     "execution_count": 2,
     "metadata": {},
     "output_type": "execute_result"
    }
   ],
   "source": [
    "len(a)"
   ]
  },
  {
   "cell_type": "code",
   "execution_count": 1,
   "id": "35cd18bc-df41-4021-954a-44de8b910345",
   "metadata": {},
   "outputs": [
    {
     "data": {
      "text/plain": [
       "8"
      ]
     },
     "execution_count": 1,
     "metadata": {},
     "output_type": "execute_result"
    }
   ],
   "source": [
    "len(\"contando\")"
   ]
  },
  {
   "cell_type": "markdown",
   "id": "5adddaa9-3cf3-4ac1-a080-271962748279",
   "metadata": {},
   "source": [
    "Existe tambem um método chamado `type()` que tem a funcionalidade de informar qual tipo de dado está armazenado naquela variavel ou indice."
   ]
  },
  {
   "cell_type": "code",
   "execution_count": 3,
   "id": "0a8b7f16-207b-46d5-9c63-abfac4842ce2",
   "metadata": {},
   "outputs": [
    {
     "data": {
      "text/plain": [
       "str"
      ]
     },
     "execution_count": 3,
     "metadata": {},
     "output_type": "execute_result"
    }
   ],
   "source": [
    "type('a')"
   ]
  },
  {
   "cell_type": "code",
   "execution_count": 5,
   "id": "9b58fe33-e335-44e0-bf23-b19d6e45ae5a",
   "metadata": {},
   "outputs": [
    {
     "data": {
      "text/plain": [
       "str"
      ]
     },
     "execution_count": 5,
     "metadata": {},
     "output_type": "execute_result"
    }
   ],
   "source": [
    "type(a)"
   ]
  },
  {
   "cell_type": "markdown",
   "id": "a1d90804-5d6a-4fb4-bd06-80294b475813",
   "metadata": {},
   "source": [
    "Outro método é o `dir()` que você consegue vizualizar todos métodos internos e externos associados a está operação/variavel/string"
   ]
  },
  {
   "cell_type": "code",
   "execution_count": 6,
   "id": "89755069-7d2d-44ab-bfd0-f65b16ad9483",
   "metadata": {},
   "outputs": [
    {
     "data": {
      "text/plain": [
       "['__add__',\n",
       " '__class__',\n",
       " '__contains__',\n",
       " '__delattr__',\n",
       " '__dir__',\n",
       " '__doc__',\n",
       " '__eq__',\n",
       " '__format__',\n",
       " '__ge__',\n",
       " '__getattribute__',\n",
       " '__getitem__',\n",
       " '__getnewargs__',\n",
       " '__gt__',\n",
       " '__hash__',\n",
       " '__init__',\n",
       " '__init_subclass__',\n",
       " '__iter__',\n",
       " '__le__',\n",
       " '__len__',\n",
       " '__lt__',\n",
       " '__mod__',\n",
       " '__mul__',\n",
       " '__ne__',\n",
       " '__new__',\n",
       " '__reduce__',\n",
       " '__reduce_ex__',\n",
       " '__repr__',\n",
       " '__rmod__',\n",
       " '__rmul__',\n",
       " '__setattr__',\n",
       " '__sizeof__',\n",
       " '__str__',\n",
       " '__subclasshook__',\n",
       " 'capitalize',\n",
       " 'casefold',\n",
       " 'center',\n",
       " 'count',\n",
       " 'encode',\n",
       " 'endswith',\n",
       " 'expandtabs',\n",
       " 'find',\n",
       " 'format',\n",
       " 'format_map',\n",
       " 'index',\n",
       " 'isalnum',\n",
       " 'isalpha',\n",
       " 'isascii',\n",
       " 'isdecimal',\n",
       " 'isdigit',\n",
       " 'isidentifier',\n",
       " 'islower',\n",
       " 'isnumeric',\n",
       " 'isprintable',\n",
       " 'isspace',\n",
       " 'istitle',\n",
       " 'isupper',\n",
       " 'join',\n",
       " 'ljust',\n",
       " 'lower',\n",
       " 'lstrip',\n",
       " 'maketrans',\n",
       " 'partition',\n",
       " 'removeprefix',\n",
       " 'removesuffix',\n",
       " 'replace',\n",
       " 'rfind',\n",
       " 'rindex',\n",
       " 'rjust',\n",
       " 'rpartition',\n",
       " 'rsplit',\n",
       " 'rstrip',\n",
       " 'split',\n",
       " 'splitlines',\n",
       " 'startswith',\n",
       " 'strip',\n",
       " 'swapcase',\n",
       " 'title',\n",
       " 'translate',\n",
       " 'upper',\n",
       " 'zfill']"
      ]
     },
     "execution_count": 6,
     "metadata": {},
     "output_type": "execute_result"
    }
   ],
   "source": [
    "dir(a)"
   ]
  },
  {
   "cell_type": "markdown",
   "id": "ff0fa84d-ca06-4698-9b54-934a48faa153",
   "metadata": {},
   "source": [
    "Todos que possuem o `__`, são métodos internos, porém não nos convem para este momento. Um desses métodos é o `.upper()` e o `.lower()` que servem para deixar todos os valores da string em caixa *alta* ou *baixa* respectivamente."
   ]
  },
  {
   "cell_type": "code",
   "execution_count": 7,
   "id": "e89d4242-e31e-4709-bd15-b2e28a442df7",
   "metadata": {},
   "outputs": [
    {
     "data": {
      "text/plain": [
       "'STRING ARMAZENADA'"
      ]
     },
     "execution_count": 7,
     "metadata": {},
     "output_type": "execute_result"
    }
   ],
   "source": [
    "a.upper()"
   ]
  },
  {
   "cell_type": "code",
   "execution_count": 8,
   "id": "31f25755-24de-401d-8078-409e4f6ed20a",
   "metadata": {},
   "outputs": [
    {
     "data": {
      "text/plain": [
       "'string armazenada'"
      ]
     },
     "execution_count": 8,
     "metadata": {},
     "output_type": "execute_result"
    }
   ],
   "source": [
    "a.lower()"
   ]
  },
  {
   "cell_type": "markdown",
   "id": "52b58c87-190e-40fa-8c2a-cc6e1b0cabbf",
   "metadata": {},
   "source": [
    "Um método muito importante para o Python é o `.split(\"\")`, onde ele necessita de um argumento para separar ou quebrar a string com base nesse argumento. Se nenhum argumento for fornecido (o argumento vai dentro dos parênteses ou aspas), ele retornará uma lista com os elementos separados pelo espaço."
   ]
  },
  {
   "cell_type": "code",
   "execution_count": 9,
   "id": "1f630977-b0fa-499d-8d9a-49f5880d4581",
   "metadata": {},
   "outputs": [
    {
     "data": {
      "text/plain": [
       "['String', 'Armazenada']"
      ]
     },
     "execution_count": 9,
     "metadata": {},
     "output_type": "execute_result"
    }
   ],
   "source": [
    "a.split()"
   ]
  },
  {
   "cell_type": "code",
   "execution_count": 22,
   "id": "feec8d88-48af-4582-a4ae-fe6721490ed1",
   "metadata": {},
   "outputs": [
    {
     "data": {
      "text/plain": [
       "['St', 'ing A', 'mazenada']"
      ]
     },
     "execution_count": 22,
     "metadata": {},
     "output_type": "execute_result"
    }
   ],
   "source": [
    "a.split(\"r\")"
   ]
  },
  {
   "cell_type": "markdown",
   "id": "3b9077c7-5ae0-4444-b94e-9a0a0884a55e",
   "metadata": {},
   "source": [
    "Neste caso, sempre que encontrar o caractere \"r\", ele irá separar os elementos e apresentá-los em uma lista. Em um e-mail, podemos quebrar ou separar pelo \"@\" como exemplo.\n",
    "Um dos métodos mais importantes, especialmente para dashboards e programas, é o `.format()`, que é usado para otimizar o formato de apresentação dos dados, adicionando uma string ou alguma informação fornecida pelo usuário. Por exemplo:"
   ]
  },
  {
   "cell_type": "code",
   "execution_count": 6,
   "id": "76e4a95c-a3ac-4f47-9a7d-17635db093ce",
   "metadata": {},
   "outputs": [
    {
     "data": {
      "text/plain": [
       "'Idade de Reymond é: 36'"
      ]
     },
     "execution_count": 6,
     "metadata": {},
     "output_type": "execute_result"
    }
   ],
   "source": [
    "idade = 36\n",
    "\"Idade de Reymond é: {}\".format(idade)"
   ]
  },
  {
   "cell_type": "markdown",
   "id": "3dc6f9d8-c557-4421-b831-71cbdf7ad08f",
   "metadata": {},
   "source": [
    "O format vai pegar cada chave que ele encontrou dentro da string e associar a um valor fornecido."
   ]
  },
  {
   "cell_type": "code",
   "execution_count": 7,
   "id": "18e742d9-71e2-497f-b9be-f6cad367a8ac",
   "metadata": {},
   "outputs": [
    {
     "data": {
      "text/plain": [
       "'Idade de Reymond é: 36 e o sobrenome é Barbarroza'"
      ]
     },
     "execution_count": 7,
     "metadata": {},
     "output_type": "execute_result"
    }
   ],
   "source": [
    "sobrenome = \"Barbarroza\"\n",
    "\"Idade de Reymond é: {} e o sobrenome é {}\".format(idade, sobrenome)"
   ]
  },
  {
   "cell_type": "markdown",
   "id": "7eb3ee5f-9163-4ce9-ae2e-9e8f28741978",
   "metadata": {},
   "source": [
    "O método `.format()` tem diversas funcionalidades como limitar casas decimais e outros que serão mais aprofundados em outros papers."
   ]
  },
  {
   "cell_type": "markdown",
   "id": "5a93cef7-f098-4335-a482-789913ac9bff",
   "metadata": {},
   "source": [
    "Irei retornar a essa nota mais tarde para completa-la, principalmente pois o metodo `.format()` teve uma atualização que além de simplificar o código, é bem mais simples."
   ]
  },
  {
   "cell_type": "code",
   "execution_count": 10,
   "id": "ce8f0759",
   "metadata": {},
   "outputs": [
    {
     "name": "stdout",
     "output_type": "stream",
     "text": [
      "Reymond Barbarroza de 36 anos, bebeu 15L de cerveja hoje\n"
     ]
    }
   ],
   "source": [
    "exemplo = 15\n",
    "f\"Reymond {sobrenome} de {idade} anos, bebeu {exemplo}L de cerveja hoje\""
   ]
  },
  {
   "cell_type": "code",
   "execution_count": 11,
   "id": "83160d38",
   "metadata": {},
   "outputs": [
    {
     "name": "stdout",
     "output_type": "stream",
     "text": [
      "Reymond Barbarroza de 36 anos, bebeu 15L de cerveja hoje\n"
     ]
    }
   ],
   "source": [
    "print(f\"Reymond {sobrenome} de {idade} anos, bebeu {exemplo}L de cerveja hoje\")"
   ]
  },
  {
   "cell_type": "code",
   "execution_count": null,
   "id": "3a932e14",
   "metadata": {},
   "outputs": [],
   "source": []
  }
 ],
 "metadata": {
  "kernelspec": {
   "display_name": "Python 3 (ipykernel)",
   "language": "python",
   "name": "python3"
  },
  "language_info": {
   "codemirror_mode": {
    "name": "ipython",
    "version": 3
   },
   "file_extension": ".py",
   "mimetype": "text/x-python",
   "name": "python",
   "nbconvert_exporter": "python",
   "pygments_lexer": "ipython3",
   "version": "3.10.9"
  }
 },
 "nbformat": 4,
 "nbformat_minor": 5
}

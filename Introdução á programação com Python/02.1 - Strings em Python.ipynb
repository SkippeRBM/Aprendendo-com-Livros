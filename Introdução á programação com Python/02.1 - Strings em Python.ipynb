{
 "cells": [
  {
   "cell_type": "markdown",
   "id": "7a3531e1-c1f0-4afb-8b22-1413c1edad10",
   "metadata": {},
   "source": [
    "# Strings em Python\n",
    "\n",
    "Strings em Python são variáveis de texto.\n",
    "\n",
    "Assim como em um texto comum, as strings são utilizadas para nomear e identificar informações. É importante lembrar de sempre usar as aspas duplas ou simples para delimitar uma string. Sem as aspas, o programa não irá reconhecer a palavra como uma string; em vez disso, ele irá interpretá-la como uma função ou variável."
   ]
  },
  {
   "cell_type": "code",
   "execution_count": 1,
   "id": "28073b6b-50a1-4952-8f1d-ff7786d17a57",
   "metadata": {},
   "outputs": [
    {
     "data": {
      "text/plain": [
       "'modelos de texto'"
      ]
     },
     "execution_count": 1,
     "metadata": {},
     "output_type": "execute_result"
    }
   ],
   "source": [
    "strings = \"modelos de texto\"    \n",
    "strings"
   ]
  },
  {
   "cell_type": "markdown",
   "id": "8d340545-7b38-447c-b56e-53ed70b82b06",
   "metadata": {},
   "source": [
    "Neste caso vou usar apenas \"strings\" em vez de \"print(strings)\" por existir essa possibilidade, não é toda IDE que concede essa facilidade."
   ]
  },
  {
   "cell_type": "code",
   "execution_count": 1,
   "id": "d5ae3485-ff5e-4111-907a-0a9a51bb4df0",
   "metadata": {},
   "outputs": [
    {
     "data": {
      "text/plain": [
       "'hello world'"
      ]
     },
     "execution_count": 1,
     "metadata": {},
     "output_type": "execute_result"
    }
   ],
   "source": [
    "aexemplo = \"hello world\"\n",
    "aexemplo"
   ]
  },
  {
   "cell_type": "code",
   "execution_count": 3,
   "id": "0131c336-c795-4ff2-a600-ca08ef9a3ab1",
   "metadata": {},
   "outputs": [
    {
     "data": {
      "text/plain": [
       "'Você tem quantos anos?'"
      ]
     },
     "execution_count": 3,
     "metadata": {},
     "output_type": "execute_result"
    }
   ],
   "source": [
    "podesertambem = \"Você tem quantos anos?\"\n",
    "podesertambem"
   ]
  },
  {
   "cell_type": "code",
   "execution_count": 4,
   "id": "f90f21ec-d88e-4f67-8f34-2e9a306fe04c",
   "metadata": {},
   "outputs": [
    {
     "data": {
      "text/plain": [
       "'reservadas'"
      ]
     },
     "execution_count": 4,
     "metadata": {},
     "output_type": "execute_result"
    }
   ],
   "source": [
    "saopalavras = \"reservadas\"\n",
    "saopalavras"
   ]
  },
  {
   "cell_type": "markdown",
   "id": "58111fbf-8b86-4d90-b916-c875e10ab645",
   "metadata": {},
   "source": [
    "Algumas funções não devem ser sobrescritas para evitar o risco de perder funcionalidades importantes. Por exemplo, as funções como `len()` (usada para determinar o tamanho de uma sequência) ou `print()` (para exibir valores na saída padrão) não devem ser redefinidas ou utilizadas como nomes de variáveis ou strings, pois isso pode causar confusão e erros no programa.\n"
   ]
  },
  {
   "cell_type": "code",
   "execution_count": 5,
   "id": "93e7bb83-fd88-481d-8c06-9e43323601e1",
   "metadata": {},
   "outputs": [
    {
     "name": "stdout",
     "output_type": "stream",
     "text": [
      "Você tem quantos anos?\n"
     ]
    }
   ],
   "source": [
    "print(podesertambem)"
   ]
  },
  {
   "cell_type": "markdown",
   "id": "b63b9679-d44f-4660-881d-b6183b181492",
   "metadata": {},
   "source": [
    "nesse caso ele retorna o valor armazenado, sendo assim foi armazenado um conjunto de letras em uma organização especifica."
   ]
  },
  {
   "cell_type": "code",
   "execution_count": 6,
   "id": "5dc49fd7-eae1-4091-8097-ce55aba9036b",
   "metadata": {},
   "outputs": [
    {
     "data": {
      "text/plain": [
       "22"
      ]
     },
     "execution_count": 6,
     "metadata": {},
     "output_type": "execute_result"
    }
   ],
   "source": [
    "len(podesertambem)"
   ]
  },
  {
   "cell_type": "markdown",
   "id": "328d96c8-daec-49cb-b3bd-2e4878181245",
   "metadata": {},
   "source": [
    "agora retorna \"22\" que é o tamanho desta variavel, para a maquina o tamanho dela é dado pela quantidade de caracteres armazenados."
   ]
  },
  {
   "cell_type": "code",
   "execution_count": 5,
   "id": "882e500e-175a-4e38-af1e-f986cd35553d",
   "metadata": {},
   "outputs": [
    {
     "data": {
      "text/plain": [
       "'reservadasVocê tem quantos anos?'"
      ]
     },
     "execution_count": 5,
     "metadata": {},
     "output_type": "execute_result"
    }
   ],
   "source": [
    "saopalavras + podesertambem"
   ]
  },
  {
   "cell_type": "code",
   "execution_count": 6,
   "id": "2bdabf2e-65a3-4668-97c4-39660296eb31",
   "metadata": {},
   "outputs": [
    {
     "data": {
      "text/plain": [
       "'Você tem quantos anos?reservadas'"
      ]
     },
     "execution_count": 6,
     "metadata": {},
     "output_type": "execute_result"
    }
   ],
   "source": [
    "podesertambem + saopalavras"
   ]
  },
  {
   "cell_type": "markdown",
   "id": "1d0e7ec2-cbeb-4166-9d41-5aea4c3beaf2",
   "metadata": {},
   "source": [
    "somar strings é uma forma de elaborar um texto ja pré organizado"
   ]
  },
  {
   "cell_type": "code",
   "execution_count": 7,
   "id": "808b79cf-fd4b-4768-97f0-533ecf07a44e",
   "metadata": {},
   "outputs": [
    {
     "data": {
      "text/plain": [
       "'Você tem quantos anos? E quantos deles reservadas para viajar o mundo?'"
      ]
     },
     "execution_count": 7,
     "metadata": {},
     "output_type": "execute_result"
    }
   ],
   "source": [
    "podesertambem + \" E quantos deles \" + saopalavras + \" para viajar o mundo?\""
   ]
  },
  {
   "cell_type": "code",
   "execution_count": 8,
   "id": "05ad285f-7e68-4cfc-9ddc-38661eb24cc4",
   "metadata": {},
   "outputs": [
    {
     "data": {
      "text/plain": [
       "'V'"
      ]
     },
     "execution_count": 8,
     "metadata": {},
     "output_type": "execute_result"
    }
   ],
   "source": [
    "podesertambem[0]"
   ]
  },
  {
   "cell_type": "markdown",
   "id": "7a0bf750-b0e4-40cd-a481-0a29548f9bdf",
   "metadata": {},
   "source": [
    "Quando se utiliza a indexação em strings no Python, o índice sempre começa em 0 e não em 1. Isso significa que o primeiro elemento está na posição 0, o segundo na posição 1 e assim por diante. Por exemplo, ao acessar `string[0]`, o Python retornará o elemento armazenado na primeira posição, que é \"V\". Já ao acessar `string[2]`, será retornado o elemento \"c\", que está na terceira posição da string.\n"
   ]
  },
  {
   "cell_type": "code",
   "execution_count": 9,
   "id": "3afb55c3-53be-4bba-9e3a-f6289718821b",
   "metadata": {},
   "outputs": [
    {
     "data": {
      "text/plain": [
       "'c'"
      ]
     },
     "execution_count": 9,
     "metadata": {},
     "output_type": "execute_result"
    }
   ],
   "source": [
    "podesertambem[2]"
   ]
  },
  {
   "cell_type": "markdown",
   "id": "fc08ada3-b2e5-4d30-9a04-2a2fa38a686c",
   "metadata": {},
   "source": [
    "No caso de utilizar o \"string[:]\" ele ira retornar todos os elementos armazenadas nas posições que foram armazenadas, não muito diferente ***NESTE CASO*** da funçõa \"print(\"\")\"."
   ]
  },
  {
   "cell_type": "code",
   "execution_count": 10,
   "id": "b5136a4e-9edf-4f64-b58e-57f9b240dff7",
   "metadata": {},
   "outputs": [
    {
     "data": {
      "text/plain": [
       "'Você tem quantos anos?'"
      ]
     },
     "execution_count": 10,
     "metadata": {},
     "output_type": "execute_result"
    }
   ],
   "source": [
    "podesertambem[:]"
   ]
  },
  {
   "cell_type": "markdown",
   "id": "b1b5e154-942c-4784-a788-2236ad0a6755",
   "metadata": {},
   "source": [
    "Porém ao utilizar o \"string[:]\" voce pode ditar os numeros do indice que deseja informar/ver, como por exemplo \"podesertambem[5:]\" que vai apresentar o indice da posição 5 em diante, que sempre irá começar do inidice **0**."
   ]
  },
  {
   "cell_type": "code",
   "execution_count": 11,
   "id": "67e7b350-469a-466c-bc61-803bd8a77c65",
   "metadata": {},
   "outputs": [
    {
     "data": {
      "text/plain": [
       "'tem quantos anos?'"
      ]
     },
     "execution_count": 11,
     "metadata": {},
     "output_type": "execute_result"
    }
   ],
   "source": [
    "podesertambem[5:]"
   ]
  },
  {
   "cell_type": "markdown",
   "id": "63b473d9-7364-49ef-86b8-b8c52f5b9a37",
   "metadata": {},
   "source": [
    "Pode se tambem definir um final para o indice, acrescentar outra string em conjunto e testar de diversas maneiras. Exemplos abaixo."
   ]
  },
  {
   "cell_type": "code",
   "execution_count": 12,
   "id": "bda4bc19-47a4-4e8b-86ee-9dbe81a55621",
   "metadata": {},
   "outputs": [
    {
     "data": {
      "text/plain": [
       "' qua'"
      ]
     },
     "execution_count": 12,
     "metadata": {},
     "output_type": "execute_result"
    }
   ],
   "source": [
    "podesertambem[8:12]"
   ]
  },
  {
   "cell_type": "code",
   "execution_count": 13,
   "id": "489ec6a3-0ed2-4c44-aa8b-b9718010a5fa",
   "metadata": {},
   "outputs": [
    {
     "data": {
      "text/plain": [
       "'Você tem quantos ano'"
      ]
     },
     "execution_count": 13,
     "metadata": {},
     "output_type": "execute_result"
    }
   ],
   "source": [
    "podesertambem[:20]"
   ]
  },
  {
   "cell_type": "code",
   "execution_count": 14,
   "id": "bfce4e01-4ed1-4404-928a-bf87a02dec82",
   "metadata": {},
   "outputs": [
    {
     "data": {
      "text/plain": [
       "'cê tembro chove?'"
      ]
     },
     "execution_count": 14,
     "metadata": {},
     "output_type": "execute_result"
    }
   ],
   "source": [
    "podesertambem[2:8] + \"bro chove?\""
   ]
  },
  {
   "cell_type": "markdown",
   "id": "9e9d7f78-7048-47e0-90f6-4ad6138dedc7",
   "metadata": {},
   "source": [
    "Também é possível utilizar índices negativos em strings, o que é útil quando se precisa contar a partir do final da string. Por exemplo, considerando a string \"saopalavras\", o caractere \"s\" seria o índice -10, enquanto o \"r\" seria o índice 0."
   ]
  },
  {
   "cell_type": "code",
   "execution_count": 15,
   "id": "eb8f4423-00bb-457a-9f54-eb43403a4cae",
   "metadata": {},
   "outputs": [
    {
     "data": {
      "text/plain": [
       "'r'"
      ]
     },
     "execution_count": 15,
     "metadata": {},
     "output_type": "execute_result"
    }
   ],
   "source": [
    " saopalavras[-10]"
   ]
  },
  {
   "cell_type": "code",
   "execution_count": 16,
   "id": "4f40e1f8-112a-4be9-9524-4f4f9d5a558f",
   "metadata": {},
   "outputs": [
    {
     "data": {
      "text/plain": [
       "'r'"
      ]
     },
     "execution_count": 16,
     "metadata": {},
     "output_type": "execute_result"
    }
   ],
   "source": [
    "saopalavras[0]"
   ]
  },
  {
   "cell_type": "code",
   "execution_count": 17,
   "id": "b7cb9d0a-18cb-44d3-a7ee-c93c60488e68",
   "metadata": {},
   "outputs": [
    {
     "data": {
      "text/plain": [
       "'reservada'"
      ]
     },
     "execution_count": 17,
     "metadata": {},
     "output_type": "execute_result"
    }
   ],
   "source": [
    "saopalavras[:-1]"
   ]
  },
  {
   "cell_type": "markdown",
   "id": "52ee1603-36e9-4077-b3a2-7fd1f550e402",
   "metadata": {},
   "source": [
    "Neste caso solicitei para o python a contagem das strings até o penultimo item do indice, então ele não inclui o **\"s\"**, desta forma podemos manipular a string e os indices semelhante aos intervalos do inicio até o fim."
   ]
  },
  {
   "cell_type": "code",
   "execution_count": 18,
   "id": "ee3e2163-dad5-4709-94f3-2326499c3cba",
   "metadata": {},
   "outputs": [
    {
     "data": {
      "text/plain": [
       "'servad'"
      ]
     },
     "execution_count": 18,
     "metadata": {},
     "output_type": "execute_result"
    }
   ],
   "source": [
    "saopalavras[2:-2]"
   ]
  },
  {
   "cell_type": "markdown",
   "id": "d67cfe3d-f71f-4b23-98e3-cf68c3c898d9",
   "metadata": {},
   "source": [
    "Existe tambem uma forma de pular os intervalos dentro do indice através do comando **\"[::]\"**. Assim ele ira informar/coletar/mostrar os valores intervalos da forma que for solicitado, a exemplo:"
   ]
  },
  {
   "cell_type": "code",
   "execution_count": 19,
   "id": "3835224d-7845-4a0a-840f-fea038e4d3b8",
   "metadata": {},
   "outputs": [
    {
     "data": {
      "text/plain": [
       "'Vc e uno ns'"
      ]
     },
     "execution_count": 19,
     "metadata": {},
     "output_type": "execute_result"
    }
   ],
   "source": [
    "podesertambem[::2]"
   ]
  },
  {
   "cell_type": "code",
   "execution_count": 20,
   "id": "687e6fe8-8c72-457f-924b-98eae225fa49",
   "metadata": {},
   "outputs": [
    {
     "data": {
      "text/plain": [
       "'Você tem quantos anos?'"
      ]
     },
     "execution_count": 20,
     "metadata": {},
     "output_type": "execute_result"
    }
   ],
   "source": [
    "podesertambem[::]"
   ]
  },
  {
   "cell_type": "code",
   "execution_count": 21,
   "id": "6e3fcf22-2e91-4cf5-be7b-af341d25ffea",
   "metadata": {},
   "outputs": [
    {
     "data": {
      "text/plain": [
       "'Vêeqnsn?'"
      ]
     },
     "execution_count": 21,
     "metadata": {},
     "output_type": "execute_result"
    }
   ],
   "source": [
    "podesertambem[::3]"
   ]
  },
  {
   "cell_type": "markdown",
   "id": "5d589af6-78ee-4906-928f-edd9f3d80259",
   "metadata": {},
   "source": [
    "Mesmo se aplica indo de trás para frente."
   ]
  },
  {
   "cell_type": "code",
   "execution_count": 22,
   "id": "37c0baf6-a43d-4fac-b843-d246715264d4",
   "metadata": {},
   "outputs": [
    {
     "data": {
      "text/plain": [
       "'?sona sotnauq met êcoV'"
      ]
     },
     "execution_count": 22,
     "metadata": {},
     "output_type": "execute_result"
    }
   ],
   "source": [
    "podesertambem[::-1]"
   ]
  },
  {
   "cell_type": "code",
   "execution_count": 23,
   "id": "6d4d4eee-64b5-478e-b2c9-955247a3e905",
   "metadata": {},
   "outputs": [
    {
     "data": {
      "text/plain": [
       "'?oastaqmtêo'"
      ]
     },
     "execution_count": 23,
     "metadata": {},
     "output_type": "execute_result"
    }
   ],
   "source": [
    "podesertambem[::-2]"
   ]
  },
  {
   "cell_type": "code",
   "execution_count": 24,
   "id": "afd55165-52c4-4864-aa3b-097324ea1811",
   "metadata": {},
   "outputs": [
    {
     "data": {
      "text/plain": [
       "'?nsnqeêV'"
      ]
     },
     "execution_count": 24,
     "metadata": {},
     "output_type": "execute_result"
    }
   ],
   "source": [
    "podesertambem[::-3]"
   ]
  },
  {
   "cell_type": "markdown",
   "id": "e687555c-ec13-4b0f-b0ad-f7691cf32d5e",
   "metadata": {},
   "source": [
    "Existem tambem funções matematicas associadas as strings como *multiplicação* `*` ou *adição* `+`."
   ]
  },
  {
   "cell_type": "code",
   "execution_count": 25,
   "id": "c185b1b8-1e2c-4450-89c4-6a9c5d4bb136",
   "metadata": {},
   "outputs": [
    {
     "data": {
      "text/plain": [
       "'ab'"
      ]
     },
     "execution_count": 25,
     "metadata": {},
     "output_type": "execute_result"
    }
   ],
   "source": [
    "\"a\" + \"b\""
   ]
  },
  {
   "cell_type": "code",
   "execution_count": 26,
   "id": "10326eb8-4a43-4b52-8750-cdc55dc0c6d3",
   "metadata": {},
   "outputs": [
    {
     "data": {
      "text/plain": [
       "'aaaaaaaaaa'"
      ]
     },
     "execution_count": 26,
     "metadata": {},
     "output_type": "execute_result"
    }
   ],
   "source": [
    "\"a\" * 10"
   ]
  },
  {
   "cell_type": "markdown",
   "id": "90d97510-558a-459d-a874-f987517c4fec",
   "metadata": {},
   "source": [
    "As strings em Python têm um comportamento semelhante a uma estrutura de repetição em matemática. Por exemplo, ao multiplicar uma string por um número, ela será repetida o número de vezes especificado. Da mesma forma, ao somar uma string com outra ou com um número, elas serão repetidas na sequência desejada. Isso também pode ser aplicado quando atribuímos a string a uma variável."
   ]
  },
  {
   "cell_type": "code",
   "execution_count": 27,
   "id": "49da7565-1931-4024-929a-dfe396f8b3f7",
   "metadata": {},
   "outputs": [
    {
     "name": "stdout",
     "output_type": "stream",
     "text": [
      "www\n"
     ]
    }
   ],
   "source": [
    "letra = \"w\"*3\n",
    "print(letra)"
   ]
  },
  {
   "cell_type": "markdown",
   "id": "aeaff7b1-bd4f-4f1d-93bf-91d93e896491",
   "metadata": {},
   "source": [
    "Para encerrar temos diversas funções(métodos) para tratar e modelar strings a nossa preferência:"
   ]
  },
  {
   "cell_type": "code",
   "execution_count": 28,
   "id": "dc56b56f-fdc2-4a87-bfec-1d1bb61e926e",
   "metadata": {
    "tags": []
   },
   "outputs": [],
   "source": [
    "x = \"mãe estou aprendendo python\""
   ]
  },
  {
   "cell_type": "markdown",
   "id": "e451d7a7-888b-4ca8-b588-0e8d7dcfa170",
   "metadata": {},
   "source": [
    "Podemos tratar na hora de exibir sem precisar alterar a variavel:"
   ]
  },
  {
   "cell_type": "code",
   "execution_count": 29,
   "id": "b3f2cc6d-6b3f-42c8-8a84-baa9e8875237",
   "metadata": {
    "tags": []
   },
   "outputs": [
    {
     "name": "stdout",
     "output_type": "stream",
     "text": [
      "MÃE ESTOU APRENDENDO PYTHON\n"
     ]
    }
   ],
   "source": [
    "print(x.upper())"
   ]
  },
  {
   "cell_type": "code",
   "execution_count": 30,
   "id": "6f82b029-916d-405b-87e5-8a0d4fa2a9ae",
   "metadata": {
    "tags": []
   },
   "outputs": [],
   "source": [
    "y = \"PASSANDO SUFOCO\""
   ]
  },
  {
   "cell_type": "code",
   "execution_count": 31,
   "id": "7e86ebe0-d4c3-4761-a666-460bfa8ee0d2",
   "metadata": {
    "tags": []
   },
   "outputs": [
    {
     "name": "stdout",
     "output_type": "stream",
     "text": [
      "passando sufoco\n"
     ]
    }
   ],
   "source": [
    "print(y.lower())"
   ]
  },
  {
   "cell_type": "markdown",
   "id": "a0a669ce-45ab-4a7f-9dc5-e208465dd5b4",
   "metadata": {},
   "source": [
    "Outro possivel uso é deixar apenas a primeira letra da string maiuscula como em textos ABNT"
   ]
  },
  {
   "cell_type": "code",
   "execution_count": 32,
   "id": "7aa81b53-2fe4-4769-81e3-c1b953a8043f",
   "metadata": {
    "tags": []
   },
   "outputs": [
    {
     "name": "stdout",
     "output_type": "stream",
     "text": [
      "Mãe estou aprendendo python\n"
     ]
    }
   ],
   "source": [
    "print(x.capitalize())"
   ]
  },
  {
   "cell_type": "code",
   "execution_count": 33,
   "id": "93568909-2d8f-4f42-809e-b11ae4340c09",
   "metadata": {
    "tags": []
   },
   "outputs": [
    {
     "name": "stdout",
     "output_type": "stream",
     "text": [
      "['mãe', 'estou', 'aprendendo', 'python']\n"
     ]
    }
   ],
   "source": [
    "print(x.split()) #ou tambem separar a string palavra por palavra"
   ]
  },
  {
   "cell_type": "markdown",
   "id": "d0329b3d-f354-4279-8671-bfdfa5223d24",
   "metadata": {},
   "source": [
    "O Split tambem é muito util para transformar uma sting longa em uma lista, como se pode reparar a mesma está em colchetes com seus valores entre aspas assim como em uma lista."
   ]
  },
  {
   "cell_type": "code",
   "execution_count": 34,
   "id": "bdafb604-16d2-4db7-b9fa-aed2d620fc29",
   "metadata": {
    "tags": []
   },
   "outputs": [
    {
     "name": "stdout",
     "output_type": "stream",
     "text": [
      "3\n"
     ]
    }
   ],
   "source": [
    "print(x.count(\"o\")) #faz uma contagem do caracter solicitado e imprime quantas ocorrencias"
   ]
  },
  {
   "cell_type": "markdown",
   "id": "02141fd3-8e15-43b8-a39d-db0e296c9219",
   "metadata": {},
   "source": [
    "Caso precisemos encontrar o indice de uma caracter especifico, encontrar sua posição podemos usar o \".find()\""
   ]
  },
  {
   "cell_type": "code",
   "execution_count": 35,
   "id": "15efeb5a-edbf-4772-acc5-0a3d06405bb7",
   "metadata": {
    "tags": []
   },
   "outputs": [
    {
     "name": "stdout",
     "output_type": "stream",
     "text": [
      "-1\n"
     ]
    }
   ],
   "source": [
    "print(x.find(\"x\")) #irá retornar zero em caso de não ocorrência"
   ]
  },
  {
   "cell_type": "code",
   "execution_count": 36,
   "id": "47b844e7-9745-4aaf-8947-ad5f9934c672",
   "metadata": {
    "tags": []
   },
   "outputs": [
    {
     "name": "stdout",
     "output_type": "stream",
     "text": [
      "7\n"
     ]
    }
   ],
   "source": [
    "print(x.find(\"o\")) #ou retornar a posição dele"
   ]
  }
 ],
 "metadata": {
  "kernelspec": {
   "display_name": "Python 3 (ipykernel)",
   "language": "python",
   "name": "python3"
  },
  "language_info": {
   "codemirror_mode": {
    "name": "ipython",
    "version": 3
   },
   "file_extension": ".py",
   "mimetype": "text/x-python",
   "name": "python",
   "nbconvert_exporter": "python",
   "pygments_lexer": "ipython3",
   "version": "3.10.9"
  }
 },
 "nbformat": 4,
 "nbformat_minor": 5
}

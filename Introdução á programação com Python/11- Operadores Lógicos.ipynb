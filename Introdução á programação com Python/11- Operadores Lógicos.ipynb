{
 "cells": [
  {
   "cell_type": "markdown",
   "id": "10d85cb4-164f-49f1-9dbb-c5f3ae43f223",
   "metadata": {},
   "source": [
    "# OPERADORES LÓGICOS"
   ]
  },
  {
   "cell_type": "markdown",
   "id": "298154ba-44d4-4b99-a749-ba63c0e2de3b",
   "metadata": {},
   "source": [
    "not = não ( ¬ negação)\n",
    "and = e ( *^* conjunção)\n",
    "or = ou ( *v* disjunção)"
   ]
  },
  {
   "cell_type": "markdown",
   "id": "2b0c46d8-3d01-4ae9-b3e6-f7b8fe8e64ea",
   "metadata": {},
   "source": [
    "Operador ***NOT***\n",
    "o mais simples dos operadores serve para inversão, pois um valor verdadeiro negado se torna falso e vice-versa.\n",
    "Então considerando a tabela verdade seria\n",
    "| **V1** | **notV1** |\n",
    "|:--|:--|\n",
    "|V | F |\n",
    "| F | V"
   ]
  },
  {
   "cell_type": "code",
   "execution_count": 1,
   "id": "2da9acb0-565c-4cd7-9c9b-d94b15ba40ef",
   "metadata": {
    "tags": []
   },
   "outputs": [
    {
     "data": {
      "text/plain": [
       "False"
      ]
     },
     "execution_count": 1,
     "metadata": {},
     "output_type": "execute_result"
    }
   ],
   "source": [
    "not True"
   ]
  },
  {
   "cell_type": "code",
   "execution_count": 2,
   "id": "7e5ee0e7-1372-44b6-bc6e-69cb3536d332",
   "metadata": {
    "tags": []
   },
   "outputs": [
    {
     "data": {
      "text/plain": [
       "True"
      ]
     },
     "execution_count": 2,
     "metadata": {},
     "output_type": "execute_result"
    }
   ],
   "source": [
    "not False"
   ]
  },
  {
   "cell_type": "markdown",
   "id": "4d187b76-1e9f-4cea-91ae-e816e25517b7",
   "metadata": {},
   "source": [
    "Operador ***AND*** o operador **(e)** resulta verdadeiro apenas quando seus dois oprandos forem verdadeiros. Considerando a tabela verdade seria\n",
    "| **V1** | **V2** | **V1 and V2**|\n",
    "|:--|:--|:--|\n",
    "| V | V | V |\n",
    "| V | F | F |\n",
    "| F | V | F |\n",
    "| F | F | F |\n",
    "\n",
    "exemplos:"
   ]
  },
  {
   "cell_type": "code",
   "execution_count": 3,
   "id": "0a1cd448-e2e1-4242-b771-9cd9b8f707bc",
   "metadata": {},
   "outputs": [
    {
     "data": {
      "text/plain": [
       "True"
      ]
     },
     "execution_count": 3,
     "metadata": {},
     "output_type": "execute_result"
    }
   ],
   "source": [
    "True and True"
   ]
  },
  {
   "cell_type": "code",
   "execution_count": 4,
   "id": "7007fc91-f35a-4cd9-9615-a5e34d37c6ad",
   "metadata": {
    "tags": []
   },
   "outputs": [
    {
     "data": {
      "text/plain": [
       "False"
      ]
     },
     "execution_count": 4,
     "metadata": {},
     "output_type": "execute_result"
    }
   ],
   "source": [
    "True and False"
   ]
  },
  {
   "cell_type": "code",
   "execution_count": 5,
   "id": "9a57de29-c21a-449b-a362-a81e2c11330e",
   "metadata": {
    "tags": []
   },
   "outputs": [
    {
     "data": {
      "text/plain": [
       "False"
      ]
     },
     "execution_count": 5,
     "metadata": {},
     "output_type": "execute_result"
    }
   ],
   "source": [
    "False and True"
   ]
  },
  {
   "cell_type": "code",
   "execution_count": 6,
   "id": "46d9b3a9-7ec0-403a-8905-b4fc9e1bb982",
   "metadata": {
    "tags": []
   },
   "outputs": [
    {
     "data": {
      "text/plain": [
       "False"
      ]
     },
     "execution_count": 6,
     "metadata": {},
     "output_type": "execute_result"
    }
   ],
   "source": [
    "False and False"
   ]
  },
  {
   "cell_type": "markdown",
   "id": "afa90d7b-1fce-4b9f-92dd-7ad7a80ab876",
   "metadata": {},
   "source": [
    "Operador **OR**\n",
    "Para o operador **OR** a regra fundamental é que ele irá resultar em falso apenas quando todos os resultados forem falsos, se apenas 1 dos operadores for verdadeiro ele será verdadeiro:\n",
    "\n",
    "| **V1** | **V2** | **V1 or V2**|\n",
    "|:--|:--|:--|\n",
    "| V | V | V |\n",
    "| V | F | V |\n",
    "| F | V | V |\n",
    "| F | F | F |\n",
    "\n",
    "exemplos:"
   ]
  },
  {
   "cell_type": "code",
   "execution_count": 7,
   "id": "eee3be21-c7d2-420b-8462-321fb16863f9",
   "metadata": {
    "tags": []
   },
   "outputs": [
    {
     "data": {
      "text/plain": [
       "True"
      ]
     },
     "execution_count": 7,
     "metadata": {},
     "output_type": "execute_result"
    }
   ],
   "source": [
    "True or True"
   ]
  },
  {
   "cell_type": "code",
   "execution_count": 8,
   "id": "02845cd6-aa55-48b9-8441-927a97656361",
   "metadata": {
    "tags": []
   },
   "outputs": [
    {
     "data": {
      "text/plain": [
       "True"
      ]
     },
     "execution_count": 8,
     "metadata": {},
     "output_type": "execute_result"
    }
   ],
   "source": [
    "True or False"
   ]
  },
  {
   "cell_type": "code",
   "execution_count": 9,
   "id": "113b8767-8249-49b5-a528-6f5c4b05f2cd",
   "metadata": {
    "tags": []
   },
   "outputs": [
    {
     "data": {
      "text/plain": [
       "True"
      ]
     },
     "execution_count": 9,
     "metadata": {},
     "output_type": "execute_result"
    }
   ],
   "source": [
    "False or True"
   ]
  },
  {
   "cell_type": "code",
   "execution_count": 10,
   "id": "7cc873de-e23c-48f1-bc42-8b734670c190",
   "metadata": {
    "tags": []
   },
   "outputs": [
    {
     "data": {
      "text/plain": [
       "False"
      ]
     },
     "execution_count": 10,
     "metadata": {},
     "output_type": "execute_result"
    }
   ],
   "source": [
    "False or False"
   ]
  },
  {
   "cell_type": "markdown",
   "id": "19fb17be-e09e-400b-b54f-b7f6e4e8d5e9",
   "metadata": {},
   "source": [
    "# EXPRESSÕES LÓGICAS"
   ]
  },
  {
   "cell_type": "markdown",
   "id": "10b1a8d9-f869-41a0-bd9b-e27d7cc77efe",
   "metadata": {},
   "source": []
  }
 ],
 "metadata": {
  "kernelspec": {
   "display_name": "Python 3 (ipykernel)",
   "language": "python",
   "name": "python3"
  },
  "language_info": {
   "codemirror_mode": {
    "name": "ipython",
    "version": 3
   },
   "file_extension": ".py",
   "mimetype": "text/x-python",
   "name": "python",
   "nbconvert_exporter": "python",
   "pygments_lexer": "ipython3",
   "version": "3.10.9"
  }
 },
 "nbformat": 4,
 "nbformat_minor": 5
}

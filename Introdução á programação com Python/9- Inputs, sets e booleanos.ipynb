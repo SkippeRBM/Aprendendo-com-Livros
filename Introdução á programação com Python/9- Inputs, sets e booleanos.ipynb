{
 "cells": [
  {
   "cell_type": "markdown",
   "id": "6d724053-6a44-424a-9658-469b9140b69d",
   "metadata": {},
   "source": [
    "# INPUTS, SETS E BOOLEANOS\n",
    "\n",
    "O **input()** é uma função fundamental em Python que permite que você solicite dados de entrada ao usuário durante a execução do programa. Ao chamar a função **input()**, o programa pausa a execução e aguarda o usuário fornecer algum dado através do teclado.\n",
    "\n",
    "Por exemplo:\n",
    "\n",
    "```python\n",
    "nome = input(\"Digite seu nome: \")"
   ]
  },
  {
   "cell_type": "code",
   "execution_count": 3,
   "id": "e9e39cde-f1df-4c4a-99d8-37d3dfce0a3c",
   "metadata": {},
   "outputs": [
    {
     "name": "stdout",
     "output_type": "stream",
     "text": [
      " 99\n"
     ]
    },
    {
     "data": {
      "text/plain": [
       "str"
      ]
     },
     "execution_count": 3,
     "metadata": {},
     "output_type": "execute_result"
    }
   ],
   "source": [
    "a = input()\n",
    "type(a)"
   ]
  },
  {
   "cell_type": "code",
   "execution_count": 4,
   "id": "61cb6556-cf75-409a-bf7f-eba356b7d2ae",
   "metadata": {},
   "outputs": [
    {
     "data": {
      "text/plain": [
       "'99'"
      ]
     },
     "execution_count": 4,
     "metadata": {},
     "output_type": "execute_result"
    }
   ],
   "source": [
    "a"
   ]
  },
  {
   "cell_type": "markdown",
   "id": "4cca3d38-fbe8-4b57-9916-96e62d55c6eb",
   "metadata": {},
   "source": [
    "Caso precise converter os valores do input para valores float ou inteiro é preciso usar uma nova função de conversão: ***int()***"
   ]
  },
  {
   "cell_type": "code",
   "execution_count": 5,
   "id": "31d557ba-bc20-4a8e-8759-921e9a68c9fd",
   "metadata": {},
   "outputs": [
    {
     "name": "stdout",
     "output_type": "stream",
     "text": [
      " 666\n"
     ]
    },
    {
     "data": {
      "text/plain": [
       "str"
      ]
     },
     "execution_count": 5,
     "metadata": {},
     "output_type": "execute_result"
    }
   ],
   "source": [
    "b = input()\n",
    "type(b)"
   ]
  },
  {
   "cell_type": "code",
   "execution_count": 6,
   "id": "236a8c18-71e3-483a-aa22-222b60a2d879",
   "metadata": {},
   "outputs": [
    {
     "data": {
      "text/plain": [
       "'666'"
      ]
     },
     "execution_count": 6,
     "metadata": {},
     "output_type": "execute_result"
    }
   ],
   "source": [
    "b"
   ]
  },
  {
   "cell_type": "code",
   "execution_count": 7,
   "id": "8406820c-39fb-4c9c-a3cc-15773e2a7eaa",
   "metadata": {},
   "outputs": [
    {
     "data": {
      "text/plain": [
       "666"
      ]
     },
     "execution_count": 7,
     "metadata": {},
     "output_type": "execute_result"
    }
   ],
   "source": [
    "int(b)"
   ]
  },
  {
   "cell_type": "markdown",
   "id": "0ea41daf-b6a2-4320-9a93-7cd0f0d50872",
   "metadata": {},
   "source": [
    "Caso precise preservar os algorismos significativos use ***float()***:"
   ]
  },
  {
   "cell_type": "code",
   "execution_count": 8,
   "id": "b2241f61-27d4-4709-8c3c-ce7aa4cbc2d2",
   "metadata": {},
   "outputs": [
    {
     "data": {
      "text/plain": [
       "666.0"
      ]
     },
     "execution_count": 8,
     "metadata": {},
     "output_type": "execute_result"
    }
   ],
   "source": [
    "float(b)"
   ]
  },
  {
   "cell_type": "markdown",
   "id": "141fe459-9ed4-45d2-883a-3ff8c3cf87e2",
   "metadata": {},
   "source": [
    "Tambem se pode converter direto o input atraves do int(input()) ou float(input()) :"
   ]
  },
  {
   "cell_type": "code",
   "execution_count": 11,
   "id": "9683ea09-789b-4023-9e15-087e4f2707bd",
   "metadata": {
    "tags": []
   },
   "outputs": [
    {
     "name": "stdout",
     "output_type": "stream",
     "text": [
      "Digite seu numero 666666\n"
     ]
    },
    {
     "data": {
      "text/plain": [
       "666666"
      ]
     },
     "execution_count": 11,
     "metadata": {},
     "output_type": "execute_result"
    }
   ],
   "source": [
    "c = int(input(\"Digite seu numero\"))\n",
    "type(c)\n",
    "c"
   ]
  },
  {
   "cell_type": "code",
   "execution_count": 12,
   "id": "3b4ae67b-7537-4aab-a1fc-bbc47a7f0bbe",
   "metadata": {
    "tags": []
   },
   "outputs": [
    {
     "name": "stdout",
     "output_type": "stream",
     "text": [
      "Digite seu numero 95656\n"
     ]
    },
    {
     "data": {
      "text/plain": [
       "95656.0"
      ]
     },
     "execution_count": 12,
     "metadata": {},
     "output_type": "execute_result"
    }
   ],
   "source": [
    "d = float(input(\"Digite seu numero\"))\n",
    "type(d)\n",
    "d"
   ]
  },
  {
   "cell_type": "markdown",
   "id": "c780f5b2-cad0-4c0d-ae11-d840d4f4f612",
   "metadata": {},
   "source": [
    "**SETS (Conjuntos matemáticos)**"
   ]
  },
  {
   "cell_type": "markdown",
   "id": "0c478bea-b48c-4506-a29d-b215c744a2de",
   "metadata": {},
   "source": [
    "O `set()` em Python é uma função que permite criar conjuntos, uma estrutura de dados que contém elementos únicos, ou seja, cada elemento aparece apenas uma vez no conjunto, independentemente de quantas vezes seja adicionado.\n",
    "\n",
    "Por exemplo:\n",
    "\n",
    "```python\n",
    "numeros = [1, 2, 3, 3, 4, 5, 5, 5]\n",
    "conjunto = set(numeros)\n",
    "print(conjunto)\n"
   ]
  },
  {
   "cell_type": "code",
   "execution_count": 13,
   "id": "ada7628b-bfbe-477b-9161-464833dc269b",
   "metadata": {},
   "outputs": [],
   "source": [
    "x = set()"
   ]
  },
  {
   "cell_type": "markdown",
   "id": "a1f8a16d-862e-4d02-81ca-7e4ddbbffb0a",
   "metadata": {},
   "source": [
    "Em seguida podemos adicionar valores em x com métodos embutidos:"
   ]
  },
  {
   "cell_type": "code",
   "execution_count": 14,
   "id": "000fde14-c4b7-4625-80ee-95a56ecd72b6",
   "metadata": {},
   "outputs": [],
   "source": [
    "x.add(8)"
   ]
  },
  {
   "cell_type": "code",
   "execution_count": 15,
   "id": "3ba87128-8fc6-41bd-995e-a02afabcd88b",
   "metadata": {},
   "outputs": [
    {
     "data": {
      "text/plain": [
       "{8}"
      ]
     },
     "execution_count": 15,
     "metadata": {},
     "output_type": "execute_result"
    }
   ],
   "source": [
    "x"
   ]
  },
  {
   "cell_type": "markdown",
   "id": "fe272725-112f-4aea-98f5-edee2df19e72",
   "metadata": {},
   "source": [
    "se o valor for sinalizado com ***{}***, deu certo. Semelhante a um dicionario, porém sem guardar os pares e os valores serão apresentados um atrás do outro."
   ]
  },
  {
   "cell_type": "code",
   "execution_count": 16,
   "id": "af2546e9-4730-479f-8a9d-05bb0ae4816e",
   "metadata": {},
   "outputs": [
    {
     "data": {
      "text/plain": [
       "{7, 8}"
      ]
     },
     "execution_count": 16,
     "metadata": {},
     "output_type": "execute_result"
    }
   ],
   "source": [
    "x.add(7)\n",
    "x"
   ]
  },
  {
   "cell_type": "code",
   "execution_count": 17,
   "id": "61d06988-3c86-41a7-a9a8-39e5fc8dd398",
   "metadata": {},
   "outputs": [
    {
     "data": {
      "text/plain": [
       "{7, 8, 9}"
      ]
     },
     "execution_count": 17,
     "metadata": {},
     "output_type": "execute_result"
    }
   ],
   "source": [
    "x.add(9)\n",
    "x"
   ]
  },
  {
   "cell_type": "code",
   "execution_count": 18,
   "id": "ade9d4c7-a6a7-4d23-ac9c-2d590f1fbd88",
   "metadata": {},
   "outputs": [
    {
     "data": {
      "text/plain": [
       "{7, 8, 9, 10}"
      ]
     },
     "execution_count": 18,
     "metadata": {},
     "output_type": "execute_result"
    }
   ],
   "source": [
    "x.add(10)\n",
    "x"
   ]
  },
  {
   "cell_type": "markdown",
   "id": "24d79800-6ede-426a-b66a-4446398901d3",
   "metadata": {},
   "source": [
    "Notando que sempre que adicionar um valor a um ***set()*** ele manter a ordem de tamanho dos valores e ao tentar registrar um valor repetido, o mesmo não é apresentado repetido:"
   ]
  },
  {
   "cell_type": "code",
   "execution_count": 19,
   "id": "9b45c64d-3013-4754-b346-f3e3e638948d",
   "metadata": {},
   "outputs": [
    {
     "data": {
      "text/plain": [
       "{7, 8, 9, 10}"
      ]
     },
     "execution_count": 19,
     "metadata": {},
     "output_type": "execute_result"
    }
   ],
   "source": [
    "x.add(7)\n",
    "x"
   ]
  },
  {
   "cell_type": "markdown",
   "id": "2946e3c0-3ccd-4ee7-b3e5-d05ea249c6ca",
   "metadata": {},
   "source": [
    "Podemos tambem usar o ***set()*** a partir de listas que ja possuem repetições internamente e ele ira retornar a lista sem repetições:"
   ]
  },
  {
   "cell_type": "code",
   "execution_count": 20,
   "id": "5f6bae47-99c6-49a7-929d-b0b0095afa31",
   "metadata": {},
   "outputs": [],
   "source": [
    "l = [1, 1, 2, 6, 7, 5, 5, 9, 8, 5, 1, 2,]"
   ]
  },
  {
   "cell_type": "code",
   "execution_count": 21,
   "id": "bf8de82b-8c50-4051-9e33-86deab161fa9",
   "metadata": {},
   "outputs": [
    {
     "data": {
      "text/plain": [
       "{1, 2, 5, 6, 7, 8, 9}"
      ]
     },
     "execution_count": 21,
     "metadata": {},
     "output_type": "execute_result"
    }
   ],
   "source": [
    "set(l)"
   ]
  },
  {
   "cell_type": "markdown",
   "id": "8facec49-d648-4078-bb58-aff430d1415b",
   "metadata": {},
   "source": [
    "### OPERAÇÕES COM SETS\n",
    "\n",
    "Por ser uma estrutura de conjunto, o **set()** em Python oferece várias operações que são comuns em matemática. Você pode comparar conjuntos, calcular a interseção, a união e outras operações semelhantes.\n",
    "\n",
    "Por exemplo, podemos criar dois conjuntos e realizar algumas operações com eles:\n",
    "\n",
    "```python\n",
    "conjunto1 = {1, 2, 3, 4, 5}\n",
    "conjunto2 = {4, 5, 6, 7, 8}\n",
    "\n",
    "# União\n",
    "uniao = conjunto1 | conjunto2\n",
    "print(\"União:\", uniao)\n",
    "\n",
    "# Interseção\n",
    "intersecao = conjunto1 & conjunto2\n",
    "print(\"Interseção:\", intersecao)\n",
    "\n",
    "# Diferença simétrica\n",
    "dif_simetrica = conjunto1 ^ conjunto2\n",
    "print(\"Diferença Simétrica:\", dif_simetrica)\n"
   ]
  },
  {
   "cell_type": "code",
   "execution_count": 22,
   "id": "81a934c2-051d-4ca3-b86e-dfd5ab481d82",
   "metadata": {},
   "outputs": [
    {
     "data": {
      "text/plain": [
       "{1, 2, 5, 6, 7, 8, 9}"
      ]
     },
     "execution_count": 22,
     "metadata": {},
     "output_type": "execute_result"
    }
   ],
   "source": [
    "l1 = set(l)\n",
    "l1"
   ]
  },
  {
   "cell_type": "code",
   "execution_count": 23,
   "id": "2d15898c-7714-4da3-a8ff-8dfa9c7fdda1",
   "metadata": {},
   "outputs": [
    {
     "data": {
      "text/plain": [
       "{7, 8, 9, 10}"
      ]
     },
     "execution_count": 23,
     "metadata": {},
     "output_type": "execute_result"
    }
   ],
   "source": [
    "x"
   ]
  },
  {
   "cell_type": "code",
   "execution_count": 24,
   "id": "2a6b69e1-295d-4e09-9848-4ac41b804a5e",
   "metadata": {},
   "outputs": [
    {
     "data": {
      "text/plain": [
       "{1, 2, 5, 6, 7, 8, 9, 10}"
      ]
     },
     "execution_count": 24,
     "metadata": {},
     "output_type": "execute_result"
    }
   ],
   "source": [
    "x.union(l1)"
   ]
  },
  {
   "cell_type": "code",
   "execution_count": 25,
   "id": "2a327449-123b-4d4d-9541-90029b8d7f01",
   "metadata": {},
   "outputs": [
    {
     "data": {
      "text/plain": [
       "{7, 8, 9}"
      ]
     },
     "execution_count": 25,
     "metadata": {},
     "output_type": "execute_result"
    }
   ],
   "source": [
    "x.intersection(l1)"
   ]
  },
  {
   "cell_type": "markdown",
   "id": "cac73ca9-a4f7-4149-95e3-0bf840c256c3",
   "metadata": {},
   "source": [
    "Existem outros métodos que podem ser usados, podemos conferir no ***dir()***:"
   ]
  },
  {
   "cell_type": "code",
   "execution_count": 26,
   "id": "d696c201-c74b-431b-aa5b-8a12abb21259",
   "metadata": {},
   "outputs": [
    {
     "data": {
      "text/plain": [
       "['__and__',\n",
       " '__class__',\n",
       " '__class_getitem__',\n",
       " '__contains__',\n",
       " '__delattr__',\n",
       " '__dir__',\n",
       " '__doc__',\n",
       " '__eq__',\n",
       " '__format__',\n",
       " '__ge__',\n",
       " '__getattribute__',\n",
       " '__gt__',\n",
       " '__hash__',\n",
       " '__iand__',\n",
       " '__init__',\n",
       " '__init_subclass__',\n",
       " '__ior__',\n",
       " '__isub__',\n",
       " '__iter__',\n",
       " '__ixor__',\n",
       " '__le__',\n",
       " '__len__',\n",
       " '__lt__',\n",
       " '__ne__',\n",
       " '__new__',\n",
       " '__or__',\n",
       " '__rand__',\n",
       " '__reduce__',\n",
       " '__reduce_ex__',\n",
       " '__repr__',\n",
       " '__ror__',\n",
       " '__rsub__',\n",
       " '__rxor__',\n",
       " '__setattr__',\n",
       " '__sizeof__',\n",
       " '__str__',\n",
       " '__sub__',\n",
       " '__subclasshook__',\n",
       " '__xor__',\n",
       " 'add',\n",
       " 'clear',\n",
       " 'copy',\n",
       " 'difference',\n",
       " 'difference_update',\n",
       " 'discard',\n",
       " 'intersection',\n",
       " 'intersection_update',\n",
       " 'isdisjoint',\n",
       " 'issubset',\n",
       " 'issuperset',\n",
       " 'pop',\n",
       " 'remove',\n",
       " 'symmetric_difference',\n",
       " 'symmetric_difference_update',\n",
       " 'union',\n",
       " 'update']"
      ]
     },
     "execution_count": 26,
     "metadata": {},
     "output_type": "execute_result"
    }
   ],
   "source": [
    "dir(x)"
   ]
  },
  {
   "cell_type": "markdown",
   "id": "2083e5f3-5ae8-4c15-8b06-4d524fdb2a81",
   "metadata": {},
   "source": [
    "### BOOLEANOS\n",
    "\n",
    "Os booleanos são um tipo de dado em Python que representam apenas dois valores: verdadeiro (True) e falso (False). Eles são amplamente utilizados em expressões lógicas e controle de fluxo de programas.\n",
    "\n",
    "Por exemplo, podemos usar booleanos para expressar condições em instruções condicionais:\n",
    "\n",
    "```python\n",
    "condicao = True\n",
    "\n",
    "if condicao:\n",
    "    print(\"A condição é verdadeira\")\n",
    "else:\n",
    "    print(\"A condição é falsa\")\n"
   ]
  },
  {
   "cell_type": "markdown",
   "id": "f8bd2e19",
   "metadata": {},
   "source": []
  },
  {
   "cell_type": "code",
   "execution_count": 27,
   "id": "c7fbabdb-8652-41ec-a8f6-97d028ca9911",
   "metadata": {},
   "outputs": [
    {
     "data": {
      "text/plain": [
       "True"
      ]
     },
     "execution_count": 27,
     "metadata": {},
     "output_type": "execute_result"
    }
   ],
   "source": [
    "a = True\n",
    "a"
   ]
  },
  {
   "cell_type": "code",
   "execution_count": 28,
   "id": "1da8abcf-878e-4398-b670-6b9bfb8b329e",
   "metadata": {},
   "outputs": [
    {
     "data": {
      "text/plain": [
       "False"
      ]
     },
     "execution_count": 28,
     "metadata": {},
     "output_type": "execute_result"
    }
   ],
   "source": [
    "b = False\n",
    "b"
   ]
  },
  {
   "cell_type": "markdown",
   "id": "9f7f281e-a301-444a-aa1b-5465f313e923",
   "metadata": {},
   "source": [
    "### CONJUNTOS BOOLEANOS\n",
    "\n",
    "Os conjuntos booleanos são extremamente úteis em Python para direcionar o fluxo do código e executar diferentes ações com base em condições.\n",
    "\n",
    "Podemos criar conjuntos booleanos ao realizar comparações matemáticas ou lógicas, como neste exemplo:\n",
    "\n",
    "```python\n",
    "x = 5\n",
    "y = 10\n",
    "\n",
    "resultado = x < y\n",
    "print(resultado)  # Saída: True"
   ]
  },
  {
   "cell_type": "code",
   "execution_count": 29,
   "id": "95c19da4-ee7d-468e-bd88-4b53b3812cb2",
   "metadata": {},
   "outputs": [
    {
     "data": {
      "text/plain": [
       "False"
      ]
     },
     "execution_count": 29,
     "metadata": {},
     "output_type": "execute_result"
    }
   ],
   "source": [
    "1 > 2"
   ]
  },
  {
   "cell_type": "code",
   "execution_count": 30,
   "id": "e418f35e-e22b-46cf-9e69-bb217f0b935f",
   "metadata": {},
   "outputs": [
    {
     "data": {
      "text/plain": [
       "bool"
      ]
     },
     "execution_count": 30,
     "metadata": {},
     "output_type": "execute_result"
    }
   ],
   "source": [
    "type(1 > 2)"
   ]
  },
  {
   "cell_type": "code",
   "execution_count": 31,
   "id": "9363b7bf-27f8-46d9-a308-c7d8d3eb4215",
   "metadata": {},
   "outputs": [
    {
     "data": {
      "text/plain": [
       "bool"
      ]
     },
     "execution_count": 31,
     "metadata": {},
     "output_type": "execute_result"
    }
   ],
   "source": [
    "type(a)"
   ]
  },
  {
   "cell_type": "code",
   "execution_count": null,
   "id": "86f151d2-b8b6-43a7-87ae-e85eaf3fbece",
   "metadata": {},
   "outputs": [],
   "source": []
  }
 ],
 "metadata": {
  "kernelspec": {
   "display_name": "Python 3 (ipykernel)",
   "language": "python",
   "name": "python3"
  },
  "language_info": {
   "codemirror_mode": {
    "name": "ipython",
    "version": 3
   },
   "file_extension": ".py",
   "mimetype": "text/x-python",
   "name": "python",
   "nbconvert_exporter": "python",
   "pygments_lexer": "ipython3",
   "version": "3.10.9"
  }
 },
 "nbformat": 4,
 "nbformat_minor": 5
}

{
 "cells": [
  {
   "cell_type": "markdown",
   "id": "0b16a04b-bae8-4209-a289-382794abceb4",
   "metadata": {},
   "source": [
    "# OPERADORES DE COMPARAÇÃO"
   ]
  },
  {
   "cell_type": "markdown",
   "id": "6c265614-5058-4552-9040-e8e5d4486319",
   "metadata": {},
   "source": [
    "Os comparadores matemáticos em Python são operadores que nos permitem fazer perguntas sobre igualdade, diferença, maior que, menor que, entre outros. Eles retornam valores booleanos, ou seja, True (verdadeiro) ou False (falso), dependendo se a condição é verdadeira ou não.\n",
    "\n",
    "Aqui estão alguns exemplos de comparadores matemáticos e seus resultados booleanos:\n",
    "\n",
    "- **Igual a:** Retorna True se os valores forem iguais e False caso contrário.\n",
    "- **Diferente de:** Retorna True se os valores forem diferentes e False caso contrário.\n",
    "- **Maior que:** Retorna True se o primeiro valor for maior que o segundo e False caso contrário.\n",
    "- **Menor que:** Retorna True se o primeiro valor for menor que o segundo e False caso contrário.\n",
    "\n",
    "Esses comparadores são frequentemente usados em estruturas condicionais e loops para controlar o fluxo do programa com base em condições específicas.\n",
    "\n",
    "Exemplo:\n",
    "\n",
    "```python\n",
    "x = 10\n",
    "y = 5\n",
    "\n",
    "print(x == y)  # Saída: False\n",
    "print(x != y)  # Saída: True\n",
    "print(x > y)   # Saída: True\n",
    "print(x < y)   # Saída: False"
   ]
  },
  {
   "cell_type": "markdown",
   "id": "104cba1d-67f9-4eba-9585-295e5b3ad80e",
   "metadata": {},
   "source": [
    "**igualdade**"
   ]
  },
  {
   "cell_type": "code",
   "execution_count": 1,
   "id": "99c80147-3f67-40b3-843c-c16f0f7a78cb",
   "metadata": {},
   "outputs": [
    {
     "data": {
      "text/plain": [
       "False"
      ]
     },
     "execution_count": 1,
     "metadata": {},
     "output_type": "execute_result"
    }
   ],
   "source": [
    "\"String\" == \"Strings\""
   ]
  },
  {
   "cell_type": "code",
   "execution_count": 2,
   "id": "96d6be36-418e-4a78-a9b1-4149af908882",
   "metadata": {},
   "outputs": [
    {
     "data": {
      "text/plain": [
       "True"
      ]
     },
     "execution_count": 2,
     "metadata": {},
     "output_type": "execute_result"
    }
   ],
   "source": [
    "2 == 2"
   ]
  },
  {
   "cell_type": "markdown",
   "id": "ea073785-af86-4007-9c92-ec6b15bdeb1e",
   "metadata": {},
   "source": [
    "#### ATRIBUIÇÃO DE VALORES\n",
    "\n",
    "Em Python, a atribuição de valores é feita usando o operador \"=\", que associa um valor a uma variável. Por exemplo, ao escrevermos \"a = 2\", estamos atribuindo o valor 2 à variável a.\n",
    "\n",
    "É importante não confundir a atribuição de valores com a comparação de igualdade. Quando escrevemos \"a = 2\", estamos dizendo ao Python que a variável a agora contém o valor 2. Não estamos perguntando se a é igual a 2; estamos simplesmente fazendo essa associação.\n",
    "\n",
    "Exemplo:\n",
    "\n",
    "```python\n",
    "a = 2"
   ]
  },
  {
   "cell_type": "markdown",
   "id": "fdf4151f-bb4f-45a2-b403-d913d1f004a9",
   "metadata": {},
   "source": [
    "**diferente**"
   ]
  },
  {
   "cell_type": "code",
   "execution_count": 3,
   "id": "830ec653-b4cb-4c42-93e5-b346e9549ec9",
   "metadata": {},
   "outputs": [
    {
     "data": {
      "text/plain": [
       "False"
      ]
     },
     "execution_count": 3,
     "metadata": {},
     "output_type": "execute_result"
    }
   ],
   "source": [
    "2 != 2"
   ]
  },
  {
   "cell_type": "code",
   "execution_count": 6,
   "id": "bf6f6217-0272-4a78-a653-ee9e76edb8ca",
   "metadata": {},
   "outputs": [
    {
     "data": {
      "text/plain": [
       "False"
      ]
     },
     "execution_count": 6,
     "metadata": {},
     "output_type": "execute_result"
    }
   ],
   "source": [
    "\"String\" == \"string\" #veja que ele consegue identificar maiusculos e minusculos tambem"
   ]
  },
  {
   "cell_type": "markdown",
   "id": "f3bda092-7a39-4aa3-9834-34c4ca6746f9",
   "metadata": {
    "tags": []
   },
   "source": [
    "**maior que**"
   ]
  },
  {
   "cell_type": "code",
   "execution_count": 7,
   "id": "59b5ea54-89e3-4ea8-a9c7-17766d5896c2",
   "metadata": {},
   "outputs": [
    {
     "data": {
      "text/plain": [
       "False"
      ]
     },
     "execution_count": 7,
     "metadata": {},
     "output_type": "execute_result"
    }
   ],
   "source": [
    "2 > 2"
   ]
  },
  {
   "cell_type": "markdown",
   "id": "20a9caff-1688-4b5c-ae1f-6460d2a2304e",
   "metadata": {},
   "source": [
    "**menor que**"
   ]
  },
  {
   "cell_type": "code",
   "execution_count": 8,
   "id": "f6a2d001-7f5d-4127-8679-1081127c112b",
   "metadata": {},
   "outputs": [
    {
     "data": {
      "text/plain": [
       "False"
      ]
     },
     "execution_count": 8,
     "metadata": {},
     "output_type": "execute_result"
    }
   ],
   "source": [
    "2 < 2"
   ]
  },
  {
   "cell_type": "markdown",
   "id": "43c49d57-8911-4d85-905c-a16957b0ff0d",
   "metadata": {},
   "source": [
    "**maior/menor ou igual que**"
   ]
  },
  {
   "cell_type": "code",
   "execution_count": 9,
   "id": "70b82809-47af-4c92-acaf-d26231608454",
   "metadata": {},
   "outputs": [
    {
     "data": {
      "text/plain": [
       "True"
      ]
     },
     "execution_count": 9,
     "metadata": {},
     "output_type": "execute_result"
    }
   ],
   "source": [
    "2 >= 2"
   ]
  },
  {
   "cell_type": "code",
   "execution_count": 10,
   "id": "582e4733-bc0d-4b41-8175-cb64a8ed199f",
   "metadata": {},
   "outputs": [
    {
     "data": {
      "text/plain": [
       "True"
      ]
     },
     "execution_count": 10,
     "metadata": {},
     "output_type": "execute_result"
    }
   ],
   "source": [
    "2 <= 2"
   ]
  },
  {
   "cell_type": "code",
   "execution_count": 11,
   "id": "f35ccef5-0127-4bef-aff3-4e4baffbe170",
   "metadata": {},
   "outputs": [
    {
     "ename": "SyntaxError",
     "evalue": "cannot assign to literal (2224517839.py, line 1)",
     "output_type": "error",
     "traceback": [
      "\u001b[1;36m  Cell \u001b[1;32mIn[11], line 1\u001b[1;36m\u001b[0m\n\u001b[1;33m    2 =< 2\u001b[0m\n\u001b[1;37m    ^\u001b[0m\n\u001b[1;31mSyntaxError\u001b[0m\u001b[1;31m:\u001b[0m cannot assign to literal\n"
     ]
    }
   ],
   "source": [
    "2 =< 2"
   ]
  },
  {
   "cell_type": "markdown",
   "id": "3f3dbcc3-be94-4b1e-907e-3dabe9d36d99",
   "metadata": {},
   "source": [
    "o código pode dar erro se inverter a sentença."
   ]
  },
  {
   "cell_type": "code",
   "execution_count": 12,
   "id": "96f00bec-4dde-43e8-aa78-1744a7e41fef",
   "metadata": {},
   "outputs": [
    {
     "data": {
      "text/plain": [
       "True"
      ]
     },
     "execution_count": 12,
     "metadata": {},
     "output_type": "execute_result"
    }
   ],
   "source": [
    "2 <= 4"
   ]
  },
  {
   "cell_type": "code",
   "execution_count": 13,
   "id": "e63facb9-1ef4-4895-84ba-f5b32809b4f1",
   "metadata": {
    "tags": []
   },
   "outputs": [
    {
     "data": {
      "text/plain": [
       "False"
      ]
     },
     "execution_count": 13,
     "metadata": {},
     "output_type": "execute_result"
    }
   ],
   "source": [
    "2 >= 5"
   ]
  },
  {
   "cell_type": "markdown",
   "id": "70e895c2-1832-4602-8d8d-822c55150a7e",
   "metadata": {},
   "source": [
    "### OPERADORES DE ATRIBUIÇÃO\n",
    "\n",
    "Os operadores de atribuição são fundamentais em Python para associar valores a variáveis de forma concisa e eficiente. Um dos operadores mais comuns é o \"=\".\n",
    "\n",
    "\n",
    "Exemplo:\n",
    "```python\n",
    "x = 5\n"
   ]
  },
  {
   "cell_type": "code",
   "execution_count": 32,
   "id": "153e3e14-f154-42a4-a0b0-1970b7066253",
   "metadata": {
    "tags": []
   },
   "outputs": [
    {
     "name": "stdout",
     "output_type": "stream",
     "text": [
      "10\n"
     ]
    }
   ],
   "source": [
    "x = 10\n",
    "print(x)"
   ]
  },
  {
   "cell_type": "markdown",
   "id": "c76d9f8f-4fb7-46a2-b3b7-5ea7402fdfa7",
   "metadata": {},
   "source": [
    "\"**+=**\" Operador Soma + Atribuição, Soma o valor atribuido da Variavel."
   ]
  },
  {
   "cell_type": "code",
   "execution_count": 33,
   "id": "35edde27-f9fc-42ac-b4a6-02b66339e186",
   "metadata": {
    "tags": []
   },
   "outputs": [
    {
     "name": "stdout",
     "output_type": "stream",
     "text": [
      "20\n"
     ]
    }
   ],
   "source": [
    "x += 10\n",
    "print(x)"
   ]
  },
  {
   "cell_type": "markdown",
   "id": "cc63ffeb-a719-470b-b9d0-90c88a692d7a",
   "metadata": {},
   "source": [
    "\"**-=**\" Operador Subtração + Atribuição, Subtrai o valor atribuido da variavel."
   ]
  },
  {
   "cell_type": "code",
   "execution_count": 34,
   "id": "b20093c7-c6f5-41a1-8e95-36ed1b9c253b",
   "metadata": {
    "tags": []
   },
   "outputs": [
    {
     "name": "stdout",
     "output_type": "stream",
     "text": [
      "10\n"
     ]
    }
   ],
   "source": [
    "x -= 10\n",
    "print(x)"
   ]
  },
  {
   "cell_type": "markdown",
   "id": "1d28adcf-96fb-440c-86d8-462ea4eb3c89",
   "metadata": {},
   "source": [
    "**LISTA DE OPERADORES DE ATRIBUIÇÃO**\n",
    "\n",
    "Dado que todos operadores vão executar a mesma tarefa baseado em sua indicação matemática, eis a lista:\n",
    "\n",
    "| **OPERADOR** | **SIGNIFICADO** | **EXEMPLO**|\n",
    "|:--|:--|:--|\n",
    "| = | Atribuição | x = 10 |\n",
    "| += | Soma + atribuição | x += 10 (equivale a x = x + 10) |\n",
    "| -= | Subtração + atribuição | x -= 10 (equivale a x = x - 10) |\n",
    "| *= | Multiplicação + atribuição | x *= 10 (equivale a x = x * 10) |\n",
    "| /= | Divisão + atribuição | x /= 10 (equivale a x = x / 10) |\n",
    "| %= | Resto da divisão + atribuição | x %= 10 (equivale a x = x % 10) |\n",
    "| **= | Potência + atribuição | x **= 2 (equivale a x = x ** 2) |\n",
    "| //= | Divisão inteira + atribuição | x //= 10 (equivale a x = x // 10) |"
   ]
  },
  {
   "cell_type": "code",
   "execution_count": 35,
   "id": "5dd4415a-f8d1-4b22-ab00-903229e175f0",
   "metadata": {
    "tags": []
   },
   "outputs": [
    {
     "name": "stdout",
     "output_type": "stream",
     "text": [
      "100\n"
     ]
    }
   ],
   "source": [
    "x *= 10\n",
    "print(x)"
   ]
  },
  {
   "cell_type": "code",
   "execution_count": 36,
   "id": "6dde30e8-b593-4f9b-bbe1-9894a6fb03e8",
   "metadata": {
    "tags": []
   },
   "outputs": [
    {
     "name": "stdout",
     "output_type": "stream",
     "text": [
      "10.0\n"
     ]
    }
   ],
   "source": [
    "x /= 10\n",
    "print(x)"
   ]
  },
  {
   "cell_type": "code",
   "execution_count": 37,
   "id": "00aa4814-e558-4eb5-afaf-bf80b7974881",
   "metadata": {
    "tags": []
   },
   "outputs": [
    {
     "name": "stdout",
     "output_type": "stream",
     "text": [
      "0.0\n"
     ]
    }
   ],
   "source": [
    "x %= 10\n",
    "print(x)"
   ]
  },
  {
   "cell_type": "code",
   "execution_count": 38,
   "id": "dd44cf19-a7f0-419f-ab09-e668b96f1099",
   "metadata": {
    "tags": []
   },
   "outputs": [
    {
     "data": {
      "text/plain": [
       "25.0"
      ]
     },
     "execution_count": 38,
     "metadata": {},
     "output_type": "execute_result"
    }
   ],
   "source": [
    "x += 25\n",
    "x"
   ]
  },
  {
   "cell_type": "code",
   "execution_count": 39,
   "id": "3dadda9a-85f9-4b27-92a0-2c65c734a3bf",
   "metadata": {
    "tags": []
   },
   "outputs": [
    {
     "name": "stdout",
     "output_type": "stream",
     "text": [
      "95367431640625.0\n"
     ]
    }
   ],
   "source": [
    "x **= 10\n",
    "print(x)"
   ]
  },
  {
   "cell_type": "code",
   "execution_count": 40,
   "id": "acf557e4-13d5-433a-afb7-de42fbcdca90",
   "metadata": {
    "tags": []
   },
   "outputs": [
    {
     "name": "stdout",
     "output_type": "stream",
     "text": [
      "9536743164062.0\n"
     ]
    }
   ],
   "source": [
    "x //= 10\n",
    "print(x)"
   ]
  },
  {
   "cell_type": "code",
   "execution_count": null,
   "id": "2e862c54-170e-4850-acb3-c9d4f3298d4a",
   "metadata": {},
   "outputs": [],
   "source": []
  }
 ],
 "metadata": {
  "kernelspec": {
   "display_name": "Python 3 (ipykernel)",
   "language": "python",
   "name": "python3"
  },
  "language_info": {
   "codemirror_mode": {
    "name": "ipython",
    "version": 3
   },
   "file_extension": ".py",
   "mimetype": "text/x-python",
   "name": "python",
   "nbconvert_exporter": "python",
   "pygments_lexer": "ipython3",
   "version": "3.10.9"
  }
 },
 "nbformat": 4,
 "nbformat_minor": 5
}

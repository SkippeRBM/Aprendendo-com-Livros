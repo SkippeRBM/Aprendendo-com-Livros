{
 "cells": [
  {
   "cell_type": "markdown",
   "id": "8d387a1f-462c-434f-a5f8-fa782b16a037",
   "metadata": {},
   "source": [
    "# ESTRUTURA DE LAÇO OU ESTRUTURA DE REPETIÇÃO (FOR, WHILE)\n",
    "\n",
    "A estrutura de laço é responsavel por criar desvios no código, tendo somente duas dela **FOR**(\"para\", como a expressão matemáticamente \"para todo\") e **WHILE**(enquanto, como na expressão matemática \"enquanto x for...\")."
   ]
  },
  {
   "cell_type": "markdown",
   "id": "c0c372ac-e70b-48b7-b642-36f5d6fd3e1c",
   "metadata": {},
   "source": [
    "# FOR\n",
    "\n",
    "A estrutura for é uma das mais utilizadas, essa é uma estrurura de repetição, permitindo assim que um bloco de código se repita por um número determinado de vezes.\n",
    "\n",
    "\n",
    "Sua sintaxe básica é:\n",
    "\n",
    "**for** item **in** conjunto_de_itens:\n",
    "-     intruções para repetir\n",
    "\n",
    "O uso comum para recorrentes listas, strings, tuplas, dicionário e arquivos diversos."
   ]
  },
  {
   "cell_type": "raw",
   "id": "c14da7f5-d69b-4e1f-bf26-11b1cd8b1075",
   "metadata": {},
   "source": [
    "EXEMPLO 1: \n",
    "Criar um código que imprima os números de 0 a 10 na tela, para isso, utilizaremos uma estrutura \"\"for\"\" com a função range (start, stop), essa função ira gerar um intervalo de numeros. O Valor final e não entra na repetição:"
   ]
  },
  {
   "cell_type": "code",
   "execution_count": 1,
   "id": "00a35ffd-c91d-4266-b68d-6084d079ddac",
   "metadata": {
    "tags": []
   },
   "outputs": [
    {
     "name": "stdout",
     "output_type": "stream",
     "text": [
      "0\n",
      "1\n",
      "2\n",
      "3\n",
      "4\n",
      "5\n",
      "6\n",
      "7\n",
      "8\n",
      "9\n",
      "10\n"
     ]
    }
   ],
   "source": [
    "for i in range(0, 11):\n",
    "    print(i)"
   ]
  },
  {
   "cell_type": "markdown",
   "id": "65c73039-a433-4976-9c94-9c6ba8624a76",
   "metadata": {},
   "source": [
    "Como observado, o 11 é excluido."
   ]
  },
  {
   "cell_type": "raw",
   "id": "0cd0abdf-ea26-490b-92c1-e2daa6be7077",
   "metadata": {},
   "source": [
    "EXEMPLO 2: \n",
    "Imprimir na tela todos elemenos de uma lista de strings em um linha. Utilizaremos a variavel de repetição no singular para ficar mais obvio que estamos manipulando um elemento somente dentro do conjunto. Vamos deixar a primera letra de cada String em maiusculo."
   ]
  },
  {
   "cell_type": "code",
   "execution_count": 2,
   "id": "4e5c17c4-bfc9-4628-b42c-07dfadd1739a",
   "metadata": {
    "tags": []
   },
   "outputs": [],
   "source": [
    "eletros = [\"televisão\", \"microondas\", \"aspirador\", \"geladeira\", \"airfryer\", \"ventilador\", \"computador\", \"kindle\", \"notebook\", \"celular\", \"projetor\"]"
   ]
  },
  {
   "cell_type": "code",
   "execution_count": 3,
   "id": "2bb16a4c-a6c0-413d-a2f6-d7a461fa93c9",
   "metadata": {
    "tags": []
   },
   "outputs": [
    {
     "name": "stdout",
     "output_type": "stream",
     "text": [
      "Nome do eletro:  Televisão\n",
      "Nome do eletro:  Microondas\n",
      "Nome do eletro:  Aspirador\n",
      "Nome do eletro:  Geladeira\n",
      "Nome do eletro:  Airfryer\n",
      "Nome do eletro:  Ventilador\n",
      "Nome do eletro:  Computador\n",
      "Nome do eletro:  Kindle\n",
      "Nome do eletro:  Notebook\n",
      "Nome do eletro:  Celular\n",
      "Nome do eletro:  Projetor\n"
     ]
    }
   ],
   "source": [
    "for eletro in eletros:\n",
    "    print(\"Nome do eletro: \", eletro.capitalize())"
   ]
  },
  {
   "cell_type": "raw",
   "id": "cd5d26e6-4ba6-4897-8979-280ae00e5dd2",
   "metadata": {},
   "source": [
    "EXEMPLO 3: \n",
    "Precisamos de um programa que mostra na tela os números pares de 0 a 39(ad infinitum), utilizando for e if:"
   ]
  },
  {
   "cell_type": "code",
   "execution_count": 4,
   "id": "bb2e13d8-055d-431e-8640-784ee411256f",
   "metadata": {
    "tags": []
   },
   "outputs": [
    {
     "name": "stdout",
     "output_type": "stream",
     "text": [
      "0\n",
      "2\n",
      "4\n",
      "6\n",
      "8\n",
      "10\n",
      "12\n",
      "14\n",
      "16\n",
      "18\n",
      "20\n",
      "22\n",
      "24\n",
      "26\n",
      "28\n",
      "30\n",
      "32\n",
      "34\n",
      "36\n",
      "38\n"
     ]
    }
   ],
   "source": [
    "for i in range(0, 40):\n",
    "    if i % 2 == 0:\n",
    "        print(i)"
   ]
  },
  {
   "cell_type": "raw",
   "id": "b9f1d091-9d88-47ac-aadc-9add73da5772",
   "metadata": {},
   "source": [
    "EXEMPLO 4:\n",
    "O programa tem que ser capaz de ler todo texto digitado pelo usuário e imprimir as lestras separaradas com \"-\":"
   ]
  },
  {
   "cell_type": "code",
   "execution_count": 5,
   "id": "8a5d7ec4-98e5-44af-8d5a-e29837125715",
   "metadata": {
    "tags": []
   },
   "outputs": [
    {
     "name": "stdin",
     "output_type": "stream",
     "text": [
      "Digite seu texto: O texto criativo de aula\n"
     ]
    }
   ],
   "source": [
    "texto = input(\"Digite seu texto:\")"
   ]
  },
  {
   "cell_type": "code",
   "execution_count": 6,
   "id": "5cce51d5-a780-4ddd-b9d8-0d9f0275f282",
   "metadata": {
    "tags": []
   },
   "outputs": [],
   "source": [
    "saida = \"\""
   ]
  },
  {
   "cell_type": "code",
   "execution_count": 7,
   "id": "7569f0c6-0374-4297-99bf-876a7a8103b9",
   "metadata": {
    "tags": []
   },
   "outputs": [
    {
     "name": "stdout",
     "output_type": "stream",
     "text": [
      "O-\n",
      "O- -\n",
      "O- -t-\n",
      "O- -t-e-\n",
      "O- -t-e-x-\n",
      "O- -t-e-x-t-\n",
      "O- -t-e-x-t-o-\n",
      "O- -t-e-x-t-o- -\n",
      "O- -t-e-x-t-o- -c-\n",
      "O- -t-e-x-t-o- -c-r-\n",
      "O- -t-e-x-t-o- -c-r-i-\n",
      "O- -t-e-x-t-o- -c-r-i-a-\n",
      "O- -t-e-x-t-o- -c-r-i-a-t-\n",
      "O- -t-e-x-t-o- -c-r-i-a-t-i-\n",
      "O- -t-e-x-t-o- -c-r-i-a-t-i-v-\n",
      "O- -t-e-x-t-o- -c-r-i-a-t-i-v-o-\n",
      "O- -t-e-x-t-o- -c-r-i-a-t-i-v-o- -\n",
      "O- -t-e-x-t-o- -c-r-i-a-t-i-v-o- -d-\n",
      "O- -t-e-x-t-o- -c-r-i-a-t-i-v-o- -d-e-\n",
      "O- -t-e-x-t-o- -c-r-i-a-t-i-v-o- -d-e- -\n",
      "O- -t-e-x-t-o- -c-r-i-a-t-i-v-o- -d-e- -a-\n",
      "O- -t-e-x-t-o- -c-r-i-a-t-i-v-o- -d-e- -a-u-\n",
      "O- -t-e-x-t-o- -c-r-i-a-t-i-v-o- -d-e- -a-u-l-\n",
      "O- -t-e-x-t-o- -c-r-i-a-t-i-v-o- -d-e- -a-u-l-a-\n"
     ]
    }
   ],
   "source": [
    "for letra in texto:\n",
    "    saida += letra + \"-\"\n",
    "    print(saida)"
   ]
  },
  {
   "cell_type": "raw",
   "id": "51adba7f-83e5-46a2-afe8-fbfa31d9ab8f",
   "metadata": {},
   "source": [
    "EXEMPLO 5: \n",
    "Imprimir o relátorio de todos os dados dentro de um dicionário contendo nome, idade, salário de n funcionáros de uma empresa."
   ]
  },
  {
   "cell_type": "code",
   "execution_count": 10,
   "id": "9a27f838-dbfc-4282-bfd8-214ebbdd230f",
   "metadata": {
    "tags": []
   },
   "outputs": [],
   "source": [
    "dados = {\n",
    "         \"func1\" : {\"nome\" : \"Ibério\", \"idade\" : \"30\", \"salário\" : 2500}, \n",
    "         \"func2\" : {\"nome\" : \"Alinelson\", \"idade\" : \"45\", \"salário\" : 5500},\n",
    "         \"func3\" : {\"nome\" : \"Rafaelson\", \"idade\" : \"38\", \"salário\" : 4500},\n",
    "         \"func4\" : {\"nome\" : \"Carls\", \"idade\" : \"33\", \"salário\" : 2500},\n",
    "         \"func5\" : {\"nome\" : \"Silfred\", \"idade\" : \"32\", \"salário\" : 1700},\n",
    "         \"func6\" : {\"nome\" : \"Kellen\", \"idade\" : \"26\", \"salário\" : 2150},\n",
    "         \"func7\" : {\"nome\" : \"Hingryd\", \"idade\" : \"27\", \"salário\" : 1800},\n",
    "         \"func8\" : {\"nome\" : \"Brienda\", \"idade\" : \"25\", \"salário\" : 2200},\n",
    "         \"func9\" : {\"nome\" : \"Valkilayne\", \"idade\" : \"36\", \"salário\" : 2000},\n",
    "         \"func10\" : {\"nome\" : \"Jeff\", \"idade\" : \"40\", \"salário\" : 2500}\n",
    "        }"
   ]
  },
  {
   "cell_type": "code",
   "execution_count": 12,
   "id": "bc60f426-6665-41e6-a21a-43a769d6bd7c",
   "metadata": {
    "tags": []
   },
   "outputs": [
    {
     "name": "stdout",
     "output_type": "stream",
     "text": [
      "Nome: Ibério\n",
      "Idade: 30\n",
      "Salário: 2500\n",
      "--------------------\n",
      "Nome: Alinelson\n",
      "Idade: 45\n",
      "Salário: 5500\n",
      "--------------------\n",
      "Nome: Rafaelson\n",
      "Idade: 38\n",
      "Salário: 4500\n",
      "--------------------\n",
      "Nome: Carls\n",
      "Idade: 33\n",
      "Salário: 2500\n",
      "--------------------\n",
      "Nome: Silfred\n",
      "Idade: 32\n",
      "Salário: 1700\n",
      "--------------------\n",
      "Nome: Kellen\n",
      "Idade: 26\n",
      "Salário: 2150\n",
      "--------------------\n",
      "Nome: Hingryd\n",
      "Idade: 27\n",
      "Salário: 1800\n",
      "--------------------\n",
      "Nome: Brienda\n",
      "Idade: 25\n",
      "Salário: 2200\n",
      "--------------------\n",
      "Nome: Valkilayne\n",
      "Idade: 36\n",
      "Salário: 2000\n",
      "--------------------\n",
      "Nome: Jeff\n",
      "Idade: 40\n",
      "Salário: 2500\n",
      "--------------------\n"
     ]
    }
   ],
   "source": [
    "for funcionario in dados:\n",
    "    print(\"Nome:\", dados[funcionario][\"nome\"])\n",
    "    print(\"Idade:\", dados[funcionario][\"idade\"])\n",
    "    print(\"Salário:\", dados[funcionario][\"salário\"])\n",
    "    print(\"-\"*20)"
   ]
  },
  {
   "cell_type": "markdown",
   "id": "2695c82f-1460-428c-8c3c-dba85dc54da4",
   "metadata": {},
   "source": [
    "*Existem formas mais diretas de resolver este exemplo, porém o exemplo é para ser sobre os conceitos básicos.*"
   ]
  },
  {
   "cell_type": "markdown",
   "id": "781cef00-c5ec-4615-b925-ae317cf293ab",
   "metadata": {},
   "source": [
    "# WHILE\n",
    "A estrutura de repetição **while** faz a repetição da instrução até que a condição fornecida se torne falsa, ou seja, enquanto a condição for verdadeira a estrutura irá se repetir *(sempre tome muito cuidado com estruturas de repetição, principalmente o while, ela pode deixar seu programa em looping ou o tornar muito pesado)* \n",
    "\n",
    "sintaxe básica:"
   ]
  },
  {
   "cell_type": "raw",
   "id": "62be4de4-5acb-4bcc-965d-19e5d56cbf9b",
   "metadata": {},
   "source": [
    "while (expressão):\n",
    "    intruções para repetir"
   ]
  },
  {
   "cell_type": "markdown",
   "id": "c9934a28-7802-47c3-9a60-707260afdff1",
   "metadata": {},
   "source": [
    "A única observação em relação a essa estrutura é que geralmente devemos\n",
    "inicializar a variável da condição antes da estrutura e incrementar ou decrementar a mesma dentro da estrutura para que a condição se torne falsa em algum momento.\n",
    "**Observe:**"
   ]
  },
  {
   "cell_type": "raw",
   "id": "2e72ddf8-ef99-4477-b950-7c257fafe0ae",
   "metadata": {},
   "source": [
    "EXEMPLO 1:\n",
    "Vamos imprimir na tela os valores de 1 a 10 e para cada valor devemos calcular a expressão x³, sendo que x será o valor de cada repetição:"
   ]
  },
  {
   "cell_type": "code",
   "execution_count": 13,
   "id": "8f079a82-f839-47bd-b171-fa1c68db3bc5",
   "metadata": {
    "tags": []
   },
   "outputs": [
    {
     "name": "stdout",
     "output_type": "stream",
     "text": [
      "Tabela de 1 a 10 elevado a 3ª potência\n",
      "1 - 1\n",
      "2 - 8\n",
      "3 - 27\n",
      "4 - 64\n",
      "5 - 125\n",
      "6 - 216\n",
      "7 - 343\n",
      "8 - 512\n",
      "9 - 729\n",
      "10 - 1000\n"
     ]
    }
   ],
   "source": [
    "i = 1\n",
    "print(\"Tabela de 1 a 10 elevado a 3ª potência\")\n",
    "while i<=10:\n",
    "    print(i, \"-\", (i**3))\n",
    "    i += 1"
   ]
  },
  {
   "cell_type": "raw",
   "id": "63a88600-fc8a-47ae-84ee-0982fceb6485",
   "metadata": {},
   "source": [
    "EXEMPLO 2:\n",
    "Utilizando um laço infinito e quando o usuário digita 0, chamaremos o comando break para encerrar o laço.\n",
    "O programa que é capaz de ler n valores inteiro; quando o usuário digitar 0, devemos parar a leitura e mostrar a somatórios dos valores lidos."
   ]
  },
  {
   "cell_type": "code",
   "execution_count": 14,
   "id": "f03c86c6-1d72-40dc-83fb-1f40460435f2",
   "metadata": {
    "tags": []
   },
   "outputs": [],
   "source": [
    "soma = 0"
   ]
  },
  {
   "cell_type": "code",
   "execution_count": 16,
   "id": "bdcd73ca-e762-49b4-b409-799da9bed747",
   "metadata": {
    "tags": []
   },
   "outputs": [
    {
     "name": "stdin",
     "output_type": "stream",
     "text": [
      "Digite o número:  98\n"
     ]
    },
    {
     "name": "stdout",
     "output_type": "stream",
     "text": [
      "457261\n"
     ]
    },
    {
     "name": "stdin",
     "output_type": "stream",
     "text": [
      "Digite o número:  656\n"
     ]
    },
    {
     "name": "stdout",
     "output_type": "stream",
     "text": [
      "457917\n"
     ]
    },
    {
     "name": "stdin",
     "output_type": "stream",
     "text": [
      "Digite o número:  412\n"
     ]
    },
    {
     "name": "stdout",
     "output_type": "stream",
     "text": [
      "458329\n"
     ]
    },
    {
     "name": "stdin",
     "output_type": "stream",
     "text": [
      "Digite o número:  245\n"
     ]
    },
    {
     "name": "stdout",
     "output_type": "stream",
     "text": [
      "458574\n"
     ]
    },
    {
     "name": "stdin",
     "output_type": "stream",
     "text": [
      "Digite o número:  0\n"
     ]
    }
   ],
   "source": [
    "while True:\n",
    "    valor = int(input(\"Digite o número: \"))\n",
    "    if valor != 0:\n",
    "        soma += valor\n",
    "    else:\n",
    "         break\n",
    "    print(soma)"
   ]
  },
  {
   "cell_type": "code",
   "execution_count": null,
   "id": "fcb34f74-b798-4fec-b469-45283a3701b8",
   "metadata": {},
   "outputs": [],
   "source": []
  }
 ],
 "metadata": {
  "kernelspec": {
   "display_name": "Python 3 (ipykernel)",
   "language": "python",
   "name": "python3"
  },
  "language_info": {
   "codemirror_mode": {
    "name": "ipython",
    "version": 3
   },
   "file_extension": ".py",
   "mimetype": "text/x-python",
   "name": "python",
   "nbconvert_exporter": "python",
   "pygments_lexer": "ipython3",
   "version": "3.10.9"
  }
 },
 "nbformat": 4,
 "nbformat_minor": 5
}

{
 "cells": [
  {
   "cell_type": "markdown",
   "id": "e0d11893-c6bf-412b-8c1e-0f9434987329",
   "metadata": {},
   "source": [
    "# Variáveis em Python\n",
    "\n",
    "Em `Python`, variáveis são usadas para armazenar valores e nomear áreas de memória onde os dados são guardados. O símbolo `=` é utilizado para atribuir um valor a uma variável. No lado esquerdo, colocamos o nome da variável que queremos criar, e no lado direito colocamos o valor que queremos armazenar nela.\n",
    "\n",
    "Às vezes, vamos criar variáveis que dependem de outras variáveis, como por exemplo `a = b + c`. Nesse caso, `b + c = a` não é diferente da expressão anterior, pois para a lógica do `Python` é importante que você sempre indique a criação da variável e a identifique antes de atribuir valores a ela."
   ]
  },
  {
   "cell_type": "code",
   "execution_count": 1,
   "id": "a20d829a-e5fc-46da-a201-bb773e72de95",
   "metadata": {},
   "outputs": [],
   "source": [
    "a = 5"
   ]
  },
  {
   "cell_type": "code",
   "execution_count": 2,
   "id": "f94b6f23-7ae3-48df-be57-87f8d9706d42",
   "metadata": {},
   "outputs": [
    {
     "name": "stdout",
     "output_type": "stream",
     "text": [
      "5\n"
     ]
    }
   ],
   "source": [
    "print(a)"
   ]
  },
  {
   "cell_type": "code",
   "execution_count": 8,
   "id": "241a44b2-082f-47c4-aab5-87d76950ccf6",
   "metadata": {
    "tags": []
   },
   "outputs": [
    {
     "data": {
      "text/plain": [
       "5"
      ]
     },
     "execution_count": 8,
     "metadata": {},
     "output_type": "execute_result"
    }
   ],
   "source": [
    "a"
   ]
  },
  {
   "cell_type": "code",
   "execution_count": 9,
   "id": "08301237-b50b-4ad9-a0bb-dd83af26f2ed",
   "metadata": {},
   "outputs": [],
   "source": [
    "b = \"batata doce\""
   ]
  },
  {
   "cell_type": "code",
   "execution_count": 10,
   "id": "b0a2a989-72e8-4cf6-b2fe-301a04979961",
   "metadata": {},
   "outputs": [
    {
     "name": "stdout",
     "output_type": "stream",
     "text": [
      "batata doce\n"
     ]
    }
   ],
   "source": [
    "print(b)"
   ]
  },
  {
   "cell_type": "code",
   "execution_count": 11,
   "id": "9f5d0ddb-2096-4ccd-bbf8-e5f08934255c",
   "metadata": {
    "tags": []
   },
   "outputs": [
    {
     "data": {
      "text/plain": [
       "'batata doce'"
      ]
     },
     "execution_count": 11,
     "metadata": {},
     "output_type": "execute_result"
    }
   ],
   "source": [
    "b"
   ]
  },
  {
   "cell_type": "code",
   "execution_count": 22,
   "id": "9861f743-cd3c-463b-bc1f-fd9e0043db37",
   "metadata": {},
   "outputs": [],
   "source": [
    "precocarro = 16000"
   ]
  },
  {
   "cell_type": "code",
   "execution_count": 23,
   "id": "b4ef515d-9a1c-4117-a0e6-504b68a43b99",
   "metadata": {},
   "outputs": [
    {
     "data": {
      "text/plain": [
       "16000"
      ]
     },
     "execution_count": 23,
     "metadata": {},
     "output_type": "execute_result"
    }
   ],
   "source": [
    "precocarro"
   ]
  },
  {
   "cell_type": "code",
   "execution_count": 24,
   "id": "6c692106-1174-47f2-902b-162f39d5a08e",
   "metadata": {},
   "outputs": [],
   "source": [
    "c = precocarro"
   ]
  },
  {
   "cell_type": "code",
   "execution_count": 25,
   "id": "1991aff9-49aa-42d2-a90d-d2db1eea75a4",
   "metadata": {},
   "outputs": [
    {
     "data": {
      "text/plain": [
       "16000"
      ]
     },
     "execution_count": 25,
     "metadata": {},
     "output_type": "execute_result"
    }
   ],
   "source": [
    "c"
   ]
  },
  {
   "cell_type": "code",
   "execution_count": 26,
   "id": "a08d9277-587d-483a-bc44-d6590b4e17cf",
   "metadata": {},
   "outputs": [],
   "source": [
    "d = c + a"
   ]
  },
  {
   "cell_type": "code",
   "execution_count": 27,
   "id": "7065aa3b-d479-4299-912a-bada8c71512e",
   "metadata": {},
   "outputs": [
    {
     "data": {
      "text/plain": [
       "16005"
      ]
     },
     "execution_count": 27,
     "metadata": {},
     "output_type": "execute_result"
    }
   ],
   "source": [
    "d"
   ]
  },
  {
   "cell_type": "code",
   "execution_count": 28,
   "id": "ce4152c5-e8f1-44bc-bd93-364274e7f163",
   "metadata": {},
   "outputs": [],
   "source": [
    "e = a - c / d"
   ]
  },
  {
   "cell_type": "code",
   "execution_count": 29,
   "id": "626c5ff4-f8b8-40f7-88d9-8a74b37167e3",
   "metadata": {},
   "outputs": [
    {
     "data": {
      "text/plain": [
       "4.000312402374258"
      ]
     },
     "execution_count": 29,
     "metadata": {},
     "output_type": "execute_result"
    }
   ],
   "source": [
    "e"
   ]
  },
  {
   "cell_type": "code",
   "execution_count": 30,
   "id": "f5039917-ff10-4ee2-a088-c5c151d250fa",
   "metadata": {},
   "outputs": [],
   "source": [
    "f = (e - c)*d"
   ]
  },
  {
   "cell_type": "code",
   "execution_count": 31,
   "id": "4da8c816-26b7-4e03-98d1-3b709da8c922",
   "metadata": {},
   "outputs": [
    {
     "data": {
      "text/plain": [
       "-256015975.0"
      ]
     },
     "execution_count": 31,
     "metadata": {},
     "output_type": "execute_result"
    }
   ],
   "source": [
    "f"
   ]
  },
  {
   "cell_type": "code",
   "execution_count": 32,
   "id": "b1d8e94a-d312-4dd0-9151-897ea145ace3",
   "metadata": {},
   "outputs": [],
   "source": [
    "g = f / d"
   ]
  },
  {
   "cell_type": "code",
   "execution_count": 33,
   "id": "07a5fa08-b2bc-4116-bebd-b700c716b6c6",
   "metadata": {},
   "outputs": [
    {
     "data": {
      "text/plain": [
       "-15995.999687597625"
      ]
     },
     "execution_count": 33,
     "metadata": {},
     "output_type": "execute_result"
    }
   ],
   "source": [
    "g"
   ]
  },
  {
   "cell_type": "code",
   "execution_count": 34,
   "id": "be1753bb-5ad0-4c7d-895a-95b953f843a4",
   "metadata": {},
   "outputs": [],
   "source": [
    "h = (g * f) / d + (a / c)"
   ]
  },
  {
   "cell_type": "code",
   "execution_count": 35,
   "id": "f636a596-364d-4186-af80-c591e7572193",
   "metadata": {},
   "outputs": [
    {
     "data": {
      "text/plain": [
       "255872006.00593585"
      ]
     },
     "execution_count": 35,
     "metadata": {},
     "output_type": "execute_result"
    }
   ],
   "source": [
    "h"
   ]
  },
  {
   "cell_type": "code",
   "execution_count": 36,
   "id": "69a5b7e2-d1aa-4a57-bdd4-891f4efe4993",
   "metadata": {},
   "outputs": [],
   "source": [
    "j = h / d"
   ]
  },
  {
   "cell_type": "code",
   "execution_count": 37,
   "id": "4dc8814c-3e0f-4a90-a00e-440f2cd854b6",
   "metadata": {},
   "outputs": [
    {
     "data": {
      "text/plain": [
       "15987.004436484589"
      ]
     },
     "execution_count": 37,
     "metadata": {},
     "output_type": "execute_result"
    }
   ],
   "source": [
    "j"
   ]
  },
  {
   "cell_type": "code",
   "execution_count": 38,
   "id": "53dfaa8a-418c-4a49-b607-b58f4245e206",
   "metadata": {},
   "outputs": [],
   "source": [
    "k = j + e + a + g"
   ]
  },
  {
   "cell_type": "code",
   "execution_count": 39,
   "id": "ea0db062-38c8-4c92-bee4-4a162231a8f3",
   "metadata": {},
   "outputs": [
    {
     "data": {
      "text/plain": [
       "0.005061289339209907"
      ]
     },
     "execution_count": 39,
     "metadata": {},
     "output_type": "execute_result"
    }
   ],
   "source": [
    "k"
   ]
  },
  {
   "cell_type": "markdown",
   "id": "b9f3f42b",
   "metadata": {},
   "source": [
    "## 3.1 Nomes de variáveis\n",
    "Variaveis em `python` deve iniciar obrigatóriamente com uma letra ou (_), após podem conter caractere, letras, numeros ou sublinha. veja o exemplo\n",
    "| Nome | Válido                  | Comentário                  |\n",
    "|----------|----------------------------|----------------------------|\n",
    "| a1 | sim | desde que não inicie com o numero |\n",
    "| velocidade | sim | padrão, apenas por letras |\n",
    "| velocidade90 | sim | letras e numeros, iniciado por letras |\n",
    "| salário_médio | sim | acentuação é permitida e o uso (_) ajuda na leitura de variaveis com nomes grandes |\n",
    "| salário médio | não | nome de variaveis não podem conter espaços |\n",
    "| _b | sim | iniciar com (_) tambem é aceito |\n",
    "| 1a | não | variaveis não podem iniciar com numero |"
   ]
  },
  {
   "cell_type": "markdown",
   "id": "46bdfc71",
   "metadata": {},
   "source": [
    "## 3.2 Variáveis numéricas\n",
    "Armazena numeros inteiros ou ponto flutuantes, podemos utiliza (_), para separar as casas em numeros grandes e o (.) para separa numeros que aqui são chamados de float(flutuantes). EX:"
   ]
  },
  {
   "cell_type": "code",
   "execution_count": 1,
   "id": "775bb171",
   "metadata": {},
   "outputs": [
    {
     "data": {
      "text/plain": [
       "1000"
      ]
     },
     "execution_count": 1,
     "metadata": {},
     "output_type": "execute_result"
    }
   ],
   "source": [
    "a = 1_000\n",
    "a"
   ]
  },
  {
   "cell_type": "code",
   "execution_count": 2,
   "id": "73ae86df",
   "metadata": {},
   "outputs": [
    {
     "data": {
      "text/plain": [
       "2.7"
      ]
     },
     "execution_count": 2,
     "metadata": {},
     "output_type": "execute_result"
    }
   ],
   "source": [
    "b = 2.7\n",
    "b"
   ]
  },
  {
   "cell_type": "code",
   "execution_count": 3,
   "id": "0f9e7e59",
   "metadata": {},
   "outputs": [
    {
     "data": {
      "text/plain": [
       "float"
      ]
     },
     "execution_count": 3,
     "metadata": {},
     "output_type": "execute_result"
    }
   ],
   "source": [
    "type(b)"
   ]
  },
  {
   "cell_type": "code",
   "execution_count": 4,
   "id": "aef6660f",
   "metadata": {},
   "outputs": [
    {
     "data": {
      "text/plain": [
       "int"
      ]
     },
     "execution_count": 4,
     "metadata": {},
     "output_type": "execute_result"
    }
   ],
   "source": [
    "type(a)"
   ]
  },
  {
   "cell_type": "code",
   "execution_count": 5,
   "id": "7accd987",
   "metadata": {},
   "outputs": [
    {
     "data": {
      "text/plain": [
       "1000746987333"
      ]
     },
     "execution_count": 5,
     "metadata": {},
     "output_type": "execute_result"
    }
   ],
   "source": [
    "c = 1_000_746_987_333\n",
    "c"
   ]
  },
  {
   "cell_type": "markdown",
   "id": "5b7d352f",
   "metadata": {},
   "source": [
    "Perceba que a utilização de (_) é destinada a deixar o código mais legivel, dado que para o usuário que visualização impressão na tela nada é alterado. Por isso é conveniente utilizar na casa dos milhares."
   ]
  },
  {
   "cell_type": "code",
   "execution_count": 7,
   "id": "fdf29c4a",
   "metadata": {},
   "outputs": [
    {
     "data": {
      "text/plain": [
       "1980.0"
      ]
     },
     "execution_count": 7,
     "metadata": {},
     "output_type": "execute_result"
    }
   ],
   "source": [
    "#nada impede de utilizar ambos juntos\n",
    "d = 1_980.0\n",
    "d"
   ]
  },
  {
   "cell_type": "markdown",
   "id": "f19145f6",
   "metadata": {},
   "source": [
    "### 3.2.1 Representando valores numéricos\n",
    "Podemos representar valores numéricos de diversas formas o comum é utilizar o sistema decimal de base 10, porém internamente os numeros são represetados em sistema binário, ou seja, de base 2. Esse sistema permite apenas os digitos 0 e 1."
   ]
  },
  {
   "cell_type": "markdown",
   "id": "1990c9e6",
   "metadata": {},
   "source": [
    "531 = 5x 10² + 3 x 10¹ + 1 x 10^0"
   ]
  },
  {
   "cell_type": "code",
   "execution_count": 8,
   "id": "a13d9111",
   "metadata": {},
   "outputs": [
    {
     "data": {
      "text/plain": [
       "531"
      ]
     },
     "execution_count": 8,
     "metadata": {},
     "output_type": "execute_result"
    }
   ],
   "source": [
    "(5 * (10 ** 2)) + (3 * (10 ** 1)) + (1* (10**0))"
   ]
  },
  {
   "cell_type": "markdown",
   "id": "d41a85a5",
   "metadata": {},
   "source": [
    "vejamos em base binária\n",
    "\n",
    "1010 = 1 x 2³ + 0 x 2² + 1 x 2¹ + 0 x 2^0\n",
    "     = 1 x 8 + 0 x 4 + 1 x 2 + 0 x 1\n",
    "     = 8 + 0 + 2 + 0\n",
    "     = 10"
   ]
  },
  {
   "cell_type": "code",
   "execution_count": 10,
   "id": "cd40dd8a",
   "metadata": {},
   "outputs": [
    {
     "data": {
      "text/plain": [
       "10"
      ]
     },
     "execution_count": 10,
     "metadata": {},
     "output_type": "execute_result"
    }
   ],
   "source": [
    "(1 * (2**3)) + (0 * (2 ** 2)) + (1 * (2 ** 1)) + (0 * (2 ** 0))"
   ]
  },
  {
   "cell_type": "markdown",
   "id": "ca23dd90",
   "metadata": {},
   "source": [
    "No livro ele explica um pouco mais sobre as limitações do uso de binário e decimal, o mesmo para numeros float. Porém essas limitações são de numeros grandes suficientes para em 99% dos casos não lhe causar qualquer problema.\n",
    "Ex: **1.7976931348623157 x 10^308** ou **2.2250738585072014 x 10^-308**\n",
    "\n",
    "esses problemas afetam todas as linguagens de programação, não é especifico do `python`.\n",
    "Ex: 0.1, um numero simples em decimal, porém uma dizima periodica em binário"
   ]
  },
  {
   "cell_type": "code",
   "execution_count": 1,
   "id": "1a4a724d",
   "metadata": {},
   "outputs": [
    {
     "data": {
      "text/plain": [
       "0.30000000000000004"
      ]
     },
     "execution_count": 1,
     "metadata": {},
     "output_type": "execute_result"
    }
   ],
   "source": [
    "0.1 * 3"
   ]
  },
  {
   "cell_type": "markdown",
   "id": "71b88150",
   "metadata": {},
   "source": [
    "Se o resultado esperado era 0.3, ai está. Um problema de representação, vale se atentar a isso quando for criar programas no guturo, se for necessário calculos mais precisos de ponto flutuante, estude um pouco mais separado sobre decimais e frações, por \"Calculo numérico\"."
   ]
  },
  {
   "cell_type": "markdown",
   "id": "f84b2a9b",
   "metadata": {},
   "source": [
    "Você tambme pode trabalhar com base2 (binária), base 8 (octal) ou base 16(hexadecimal), embora pouco utilizado pode ser interessante no futuro. Para isso utilizamos prefixos para binário (0b), octal (0o) e hexadecimal (0x). Ex:"
   ]
  },
  {
   "cell_type": "code",
   "execution_count": 2,
   "id": "41f91e62",
   "metadata": {},
   "outputs": [
    {
     "data": {
      "text/plain": [
       "2"
      ]
     },
     "execution_count": 2,
     "metadata": {},
     "output_type": "execute_result"
    }
   ],
   "source": [
    "a = 0b10 #base 2 - binário\n",
    "a"
   ]
  },
  {
   "cell_type": "code",
   "execution_count": 4,
   "id": "e1ef3cb8",
   "metadata": {},
   "outputs": [
    {
     "data": {
      "text/plain": [
       "16"
      ]
     },
     "execution_count": 4,
     "metadata": {},
     "output_type": "execute_result"
    }
   ],
   "source": [
    "b = 0x10 #base 8 - octal\n",
    "b"
   ]
  },
  {
   "cell_type": "code",
   "execution_count": 6,
   "id": "69f4e7f5",
   "metadata": {},
   "outputs": [
    {
     "data": {
      "text/plain": [
       "8"
      ]
     },
     "execution_count": 6,
     "metadata": {},
     "output_type": "execute_result"
    }
   ],
   "source": [
    "c = 0o10 #base 16 - hexadecimal\n",
    "c"
   ]
  },
  {
   "cell_type": "markdown",
   "id": "cfc4746a",
   "metadata": {},
   "source": [
    "Independente de qual base escolher utilizar a variavel sempre será armazenada e exibida na base 10."
   ]
  },
  {
   "cell_type": "markdown",
   "id": "c50d2252",
   "metadata": {},
   "source": [
    "### 3.3 Variáveis do tipo Lógico\n",
    "Se quisermos armazenar simplesmente: verdadeiro ou falso em uma variavel, utilizaremos um tipo de variavel chamada, lógico ou booleano. Em `python` escrevemos `True` ou `False`.  Letras **T** e **F** maiusculas:\n",
    "\n"
   ]
  },
  {
   "cell_type": "code",
   "execution_count": 7,
   "id": "83404476",
   "metadata": {},
   "outputs": [],
   "source": [
    "resultado = True\n",
    "aprovado = False"
   ]
  },
  {
   "cell_type": "markdown",
   "id": "49193ab6",
   "metadata": {},
   "source": [
    "#### 3.3.1 Operadores relacionais\n",
    "Para realizar comparações precisamos de comparadores lógicos como:\n",
    "| Operador | Operação | Símbolo matemático |\n",
    "|----------|----------|--------------------|\n",
    "| == | igualdade | = |\n",
    "| > | maior que | > |\n",
    "| < | menor que | < |\n",
    "| != | diferente | ≠ |\n",
    "| >= | maior ou igual | ≥ |\n",
    "| <= | menor ou igual | ≤ |"
   ]
  },
  {
   "cell_type": "markdown",
   "id": "24ac9e1e",
   "metadata": {},
   "source": [
    "O resultado dos comparadores sempre será `True` ou `False`:"
   ]
  },
  {
   "cell_type": "code",
   "execution_count": 1,
   "id": "db97983d",
   "metadata": {},
   "outputs": [],
   "source": [
    "a = 1\n",
    "b = 5\n",
    "c = 2\n",
    "d = 1"
   ]
  },
  {
   "cell_type": "code",
   "execution_count": 2,
   "id": "852364cb",
   "metadata": {},
   "outputs": [
    {
     "data": {
      "text/plain": [
       "False"
      ]
     },
     "execution_count": 2,
     "metadata": {},
     "output_type": "execute_result"
    }
   ],
   "source": [
    "a == b # a é igual a b?"
   ]
  },
  {
   "cell_type": "code",
   "execution_count": 3,
   "id": "fe017a47",
   "metadata": {},
   "outputs": [
    {
     "data": {
      "text/plain": [
       "True"
      ]
     },
     "execution_count": 3,
     "metadata": {},
     "output_type": "execute_result"
    }
   ],
   "source": [
    "b > a"
   ]
  },
  {
   "cell_type": "code",
   "execution_count": 4,
   "id": "99a2481c",
   "metadata": {},
   "outputs": [
    {
     "data": {
      "text/plain": [
       "True"
      ]
     },
     "execution_count": 4,
     "metadata": {},
     "output_type": "execute_result"
    }
   ],
   "source": [
    "a < b"
   ]
  },
  {
   "cell_type": "code",
   "execution_count": 5,
   "id": "227b811b",
   "metadata": {},
   "outputs": [
    {
     "data": {
      "text/plain": [
       "False"
      ]
     },
     "execution_count": 5,
     "metadata": {},
     "output_type": "execute_result"
    }
   ],
   "source": [
    "a > b"
   ]
  },
  {
   "cell_type": "code",
   "execution_count": 6,
   "id": "141f2ff3",
   "metadata": {},
   "outputs": [
    {
     "data": {
      "text/plain": [
       "True"
      ]
     },
     "execution_count": 6,
     "metadata": {},
     "output_type": "execute_result"
    }
   ],
   "source": [
    "a == d"
   ]
  },
  {
   "cell_type": "code",
   "execution_count": 7,
   "id": "6b157218",
   "metadata": {},
   "outputs": [
    {
     "data": {
      "text/plain": [
       "True"
      ]
     },
     "execution_count": 7,
     "metadata": {},
     "output_type": "execute_result"
    }
   ],
   "source": [
    "b >= a"
   ]
  },
  {
   "cell_type": "code",
   "execution_count": 8,
   "id": "3a86b2be",
   "metadata": {},
   "outputs": [
    {
     "data": {
      "text/plain": [
       "True"
      ]
     },
     "execution_count": 8,
     "metadata": {},
     "output_type": "execute_result"
    }
   ],
   "source": [
    "c <= b"
   ]
  },
  {
   "cell_type": "code",
   "execution_count": 9,
   "id": "a0d42b75",
   "metadata": {},
   "outputs": [
    {
     "data": {
      "text/plain": [
       "False"
      ]
     },
     "execution_count": 9,
     "metadata": {},
     "output_type": "execute_result"
    }
   ],
   "source": [
    "d != a"
   ]
  },
  {
   "cell_type": "code",
   "execution_count": 10,
   "id": "f6a76f7f",
   "metadata": {},
   "outputs": [
    {
     "data": {
      "text/plain": [
       "True"
      ]
     },
     "execution_count": 10,
     "metadata": {},
     "output_type": "execute_result"
    }
   ],
   "source": [
    "d != b"
   ]
  },
  {
   "cell_type": "markdown",
   "id": "dcbc8751",
   "metadata": {},
   "source": [
    "#### 3.3.2 Operadores lógicos\n",
    "Para realizar comparações precisamos de comparadores lógicos como:\n",
    "| Operador Python | Operação |\n",
    "|:----------:|:------------------------------------:|\n",
    "| **not** | não `¬ negação` |\n",
    "| **and** | e `∧ conjunção` |\n",
    "| **or** | ou `∨ disjunção` |"
   ]
  },
  {
   "cell_type": "markdown",
   "id": "b9996d42",
   "metadata": {},
   "source": [
    "O conjunto possui uma tabela verdade que demonstra o resultado de uma operação com um ou dois valores lógicos ou operandos. O `not`é o unico operador unário *(Que precisa apenas de um operador unário)*, `or`e `and` são operadores binários, precisando assim de dois operadores."
   ]
  },
  {
   "cell_type": "markdown",
   "id": "654318b7",
   "metadata": {},
   "source": [
    "#### 3.3.2.1 Operador Not\n",
    "| V1 | notV1 |\n",
    "|:----------:|:------------------------------------:|\n",
    "| V | F |\n",
    "| F | V |"
   ]
  },
  {
   "cell_type": "code",
   "execution_count": 11,
   "id": "b409c1b4",
   "metadata": {},
   "outputs": [
    {
     "data": {
      "text/plain": [
       "False"
      ]
     },
     "execution_count": 11,
     "metadata": {},
     "output_type": "execute_result"
    }
   ],
   "source": [
    "not True"
   ]
  },
  {
   "cell_type": "code",
   "execution_count": 12,
   "id": "4c132a20",
   "metadata": {},
   "outputs": [
    {
     "data": {
      "text/plain": [
       "True"
      ]
     },
     "execution_count": 12,
     "metadata": {},
     "output_type": "execute_result"
    }
   ],
   "source": [
    "not False"
   ]
  },
  {
   "cell_type": "markdown",
   "id": "31dee2a8",
   "metadata": {},
   "source": [
    "#### 3.3.2.2 Operador And\n",
    "\n",
    "| V1 | V2 | V1 and V2 |\n",
    "|:----------:|:----------:|:----------:|\n",
    "| V | V | V |\n",
    "| V | F | F |\n",
    "| F | V | F |\n",
    "| F | F | F |"
   ]
  },
  {
   "cell_type": "code",
   "execution_count": 13,
   "id": "09bf5f23",
   "metadata": {},
   "outputs": [
    {
     "data": {
      "text/plain": [
       "True"
      ]
     },
     "execution_count": 13,
     "metadata": {},
     "output_type": "execute_result"
    }
   ],
   "source": [
    "True and True"
   ]
  },
  {
   "cell_type": "code",
   "execution_count": 14,
   "id": "1b612e99",
   "metadata": {},
   "outputs": [
    {
     "data": {
      "text/plain": [
       "False"
      ]
     },
     "execution_count": 14,
     "metadata": {},
     "output_type": "execute_result"
    }
   ],
   "source": [
    "True and False"
   ]
  },
  {
   "cell_type": "code",
   "execution_count": 15,
   "id": "0024ac4c",
   "metadata": {},
   "outputs": [
    {
     "data": {
      "text/plain": [
       "False"
      ]
     },
     "execution_count": 15,
     "metadata": {},
     "output_type": "execute_result"
    }
   ],
   "source": [
    "False and True"
   ]
  },
  {
   "cell_type": "code",
   "execution_count": 16,
   "id": "1052a99a",
   "metadata": {},
   "outputs": [
    {
     "data": {
      "text/plain": [
       "False"
      ]
     },
     "execution_count": 16,
     "metadata": {},
     "output_type": "execute_result"
    }
   ],
   "source": [
    "False and False"
   ]
  },
  {
   "cell_type": "markdown",
   "id": "0ab706ae",
   "metadata": {},
   "source": [
    "#### 3.3.2.2 Operador Or\n",
    "\n",
    "| V1 | V2 | V1 or V2 |\n",
    "|:----------:|:----------:|:----------:|\n",
    "| V | V | V |\n",
    "| V | F | V |\n",
    "| F | V | V |\n",
    "| F | F | F |"
   ]
  },
  {
   "cell_type": "code",
   "execution_count": 17,
   "id": "2a1b2286",
   "metadata": {},
   "outputs": [
    {
     "data": {
      "text/plain": [
       "True"
      ]
     },
     "execution_count": 17,
     "metadata": {},
     "output_type": "execute_result"
    }
   ],
   "source": [
    "True or True"
   ]
  },
  {
   "cell_type": "code",
   "execution_count": 18,
   "id": "68be9b7d",
   "metadata": {},
   "outputs": [
    {
     "data": {
      "text/plain": [
       "True"
      ]
     },
     "execution_count": 18,
     "metadata": {},
     "output_type": "execute_result"
    }
   ],
   "source": [
    "True or False"
   ]
  },
  {
   "cell_type": "code",
   "execution_count": 19,
   "id": "16674c8e",
   "metadata": {},
   "outputs": [
    {
     "data": {
      "text/plain": [
       "True"
      ]
     },
     "execution_count": 19,
     "metadata": {},
     "output_type": "execute_result"
    }
   ],
   "source": [
    "False or True"
   ]
  },
  {
   "cell_type": "code",
   "execution_count": 20,
   "id": "4892f66c",
   "metadata": {},
   "outputs": [
    {
     "data": {
      "text/plain": [
       "False"
      ]
     },
     "execution_count": 20,
     "metadata": {},
     "output_type": "execute_result"
    }
   ],
   "source": [
    "False or False"
   ]
  },
  {
   "cell_type": "markdown",
   "id": "b83d2ede",
   "metadata": {},
   "source": [
    "#### 3.3 Expressões lógicas\n",
    "Os operadores lógicos podem ser combinados em expressões lógicas, avalia-se `not`(não) primeiro, segundo `and`(e) e, finalmente `or`(ou)."
   ]
  },
  {
   "cell_type": "code",
   "execution_count": 21,
   "id": "32950b74",
   "metadata": {},
   "outputs": [
    {
     "data": {
      "text/plain": [
       "True"
      ]
     },
     "execution_count": 21,
     "metadata": {},
     "output_type": "execute_result"
    }
   ],
   "source": [
    "True or False and not True"
   ]
  },
  {
   "cell_type": "code",
   "execution_count": 22,
   "id": "96830b4e",
   "metadata": {},
   "outputs": [
    {
     "data": {
      "text/plain": [
       "True"
      ]
     },
     "execution_count": 22,
     "metadata": {},
     "output_type": "execute_result"
    }
   ],
   "source": [
    "True or False and False"
   ]
  },
  {
   "cell_type": "code",
   "execution_count": 23,
   "id": "69f625a9",
   "metadata": {},
   "outputs": [
    {
     "data": {
      "text/plain": [
       "True"
      ]
     },
     "execution_count": 23,
     "metadata": {},
     "output_type": "execute_result"
    }
   ],
   "source": [
    "True or False"
   ]
  },
  {
   "cell_type": "markdown",
   "id": "39410672",
   "metadata": {},
   "source": [
    "Podemos tambem utilizar operadores lógicos com operadores relacionais"
   ]
  },
  {
   "cell_type": "code",
   "execution_count": 24,
   "id": "d7299039",
   "metadata": {},
   "outputs": [],
   "source": [
    "salario = 100\n",
    "idade = 20"
   ]
  },
  {
   "cell_type": "code",
   "execution_count": 25,
   "id": "1932dec2",
   "metadata": {},
   "outputs": [
    {
     "data": {
      "text/plain": [
       "False"
      ]
     },
     "execution_count": 25,
     "metadata": {},
     "output_type": "execute_result"
    }
   ],
   "source": [
    "salario > 1000 and idade > 18"
   ]
  },
  {
   "cell_type": "code",
   "execution_count": 26,
   "id": "19f6a91a",
   "metadata": {},
   "outputs": [
    {
     "data": {
      "text/plain": [
       "False"
      ]
     },
     "execution_count": 26,
     "metadata": {},
     "output_type": "execute_result"
    }
   ],
   "source": [
    "100 > 1000 and 20 > 18"
   ]
  },
  {
   "cell_type": "code",
   "execution_count": 28,
   "id": "50906f7c",
   "metadata": {},
   "outputs": [
    {
     "data": {
      "text/plain": [
       "False"
      ]
     },
     "execution_count": 28,
     "metadata": {},
     "output_type": "execute_result"
    }
   ],
   "source": [
    "False and True"
   ]
  },
  {
   "cell_type": "code",
   "execution_count": 29,
   "id": "deed56ec",
   "metadata": {},
   "outputs": [],
   "source": [
    "salario2 = 2000\n",
    "idade2 = 30"
   ]
  },
  {
   "cell_type": "code",
   "execution_count": 30,
   "id": "1327f653",
   "metadata": {},
   "outputs": [
    {
     "data": {
      "text/plain": [
       "True"
      ]
     },
     "execution_count": 30,
     "metadata": {},
     "output_type": "execute_result"
    }
   ],
   "source": [
    "salario2 > 1000 and idade2 > 18"
   ]
  },
  {
   "cell_type": "code",
   "execution_count": 31,
   "id": "f4f8de15",
   "metadata": {},
   "outputs": [
    {
     "data": {
      "text/plain": [
       "True"
      ]
     },
     "execution_count": 31,
     "metadata": {},
     "output_type": "execute_result"
    }
   ],
   "source": [
    "2000 > 100 and 30 >18"
   ]
  },
  {
   "cell_type": "code",
   "execution_count": 32,
   "id": "0b12f39c",
   "metadata": {},
   "outputs": [
    {
     "data": {
      "text/plain": [
       "True"
      ]
     },
     "execution_count": 32,
     "metadata": {},
     "output_type": "execute_result"
    }
   ],
   "source": [
    "True and True"
   ]
  },
  {
   "cell_type": "code",
   "execution_count": null,
   "id": "08a24383",
   "metadata": {},
   "outputs": [],
   "source": []
  }
 ],
 "metadata": {
  "kernelspec": {
   "display_name": "Python 3 (ipykernel)",
   "language": "python",
   "name": "python3"
  },
  "language_info": {
   "codemirror_mode": {
    "name": "ipython",
    "version": 3
   },
   "file_extension": ".py",
   "mimetype": "text/x-python",
   "name": "python",
   "nbconvert_exporter": "python",
   "pygments_lexer": "ipython3",
   "version": "3.10.9"
  }
 },
 "nbformat": 4,
 "nbformat_minor": 5
}

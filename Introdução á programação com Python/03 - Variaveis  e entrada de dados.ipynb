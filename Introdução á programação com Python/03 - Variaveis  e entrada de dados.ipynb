{
 "cells": [
  {
   "cell_type": "markdown",
   "id": "e0d11893-c6bf-412b-8c1e-0f9434987329",
   "metadata": {},
   "source": [
    "# Variáveis em Python\n",
    "\n",
    "Em Python, variáveis são usadas para armazenar valores e nomear áreas de memória onde os dados são guardados. O símbolo `=` é utilizado para atribuir um valor a uma variável. No lado esquerdo, colocamos o nome da variável que queremos criar, e no lado direito colocamos o valor que queremos armazenar nela.\n",
    "\n",
    "Às vezes, vamos criar variáveis que dependem de outras variáveis, como por exemplo `a = b + c`. Nesse caso, `b + c = a` não é diferente da expressão anterior, pois para a lógica do Python é importante que você sempre indique a criação da variável e a identifique antes de atribuir valores a ela."
   ]
  },
  {
   "cell_type": "code",
   "execution_count": 1,
   "id": "a20d829a-e5fc-46da-a201-bb773e72de95",
   "metadata": {},
   "outputs": [],
   "source": [
    "a = 5"
   ]
  },
  {
   "cell_type": "code",
   "execution_count": 2,
   "id": "f94b6f23-7ae3-48df-be57-87f8d9706d42",
   "metadata": {},
   "outputs": [
    {
     "name": "stdout",
     "output_type": "stream",
     "text": [
      "5\n"
     ]
    }
   ],
   "source": [
    "print(a)"
   ]
  },
  {
   "cell_type": "code",
   "execution_count": 8,
   "id": "241a44b2-082f-47c4-aab5-87d76950ccf6",
   "metadata": {
    "tags": []
   },
   "outputs": [
    {
     "data": {
      "text/plain": [
       "5"
      ]
     },
     "execution_count": 8,
     "metadata": {},
     "output_type": "execute_result"
    }
   ],
   "source": [
    "a"
   ]
  },
  {
   "cell_type": "code",
   "execution_count": 9,
   "id": "08301237-b50b-4ad9-a0bb-dd83af26f2ed",
   "metadata": {},
   "outputs": [],
   "source": [
    "b = \"batata doce\""
   ]
  },
  {
   "cell_type": "code",
   "execution_count": 10,
   "id": "b0a2a989-72e8-4cf6-b2fe-301a04979961",
   "metadata": {},
   "outputs": [
    {
     "name": "stdout",
     "output_type": "stream",
     "text": [
      "batata doce\n"
     ]
    }
   ],
   "source": [
    "print(b)"
   ]
  },
  {
   "cell_type": "code",
   "execution_count": 11,
   "id": "9f5d0ddb-2096-4ccd-bbf8-e5f08934255c",
   "metadata": {
    "tags": []
   },
   "outputs": [
    {
     "data": {
      "text/plain": [
       "'batata doce'"
      ]
     },
     "execution_count": 11,
     "metadata": {},
     "output_type": "execute_result"
    }
   ],
   "source": [
    "b"
   ]
  },
  {
   "cell_type": "code",
   "execution_count": 22,
   "id": "9861f743-cd3c-463b-bc1f-fd9e0043db37",
   "metadata": {},
   "outputs": [],
   "source": [
    "precocarro = 16000"
   ]
  },
  {
   "cell_type": "code",
   "execution_count": 23,
   "id": "b4ef515d-9a1c-4117-a0e6-504b68a43b99",
   "metadata": {},
   "outputs": [
    {
     "data": {
      "text/plain": [
       "16000"
      ]
     },
     "execution_count": 23,
     "metadata": {},
     "output_type": "execute_result"
    }
   ],
   "source": [
    "precocarro"
   ]
  },
  {
   "cell_type": "code",
   "execution_count": 24,
   "id": "6c692106-1174-47f2-902b-162f39d5a08e",
   "metadata": {},
   "outputs": [],
   "source": [
    "c = precocarro"
   ]
  },
  {
   "cell_type": "code",
   "execution_count": 25,
   "id": "1991aff9-49aa-42d2-a90d-d2db1eea75a4",
   "metadata": {},
   "outputs": [
    {
     "data": {
      "text/plain": [
       "16000"
      ]
     },
     "execution_count": 25,
     "metadata": {},
     "output_type": "execute_result"
    }
   ],
   "source": [
    "c"
   ]
  },
  {
   "cell_type": "code",
   "execution_count": 26,
   "id": "a08d9277-587d-483a-bc44-d6590b4e17cf",
   "metadata": {},
   "outputs": [],
   "source": [
    "d = c + a"
   ]
  },
  {
   "cell_type": "code",
   "execution_count": 27,
   "id": "7065aa3b-d479-4299-912a-bada8c71512e",
   "metadata": {},
   "outputs": [
    {
     "data": {
      "text/plain": [
       "16005"
      ]
     },
     "execution_count": 27,
     "metadata": {},
     "output_type": "execute_result"
    }
   ],
   "source": [
    "d"
   ]
  },
  {
   "cell_type": "code",
   "execution_count": 28,
   "id": "ce4152c5-e8f1-44bc-bd93-364274e7f163",
   "metadata": {},
   "outputs": [],
   "source": [
    "e = a - c / d"
   ]
  },
  {
   "cell_type": "code",
   "execution_count": 29,
   "id": "626c5ff4-f8b8-40f7-88d9-8a74b37167e3",
   "metadata": {},
   "outputs": [
    {
     "data": {
      "text/plain": [
       "4.000312402374258"
      ]
     },
     "execution_count": 29,
     "metadata": {},
     "output_type": "execute_result"
    }
   ],
   "source": [
    "e"
   ]
  },
  {
   "cell_type": "code",
   "execution_count": 30,
   "id": "f5039917-ff10-4ee2-a088-c5c151d250fa",
   "metadata": {},
   "outputs": [],
   "source": [
    "f = (e - c)*d"
   ]
  },
  {
   "cell_type": "code",
   "execution_count": 31,
   "id": "4da8c816-26b7-4e03-98d1-3b709da8c922",
   "metadata": {},
   "outputs": [
    {
     "data": {
      "text/plain": [
       "-256015975.0"
      ]
     },
     "execution_count": 31,
     "metadata": {},
     "output_type": "execute_result"
    }
   ],
   "source": [
    "f"
   ]
  },
  {
   "cell_type": "code",
   "execution_count": 32,
   "id": "b1d8e94a-d312-4dd0-9151-897ea145ace3",
   "metadata": {},
   "outputs": [],
   "source": [
    "g = f / d"
   ]
  },
  {
   "cell_type": "code",
   "execution_count": 33,
   "id": "07a5fa08-b2bc-4116-bebd-b700c716b6c6",
   "metadata": {},
   "outputs": [
    {
     "data": {
      "text/plain": [
       "-15995.999687597625"
      ]
     },
     "execution_count": 33,
     "metadata": {},
     "output_type": "execute_result"
    }
   ],
   "source": [
    "g"
   ]
  },
  {
   "cell_type": "code",
   "execution_count": 34,
   "id": "be1753bb-5ad0-4c7d-895a-95b953f843a4",
   "metadata": {},
   "outputs": [],
   "source": [
    "h = (g * f) / d + (a / c)"
   ]
  },
  {
   "cell_type": "code",
   "execution_count": 35,
   "id": "f636a596-364d-4186-af80-c591e7572193",
   "metadata": {},
   "outputs": [
    {
     "data": {
      "text/plain": [
       "255872006.00593585"
      ]
     },
     "execution_count": 35,
     "metadata": {},
     "output_type": "execute_result"
    }
   ],
   "source": [
    "h"
   ]
  },
  {
   "cell_type": "code",
   "execution_count": 36,
   "id": "69a5b7e2-d1aa-4a57-bdd4-891f4efe4993",
   "metadata": {},
   "outputs": [],
   "source": [
    "j = h / d"
   ]
  },
  {
   "cell_type": "code",
   "execution_count": 37,
   "id": "4dc8814c-3e0f-4a90-a00e-440f2cd854b6",
   "metadata": {},
   "outputs": [
    {
     "data": {
      "text/plain": [
       "15987.004436484589"
      ]
     },
     "execution_count": 37,
     "metadata": {},
     "output_type": "execute_result"
    }
   ],
   "source": [
    "j"
   ]
  },
  {
   "cell_type": "code",
   "execution_count": 38,
   "id": "53dfaa8a-418c-4a49-b607-b58f4245e206",
   "metadata": {},
   "outputs": [],
   "source": [
    "k = j + e + a + g"
   ]
  },
  {
   "cell_type": "code",
   "execution_count": 39,
   "id": "ea0db062-38c8-4c92-bee4-4a162231a8f3",
   "metadata": {},
   "outputs": [
    {
     "data": {
      "text/plain": [
       "0.005061289339209907"
      ]
     },
     "execution_count": 39,
     "metadata": {},
     "output_type": "execute_result"
    }
   ],
   "source": [
    "k"
   ]
  },
  {
   "cell_type": "code",
   "execution_count": null,
   "id": "fda09f90-d282-4702-970f-23ca9d7e58ae",
   "metadata": {},
   "outputs": [],
   "source": []
  }
 ],
 "metadata": {
  "kernelspec": {
   "display_name": "Python 3 (ipykernel)",
   "language": "python",
   "name": "python3"
  },
  "language_info": {
   "codemirror_mode": {
    "name": "ipython",
    "version": 3
   },
   "file_extension": ".py",
   "mimetype": "text/x-python",
   "name": "python",
   "nbconvert_exporter": "python",
   "pygments_lexer": "ipython3",
   "version": "3.10.9"
  }
 },
 "nbformat": 4,
 "nbformat_minor": 5
}

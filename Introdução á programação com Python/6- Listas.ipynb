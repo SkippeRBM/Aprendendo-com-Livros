{
 "cells": [
  {
   "cell_type": "markdown",
   "id": "03634394-3782-4d9c-a12d-4368e51c0d58",
   "metadata": {},
   "source": [
    "# LISTAS\n",
    "\n",
    "Listas são conjuntos de dados armazenados em uma estrutura que permite acesso e manipulação dos elementos. Elas são representadas utilizando colchetes `[ ]` e o tipo de dados é list. Assim como nas strings, podemos usar o slicing para acessar partes específicas da lista.\n",
    "\n",
    "**O índice \"[i]\" de qualquer lista em Python começa em 0 \"[0]\".**\n"
   ]
  },
  {
   "cell_type": "code",
   "execution_count": 1,
   "id": "da4174c5-2969-4c34-853a-b2e940c589f1",
   "metadata": {},
   "outputs": [],
   "source": [
    "listadenum = [1, 8 , 3, 7]"
   ]
  },
  {
   "cell_type": "code",
   "execution_count": 2,
   "id": "a4cad0b4-1016-4f9f-a6ec-fbf4a8266a39",
   "metadata": {},
   "outputs": [
    {
     "data": {
      "text/plain": [
       "list"
      ]
     },
     "execution_count": 2,
     "metadata": {},
     "output_type": "execute_result"
    }
   ],
   "source": [
    "type(listadenum)"
   ]
  },
  {
   "cell_type": "markdown",
   "id": "928966b0-f438-4193-b696-f8c00ee648fd",
   "metadata": {},
   "source": [
    "Indepente de ser composta por numeros, strings, float, booleanos ou qualquer tipo de dado, as listas serão do tipo \"List\""
   ]
  },
  {
   "cell_type": "code",
   "execution_count": 3,
   "id": "d0cb8982-b0a9-4e5c-83f1-7444352da82b",
   "metadata": {},
   "outputs": [
    {
     "data": {
      "text/plain": [
       "[1, 8, 3, 7]"
      ]
     },
     "execution_count": 3,
     "metadata": {},
     "output_type": "execute_result"
    }
   ],
   "source": [
    "listadenum[:]"
   ]
  },
  {
   "cell_type": "code",
   "execution_count": 4,
   "id": "e9b50fec-2918-418a-b74a-14aed6bfd292",
   "metadata": {},
   "outputs": [
    {
     "data": {
      "text/plain": [
       "[1, 8, 3]"
      ]
     },
     "execution_count": 4,
     "metadata": {},
     "output_type": "execute_result"
    }
   ],
   "source": [
    "listadenum[:-1]"
   ]
  },
  {
   "cell_type": "markdown",
   "id": "5ac246cb-17cb-4b8e-a616-16ec87d4dd5e",
   "metadata": {},
   "source": [
    "Em uma lista pode se armazenar qualquer tipo de valor, não necessariamente apenas numeros."
   ]
  },
  {
   "cell_type": "code",
   "execution_count": 5,
   "id": "b39fa562-3a41-43c7-9b0f-fb3c03a60c76",
   "metadata": {},
   "outputs": [],
   "source": [
    "listageral = [\"um\", \"dois\", 3, [1, 3, 7], \"viu?\"]"
   ]
  },
  {
   "cell_type": "code",
   "execution_count": 6,
   "id": "5c515e39-95b9-44de-be74-7acec88d4844",
   "metadata": {},
   "outputs": [
    {
     "data": {
      "text/plain": [
       "['um', 'dois', 3, [1, 3, 7], 'viu?']"
      ]
     },
     "execution_count": 6,
     "metadata": {},
     "output_type": "execute_result"
    }
   ],
   "source": [
    "listageral"
   ]
  },
  {
   "cell_type": "markdown",
   "id": "36c92d59-69df-4a2f-8e74-b2c3cecdb31b",
   "metadata": {},
   "source": [
    "Apesar da lista ser sempre do tipo \"List\", os dados internos desta lista não são alterados e podemos solicitar ao código para identificalos através do indice, assim como imprimi-lo."
   ]
  },
  {
   "cell_type": "code",
   "execution_count": 7,
   "id": "3600edaa-449c-4b80-9879-35ff1a30ab75",
   "metadata": {},
   "outputs": [
    {
     "data": {
      "text/plain": [
       "int"
      ]
     },
     "execution_count": 7,
     "metadata": {},
     "output_type": "execute_result"
    }
   ],
   "source": [
    "type(listageral[2]) "
   ]
  },
  {
   "cell_type": "code",
   "execution_count": 8,
   "id": "6f93b008-5e01-4d87-bf53-8a870b3812cd",
   "metadata": {
    "tags": []
   },
   "outputs": [
    {
     "data": {
      "text/plain": [
       "str"
      ]
     },
     "execution_count": 8,
     "metadata": {},
     "output_type": "execute_result"
    }
   ],
   "source": [
    "type(listageral[1])"
   ]
  },
  {
   "cell_type": "code",
   "execution_count": 9,
   "id": "588a9d28-40bf-4872-805d-a6955e969f1a",
   "metadata": {
    "tags": []
   },
   "outputs": [
    {
     "data": {
      "text/plain": [
       "list"
      ]
     },
     "execution_count": 9,
     "metadata": {},
     "output_type": "execute_result"
    }
   ],
   "source": [
    "type(listageral[3])"
   ]
  },
  {
   "cell_type": "code",
   "execution_count": 10,
   "id": "40b46a36-182c-4a3b-bfa3-4c3e2a5676d7",
   "metadata": {
    "tags": []
   },
   "outputs": [
    {
     "data": {
      "text/plain": [
       "int"
      ]
     },
     "execution_count": 10,
     "metadata": {},
     "output_type": "execute_result"
    }
   ],
   "source": [
    "type(listageral[3][1]) #Indo mais fundo"
   ]
  },
  {
   "cell_type": "code",
   "execution_count": 11,
   "id": "5db1e464-674f-4cb3-917f-e41fa94fbc28",
   "metadata": {
    "tags": []
   },
   "outputs": [
    {
     "name": "stdout",
     "output_type": "stream",
     "text": [
      "dois\n"
     ]
    }
   ],
   "source": [
    "print(listageral[1])"
   ]
  },
  {
   "cell_type": "code",
   "execution_count": 12,
   "id": "69bcc299-ee1e-4d6f-9daa-9dfa1e27e380",
   "metadata": {
    "tags": []
   },
   "outputs": [
    {
     "name": "stdout",
     "output_type": "stream",
     "text": [
      "[1, 3, 7]\n"
     ]
    }
   ],
   "source": [
    "print(listageral[3])"
   ]
  },
  {
   "cell_type": "code",
   "execution_count": 13,
   "id": "c28bb273-4c07-4bca-8758-5b495c4e79d8",
   "metadata": {
    "tags": []
   },
   "outputs": [
    {
     "name": "stdout",
     "output_type": "stream",
     "text": [
      "3\n"
     ]
    }
   ],
   "source": [
    "print(listageral[3][1])"
   ]
  },
  {
   "cell_type": "markdown",
   "id": "83188822-aa8d-40df-ae04-4268bc91469d",
   "metadata": {},
   "source": [
    "Podemos tambem acessar e armazenar uma lista dentro de outras listas como no exemplo acima e no exemplo abaixo."
   ]
  },
  {
   "cell_type": "code",
   "execution_count": 14,
   "id": "3f5d745a-cbf4-46c0-aa72-e4c09c4dd4a0",
   "metadata": {},
   "outputs": [
    {
     "data": {
      "text/plain": [
       "[3, 7]"
      ]
     },
     "execution_count": 14,
     "metadata": {},
     "output_type": "execute_result"
    }
   ],
   "source": [
    "listageral[3][1:]"
   ]
  },
  {
   "cell_type": "markdown",
   "id": "6cb121f5-b334-4bc8-b233-791c61fe7ebc",
   "metadata": {},
   "source": [
    "Podemos criar variaveis a partir de posições dentro de Listas, gerando tambem sublistas"
   ]
  },
  {
   "cell_type": "code",
   "execution_count": 15,
   "id": "f641d90c-e337-4365-96cb-42fd7330df63",
   "metadata": {
    "tags": []
   },
   "outputs": [],
   "source": [
    "frutas = [\"maça\", \"banana\", \"uva\", \"laranja\", \"morango\"]"
   ]
  },
  {
   "cell_type": "code",
   "execution_count": 16,
   "id": "04bb081a-6300-48aa-8fb4-7cddcdd8c6a6",
   "metadata": {
    "tags": []
   },
   "outputs": [],
   "source": [
    "frutaPromo = frutas[0]"
   ]
  },
  {
   "cell_type": "code",
   "execution_count": 17,
   "id": "b8b7650f-2401-4a32-bc21-36f12ad705b1",
   "metadata": {
    "tags": []
   },
   "outputs": [
    {
     "name": "stdout",
     "output_type": "stream",
     "text": [
      "maça\n"
     ]
    }
   ],
   "source": [
    "print(frutaPromo)"
   ]
  },
  {
   "cell_type": "code",
   "execution_count": 18,
   "id": "6cddc9c3-9666-4f9e-9bd1-ea5b7982f3fd",
   "metadata": {
    "tags": []
   },
   "outputs": [
    {
     "data": {
      "text/plain": [
       "'maça'"
      ]
     },
     "execution_count": 18,
     "metadata": {},
     "output_type": "execute_result"
    }
   ],
   "source": [
    "frutaPromo"
   ]
  },
  {
   "cell_type": "code",
   "execution_count": 19,
   "id": "08edb531-0103-4609-aa81-e38cb96323a1",
   "metadata": {
    "tags": []
   },
   "outputs": [],
   "source": [
    "frutasvalidade = frutas[2:] #faz um fatiamento da posição [i] em diante [:]"
   ]
  },
  {
   "cell_type": "code",
   "execution_count": 20,
   "id": "0ad777a8-fbdf-49d8-a81b-d76ca506e2cd",
   "metadata": {
    "tags": []
   },
   "outputs": [
    {
     "data": {
      "text/plain": [
       "['uva', 'laranja', 'morango']"
      ]
     },
     "execution_count": 20,
     "metadata": {},
     "output_type": "execute_result"
    }
   ],
   "source": [
    "frutasvalidade "
   ]
  },
  {
   "cell_type": "markdown",
   "id": "bb08c6a1-bb9b-4b38-ae79-5104d231e5ee",
   "metadata": {},
   "source": [
    "Mesmo para os dados armazenados em listas é possivel utilizar métodos imbutidos como:"
   ]
  },
  {
   "cell_type": "code",
   "execution_count": 21,
   "id": "78a78e1b-0a7d-4563-a4a6-7ff033c41c45",
   "metadata": {},
   "outputs": [
    {
     "data": {
      "text/plain": [
       "'VIU?'"
      ]
     },
     "execution_count": 21,
     "metadata": {},
     "output_type": "execute_result"
    }
   ],
   "source": [
    "listageral[4].upper()"
   ]
  },
  {
   "cell_type": "markdown",
   "id": "b3fc6499-8922-4156-bd0c-b83546baad8d",
   "metadata": {},
   "source": [
    "Listas podem receber novos elementos desde que estes tambem sejam adicionados como listas."
   ]
  },
  {
   "cell_type": "code",
   "execution_count": 22,
   "id": "f1c3dce5-6033-49fb-9a21-62e273e2decd",
   "metadata": {},
   "outputs": [
    {
     "data": {
      "text/plain": [
       "['um', 'dois', 3, [1, 3, 7], 'viu?', 8]"
      ]
     },
     "execution_count": 22,
     "metadata": {},
     "output_type": "execute_result"
    }
   ],
   "source": [
    "listageral + [8]"
   ]
  },
  {
   "cell_type": "markdown",
   "id": "88db908a-8ebb-4615-a6e3-2ad73665fda8",
   "metadata": {},
   "source": [
    "Ou tambem multiplicar os valores (criando uma equação de igualdade para a lista) ou dobrar eles da lista fazendo operações numéricas:"
   ]
  },
  {
   "cell_type": "code",
   "execution_count": 164,
   "id": "3401a04c-a21d-4dba-8b39-60a62f7fdd28",
   "metadata": {},
   "outputs": [
    {
     "data": {
      "text/plain": [
       "['um', 'dois', 3, [1, 3, 7], 'viu?', 'um', 'dois', 3, [1, 3, 7], 'viu?']"
      ]
     },
     "execution_count": 164,
     "metadata": {},
     "output_type": "execute_result"
    }
   ],
   "source": [
    "listageral * 2"
   ]
  },
  {
   "cell_type": "code",
   "execution_count": 23,
   "id": "755c5d7b-8d6e-47f3-94ff-ef565efea44d",
   "metadata": {},
   "outputs": [
    {
     "data": {
      "text/plain": [
       "['um', 'dois', 3, [1, 3, 7], 'viu?', 'um', 'dois', 3, [1, 3, 7], 'viu?']"
      ]
     },
     "execution_count": 23,
     "metadata": {},
     "output_type": "execute_result"
    }
   ],
   "source": [
    "listageral = listageral * 2\n",
    "listageral"
   ]
  },
  {
   "cell_type": "markdown",
   "id": "666532c5-b687-4ba1-a7e7-2ce151ffc76f",
   "metadata": {},
   "source": [
    "Listas possuem **métodos** especificos que tambem são importantes."
   ]
  },
  {
   "cell_type": "code",
   "execution_count": 24,
   "id": "d0b3879a-e16b-4b82-ac99-5354624f40fb",
   "metadata": {},
   "outputs": [],
   "source": [
    "l = [1, 2, 3]"
   ]
  },
  {
   "cell_type": "code",
   "execution_count": 27,
   "id": "36468ec0-a2b4-424e-8a9c-2b392839b3df",
   "metadata": {},
   "outputs": [],
   "source": [
    "l.append(\"4\")\n",
    "l.append(4)"
   ]
  },
  {
   "cell_type": "code",
   "execution_count": 28,
   "id": "e27a7715-2003-40e7-b453-6aba8c6ce220",
   "metadata": {
    "tags": []
   },
   "outputs": [
    {
     "data": {
      "text/plain": [
       "[1, 2, 3, '4', '4', 4]"
      ]
     },
     "execution_count": 28,
     "metadata": {},
     "output_type": "execute_result"
    }
   ],
   "source": [
    "l"
   ]
  },
  {
   "cell_type": "markdown",
   "id": "002c8257-37f5-4ca5-a2c8-511a1eae826b",
   "metadata": {},
   "source": [
    "***.append()*** é um método de acrescentar um valor ao fim de uma lista, assim como o ***.pop()*** remove o ultimo item da lista."
   ]
  },
  {
   "cell_type": "code",
   "execution_count": 30,
   "id": "9d9e86bc-cbcc-4340-a69e-822d018bc58a",
   "metadata": {},
   "outputs": [
    {
     "data": {
      "text/plain": [
       "'4'"
      ]
     },
     "execution_count": 30,
     "metadata": {},
     "output_type": "execute_result"
    }
   ],
   "source": [
    "l.pop()"
   ]
  },
  {
   "cell_type": "code",
   "execution_count": 31,
   "id": "c97451ab-e1de-4be9-86b6-aa6a4110092f",
   "metadata": {
    "tags": []
   },
   "outputs": [
    {
     "data": {
      "text/plain": [
       "[1, 2, 3, '4']"
      ]
     },
     "execution_count": 31,
     "metadata": {},
     "output_type": "execute_result"
    }
   ],
   "source": [
    "l"
   ]
  },
  {
   "cell_type": "markdown",
   "id": "42407269-1dee-421d-996c-5951c86f08ef",
   "metadata": {},
   "source": [
    "Repare que ao usar o ***.append()*** ele não lhe devolve nenhuma imagem da lista, porem ao usar o ***.pop()*** ele irá mostrar qual item foi removido da lista"
   ]
  },
  {
   "cell_type": "code",
   "execution_count": 32,
   "id": "f0b02c0b-763e-4eed-9a48-35e1a6a7dd06",
   "metadata": {},
   "outputs": [],
   "source": [
    "l.append(8)"
   ]
  },
  {
   "cell_type": "code",
   "execution_count": 33,
   "id": "b730206a-85a7-4b67-8b8a-f7fce48557a6",
   "metadata": {},
   "outputs": [
    {
     "data": {
      "text/plain": [
       "8"
      ]
     },
     "execution_count": 33,
     "metadata": {},
     "output_type": "execute_result"
    }
   ],
   "source": [
    "l.pop()"
   ]
  },
  {
   "cell_type": "code",
   "execution_count": 34,
   "id": "e88926db-7a2e-4cdd-a392-834af661b643",
   "metadata": {},
   "outputs": [
    {
     "data": {
      "text/plain": [
       "[1, 2, 3, '4']"
      ]
     },
     "execution_count": 34,
     "metadata": {},
     "output_type": "execute_result"
    }
   ],
   "source": [
    "l"
   ]
  },
  {
   "cell_type": "markdown",
   "id": "ef7d6893-4736-43ec-b117-775ad81f93b0",
   "metadata": {},
   "source": [
    "O *.pop()* é util quando se trabalha apenas com o fim de uma lista, porém quando se precisa eliminar um indice[i] especificos temos a função *\"del\"*:"
   ]
  },
  {
   "cell_type": "code",
   "execution_count": 35,
   "id": "98f83bd7-d87d-409a-99b1-01b395b41ac4",
   "metadata": {
    "tags": []
   },
   "outputs": [],
   "source": [
    "del l[2]"
   ]
  },
  {
   "cell_type": "code",
   "execution_count": 36,
   "id": "7a685e25-b300-4d63-846f-1478e5f8363a",
   "metadata": {
    "tags": []
   },
   "outputs": [
    {
     "data": {
      "text/plain": [
       "[1, 2, '4']"
      ]
     },
     "execution_count": 36,
     "metadata": {},
     "output_type": "execute_result"
    }
   ],
   "source": [
    "l"
   ]
  },
  {
   "cell_type": "markdown",
   "id": "4487882b-3d22-4cbd-970f-b67b108a4e70",
   "metadata": {},
   "source": [
    "é possivel tambem concaternar listas:"
   ]
  },
  {
   "cell_type": "code",
   "execution_count": 37,
   "id": "65ac0a74-25ed-466a-91f9-40385f28d4e3",
   "metadata": {
    "tags": []
   },
   "outputs": [],
   "source": [
    "lista1 = [1, 2, 3, 4]"
   ]
  },
  {
   "cell_type": "code",
   "execution_count": 38,
   "id": "08b52fce-bdce-49a3-ab8d-b9004fa483b8",
   "metadata": {
    "tags": []
   },
   "outputs": [],
   "source": [
    "lista2 = [5, 6, 7]"
   ]
  },
  {
   "cell_type": "code",
   "execution_count": 39,
   "id": "0b61695b-de8c-4aa4-a875-a9f206320166",
   "metadata": {
    "tags": []
   },
   "outputs": [
    {
     "data": {
      "text/plain": [
       "[1, 2, 3, 4, 5, 6, 7]"
      ]
     },
     "execution_count": 39,
     "metadata": {},
     "output_type": "execute_result"
    }
   ],
   "source": [
    "lista3 = lista1 + lista2\n",
    "lista3"
   ]
  },
  {
   "cell_type": "markdown",
   "id": "b328693b-7f6d-4ddf-9de1-7197887a2389",
   "metadata": {},
   "source": [
    "*Perceba que é diferente de quando temos uma lista embutida em outro lista, ou um indice de nossa lista sendo uma lista como citado a cima*"
   ]
  },
  {
   "cell_type": "code",
   "execution_count": 40,
   "id": "7dbd946b-5e23-45f1-8038-8b40193cfc63",
   "metadata": {
    "tags": []
   },
   "outputs": [
    {
     "data": {
      "text/plain": [
       "1"
      ]
     },
     "execution_count": 40,
     "metadata": {},
     "output_type": "execute_result"
    }
   ],
   "source": [
    "lista1[0]"
   ]
  },
  {
   "cell_type": "markdown",
   "id": "5eacce22-730b-4501-9c83-aa133b13cfc3",
   "metadata": {},
   "source": [
    "Uma lista é uma estrutura de dados mutável, podemos alterar o valor das posições dela:"
   ]
  },
  {
   "cell_type": "code",
   "execution_count": 41,
   "id": "29ca222f-18a3-4810-9041-492cfae3a84e",
   "metadata": {
    "tags": []
   },
   "outputs": [
    {
     "data": {
      "text/plain": [
       "[1000, 2, 3, 4]"
      ]
     },
     "execution_count": 41,
     "metadata": {},
     "output_type": "execute_result"
    }
   ],
   "source": [
    "lista1[0] = 1000\n",
    "lista1"
   ]
  },
  {
   "cell_type": "markdown",
   "id": "ff4f16a2-d0f5-4fd6-a2ee-e50c8d9c63bc",
   "metadata": {},
   "source": [
    "Existem diversas formas de obter informações sobre suas listas:"
   ]
  },
  {
   "cell_type": "code",
   "execution_count": 42,
   "id": "dbf652f2-c6eb-40ea-ba39-592ac9c59c28",
   "metadata": {
    "tags": []
   },
   "outputs": [
    {
     "data": {
      "text/plain": [
       "7"
      ]
     },
     "execution_count": 42,
     "metadata": {},
     "output_type": "execute_result"
    }
   ],
   "source": [
    "len(lista3) #para obter a quantidade de elementos na lista"
   ]
  },
  {
   "cell_type": "code",
   "execution_count": 43,
   "id": "e7215096-5c01-499b-96a7-0990bc4f4f4e",
   "metadata": {
    "tags": []
   },
   "outputs": [
    {
     "data": {
      "text/plain": [
       "1000"
      ]
     },
     "execution_count": 43,
     "metadata": {},
     "output_type": "execute_result"
    }
   ],
   "source": [
    "max(lista1) #para obter o valor máximo da lista"
   ]
  },
  {
   "cell_type": "code",
   "execution_count": 44,
   "id": "17a39eab-4c65-4d67-a3e1-13d40f9a563a",
   "metadata": {
    "tags": []
   },
   "outputs": [
    {
     "data": {
      "text/plain": [
       "2"
      ]
     },
     "execution_count": 44,
     "metadata": {},
     "output_type": "execute_result"
    }
   ],
   "source": [
    "min(lista1) #para obter o valor minimo da lista"
   ]
  },
  {
   "cell_type": "code",
   "execution_count": 45,
   "id": "8dda29a8-11e9-4fc3-b0fd-ac79803b60e6",
   "metadata": {
    "tags": []
   },
   "outputs": [
    {
     "name": "stdout",
     "output_type": "stream",
     "text": [
      "False\n"
     ]
    }
   ],
   "source": [
    "print(8 in lista3) #Operador IN para verificar se o valor existe na lista"
   ]
  },
  {
   "cell_type": "code",
   "execution_count": 46,
   "id": "f90b47a0-d939-417f-aad6-87c39a23df89",
   "metadata": {
    "tags": []
   },
   "outputs": [
    {
     "name": "stdout",
     "output_type": "stream",
     "text": [
      "True\n"
     ]
    }
   ],
   "source": [
    "print(3 in lista3)"
   ]
  },
  {
   "cell_type": "markdown",
   "id": "fae06972-f141-475d-bd73-cf2305d0b457",
   "metadata": {},
   "source": [
    "é possivel tambem organizar sua lista em ordem alfabética, crescente e inverter esta ordem se for preciso."
   ]
  },
  {
   "cell_type": "code",
   "execution_count": 47,
   "id": "8504f86d-32e6-4a3c-bbd0-9107b886cc66",
   "metadata": {},
   "outputs": [],
   "source": [
    "lista_strings = [\"a\", \"d\", \"b\", \"c\"]"
   ]
  },
  {
   "cell_type": "code",
   "execution_count": 48,
   "id": "24cdf50f-5cc9-4c0f-bffe-e462a7ac213a",
   "metadata": {},
   "outputs": [
    {
     "data": {
      "text/plain": [
       "['a', 'b', 'c', 'd']"
      ]
     },
     "execution_count": 48,
     "metadata": {},
     "output_type": "execute_result"
    }
   ],
   "source": [
    "lista_strings.sort()\n",
    "lista_strings"
   ]
  },
  {
   "cell_type": "code",
   "execution_count": 49,
   "id": "a6881e1f-5e8d-409d-b2c0-7f602ba911ef",
   "metadata": {},
   "outputs": [
    {
     "data": {
      "text/plain": [
       "['d', 'c', 'b', 'a']"
      ]
     },
     "execution_count": 49,
     "metadata": {},
     "output_type": "execute_result"
    }
   ],
   "source": [
    "lista_strings.reverse()\n",
    "lista_strings"
   ]
  },
  {
   "cell_type": "code",
   "execution_count": 50,
   "id": "0932210b-d571-4082-875e-cda97c04cd2a",
   "metadata": {},
   "outputs": [
    {
     "data": {
      "text/plain": [
       "['a', 'b', 'c', 'd']"
      ]
     },
     "execution_count": 50,
     "metadata": {},
     "output_type": "execute_result"
    }
   ],
   "source": [
    "lista_strings.sort()\n",
    "lista_strings"
   ]
  },
  {
   "cell_type": "code",
   "execution_count": 51,
   "id": "ba162197-5902-4307-a4fb-971422e5fb6f",
   "metadata": {},
   "outputs": [
    {
     "data": {
      "text/plain": [
       "['d', 'c', 'b', 'a']"
      ]
     },
     "execution_count": 51,
     "metadata": {},
     "output_type": "execute_result"
    }
   ],
   "source": [
    "lista_strings.reverse()\n",
    "lista_strings"
   ]
  },
  {
   "cell_type": "markdown",
   "id": "8e2ad404-5b4f-4861-b1d5-4c65f935acfa",
   "metadata": {},
   "source": [
    "Para o metodo ***\".sort\"*** temos a organização automatica de uma lista em ordem numerica ou alfabética seja de frações ou texto, porém não funciona muito bem quanto contem ambos valores."
   ]
  },
  {
   "cell_type": "code",
   "execution_count": 52,
   "id": "a2e457cb-d0b2-42f1-bd34-8144e5c2f820",
   "metadata": {},
   "outputs": [],
   "source": [
    "list1 = [1, 2 ,3]\n",
    "list2 = [4, 5 , 6]\n",
    "list3 = [7, 8 , 9]"
   ]
  },
  {
   "cell_type": "code",
   "execution_count": 53,
   "id": "84c629ff-2681-454c-9896-579779a3a12a",
   "metadata": {},
   "outputs": [],
   "source": [
    "list4 = [list1 , list2 , list3]"
   ]
  },
  {
   "cell_type": "code",
   "execution_count": 54,
   "id": "f9bbe812-770b-492d-927e-c5d5d30e278e",
   "metadata": {},
   "outputs": [
    {
     "data": {
      "text/plain": [
       "[[1, 2, 3], [4, 5, 6], [7, 8, 9]]"
      ]
     },
     "execution_count": 54,
     "metadata": {},
     "output_type": "execute_result"
    }
   ],
   "source": [
    "list4"
   ]
  },
  {
   "cell_type": "markdown",
   "id": "ae651f57-4942-4b46-9046-9016d02ae84f",
   "metadata": {},
   "source": [
    "Nos casos de listas com listas internas se torna basicamente uma matriz vetorial de multiplas dimensões, então a cada vez você terá que especificar qual indice da lista e qual valor você deseja acessar como indice interno dessa lista secundária. **list4[0][0]** Especificando indice 0 (lista 1), indice 0 (valor 1). Uma lista de duas dimensões matemáticas."
   ]
  },
  {
   "cell_type": "code",
   "execution_count": 55,
   "id": "3d2cf21e-6130-44f2-97fc-1d5eb3b69669",
   "metadata": {},
   "outputs": [
    {
     "data": {
      "text/plain": [
       "5"
      ]
     },
     "execution_count": 55,
     "metadata": {},
     "output_type": "execute_result"
    }
   ],
   "source": [
    "list4[1][1]"
   ]
  },
  {
   "cell_type": "code",
   "execution_count": 56,
   "id": "485d717f-e56a-4f4a-9c92-5f9536f6a9a6",
   "metadata": {},
   "outputs": [
    {
     "data": {
      "text/plain": [
       "4"
      ]
     },
     "execution_count": 56,
     "metadata": {},
     "output_type": "execute_result"
    }
   ],
   "source": [
    "list4[1][0]"
   ]
  },
  {
   "cell_type": "code",
   "execution_count": 57,
   "id": "f77e8a95-3d34-42c0-9588-d67ca6c1cdb0",
   "metadata": {},
   "outputs": [
    {
     "data": {
      "text/plain": [
       "2"
      ]
     },
     "execution_count": 57,
     "metadata": {},
     "output_type": "execute_result"
    }
   ],
   "source": [
    "list4[0][1]"
   ]
  },
  {
   "cell_type": "code",
   "execution_count": 58,
   "id": "98db9a39-88b8-4537-9cc3-3d543c454cb3",
   "metadata": {},
   "outputs": [
    {
     "data": {
      "text/plain": [
       "1"
      ]
     },
     "execution_count": 58,
     "metadata": {},
     "output_type": "execute_result"
    }
   ],
   "source": [
    "list4[0][0]"
   ]
  },
  {
   "cell_type": "code",
   "execution_count": 59,
   "id": "cf61ed2a-ab2a-4836-afbd-71ed9a611d3c",
   "metadata": {},
   "outputs": [
    {
     "data": {
      "text/plain": [
       "8"
      ]
     },
     "execution_count": 59,
     "metadata": {},
     "output_type": "execute_result"
    }
   ],
   "source": [
    "list4[2][1]"
   ]
  },
  {
   "cell_type": "code",
   "execution_count": 60,
   "id": "32bcea03-6a35-4050-9a89-fe8331e84ec0",
   "metadata": {},
   "outputs": [
    {
     "data": {
      "text/plain": [
       "7"
      ]
     },
     "execution_count": 60,
     "metadata": {},
     "output_type": "execute_result"
    }
   ],
   "source": [
    "list4[2][0]"
   ]
  },
  {
   "cell_type": "code",
   "execution_count": null,
   "id": "2204f57b-4581-472b-a665-1edfbe672de0",
   "metadata": {},
   "outputs": [],
   "source": []
  }
 ],
 "metadata": {
  "kernelspec": {
   "display_name": "Python 3 (ipykernel)",
   "language": "python",
   "name": "python3"
  },
  "language_info": {
   "codemirror_mode": {
    "name": "ipython",
    "version": 3
   },
   "file_extension": ".py",
   "mimetype": "text/x-python",
   "name": "python",
   "nbconvert_exporter": "python",
   "pygments_lexer": "ipython3",
   "version": "3.10.9"
  }
 },
 "nbformat": 4,
 "nbformat_minor": 5
}

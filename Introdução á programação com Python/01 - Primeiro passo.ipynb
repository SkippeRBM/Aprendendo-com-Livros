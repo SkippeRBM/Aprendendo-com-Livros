{
 "cells": [
  {
   "cell_type": "markdown",
   "id": "681d5854-ffff-448e-b130-18e7b77188e9",
   "metadata": {},
   "source": [
    "# Primeiro passo em python\n",
    "A função print avisa para o programa que precisamos exibir algo em tela.\n",
    "em toda linguagem de programação sempre começamos por esse comando pois a ideia principal é ensinar ao programador a saida de seu programa, pois se ele não o fizer tudo será computado e não exibido."
   ]
  },
  {
   "cell_type": "code",
   "execution_count": 2,
   "id": "eeab7d60-329b-43f3-840a-6d168685a231",
   "metadata": {},
   "outputs": [
    {
     "name": "stdout",
     "output_type": "stream",
     "text": [
      "A benção pai, a benção mãe!\n"
     ]
    }
   ],
   "source": [
    "print(\"A benção pai, a benção mãe!\")"
   ]
  },
  {
   "cell_type": "code",
   "execution_count": 4,
   "id": "2da36126-94d0-4522-98c6-f652103bdcfc",
   "metadata": {},
   "outputs": [
    {
     "name": "stdout",
     "output_type": "stream",
     "text": [
      "Hello world\n"
     ]
    }
   ],
   "source": [
    "print(\"Hello world\")"
   ]
  },
  {
   "cell_type": "markdown",
   "id": "c082bbd0-d7e5-4b9e-b549-bf815bc12f16",
   "metadata": {},
   "source": [
    "As aspas servem para orientar o computador que deve ser lido como uma string(texto) e e o print faz com que o texto seja exibido para o usuário e não para leitura interna do computador."
   ]
  },
  {
   "cell_type": "markdown",
   "id": "bf3b5032",
   "metadata": {},
   "source": [
    "Em python tanto no jupyter lab ou tambem no vscode pode ser usado `print` apenas indicando o nome da variavel corretamente, ele ja ira exibir na tela os dados armazenados. EX:"
   ]
  },
  {
   "cell_type": "code",
   "execution_count": 2,
   "id": "6b4b688a",
   "metadata": {},
   "outputs": [
    {
     "data": {
      "text/plain": [
       "'Hello World'"
      ]
     },
     "execution_count": 2,
     "metadata": {},
     "output_type": "execute_result"
    }
   ],
   "source": [
    "exemplo = \"Hello World\"\n",
    "exemplo"
   ]
  }
 ],
 "metadata": {
  "kernelspec": {
   "display_name": "Python 3 (ipykernel)",
   "language": "python",
   "name": "python3"
  },
  "language_info": {
   "codemirror_mode": {
    "name": "ipython",
    "version": 3
   },
   "file_extension": ".py",
   "mimetype": "text/x-python",
   "name": "python",
   "nbconvert_exporter": "python",
   "pygments_lexer": "ipython3",
   "version": "3.10.9"
  }
 },
 "nbformat": 4,
 "nbformat_minor": 5
}
